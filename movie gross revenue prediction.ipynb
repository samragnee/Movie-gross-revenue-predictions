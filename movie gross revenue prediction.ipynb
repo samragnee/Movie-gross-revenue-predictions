{
 "cells": [
  {
   "cell_type": "code",
   "execution_count": 140,
   "id": "534e90ee",
   "metadata": {},
   "outputs": [],
   "source": [
    "import pandas as pd\n",
    "import numpy as np\n",
    "import seaborn as sns\n",
    "import matplotlib.pyplot as plt"
   ]
  },
  {
   "cell_type": "code",
   "execution_count": 141,
   "id": "b88b30d9",
   "metadata": {},
   "outputs": [],
   "source": [
    "df = pd.read_csv('train.csv')"
   ]
  },
  {
   "cell_type": "code",
   "execution_count": 142,
   "id": "658b5442",
   "metadata": {},
   "outputs": [
    {
     "data": {
      "text/html": [
       "<div>\n",
       "<style scoped>\n",
       "    .dataframe tbody tr th:only-of-type {\n",
       "        vertical-align: middle;\n",
       "    }\n",
       "\n",
       "    .dataframe tbody tr th {\n",
       "        vertical-align: top;\n",
       "    }\n",
       "\n",
       "    .dataframe thead th {\n",
       "        text-align: right;\n",
       "    }\n",
       "</style>\n",
       "<table border=\"1\" class=\"dataframe\">\n",
       "  <thead>\n",
       "    <tr style=\"text-align: right;\">\n",
       "      <th></th>\n",
       "      <th>id</th>\n",
       "      <th>belongs_to_collection</th>\n",
       "      <th>budget</th>\n",
       "      <th>genres</th>\n",
       "      <th>homepage</th>\n",
       "      <th>imdb_id</th>\n",
       "      <th>original_language</th>\n",
       "      <th>original_title</th>\n",
       "      <th>overview</th>\n",
       "      <th>popularity</th>\n",
       "      <th>...</th>\n",
       "      <th>release_date</th>\n",
       "      <th>runtime</th>\n",
       "      <th>spoken_languages</th>\n",
       "      <th>status</th>\n",
       "      <th>tagline</th>\n",
       "      <th>title</th>\n",
       "      <th>Keywords</th>\n",
       "      <th>cast</th>\n",
       "      <th>crew</th>\n",
       "      <th>revenue</th>\n",
       "    </tr>\n",
       "  </thead>\n",
       "  <tbody>\n",
       "    <tr>\n",
       "      <th>0</th>\n",
       "      <td>1</td>\n",
       "      <td>[{'id': 313576, 'name': 'Hot Tub Time Machine ...</td>\n",
       "      <td>14000000</td>\n",
       "      <td>[{'id': 35, 'name': 'Comedy'}]</td>\n",
       "      <td>NaN</td>\n",
       "      <td>tt2637294</td>\n",
       "      <td>en</td>\n",
       "      <td>Hot Tub Time Machine 2</td>\n",
       "      <td>When Lou, who has become the \"father of the In...</td>\n",
       "      <td>6.575393</td>\n",
       "      <td>...</td>\n",
       "      <td>2/20/15</td>\n",
       "      <td>93.0</td>\n",
       "      <td>[{'iso_639_1': 'en', 'name': 'English'}]</td>\n",
       "      <td>Released</td>\n",
       "      <td>The Laws of Space and Time are About to be Vio...</td>\n",
       "      <td>Hot Tub Time Machine 2</td>\n",
       "      <td>[{'id': 4379, 'name': 'time travel'}, {'id': 9...</td>\n",
       "      <td>[{'cast_id': 4, 'character': 'Lou', 'credit_id...</td>\n",
       "      <td>[{'credit_id': '59ac067c92514107af02c8c8', 'de...</td>\n",
       "      <td>12314651</td>\n",
       "    </tr>\n",
       "    <tr>\n",
       "      <th>1</th>\n",
       "      <td>2</td>\n",
       "      <td>[{'id': 107674, 'name': 'The Princess Diaries ...</td>\n",
       "      <td>40000000</td>\n",
       "      <td>[{'id': 35, 'name': 'Comedy'}, {'id': 18, 'nam...</td>\n",
       "      <td>NaN</td>\n",
       "      <td>tt0368933</td>\n",
       "      <td>en</td>\n",
       "      <td>The Princess Diaries 2: Royal Engagement</td>\n",
       "      <td>Mia Thermopolis is now a college graduate and ...</td>\n",
       "      <td>8.248895</td>\n",
       "      <td>...</td>\n",
       "      <td>8/6/04</td>\n",
       "      <td>113.0</td>\n",
       "      <td>[{'iso_639_1': 'en', 'name': 'English'}]</td>\n",
       "      <td>Released</td>\n",
       "      <td>It can take a lifetime to find true love; she'...</td>\n",
       "      <td>The Princess Diaries 2: Royal Engagement</td>\n",
       "      <td>[{'id': 2505, 'name': 'coronation'}, {'id': 42...</td>\n",
       "      <td>[{'cast_id': 1, 'character': 'Mia Thermopolis'...</td>\n",
       "      <td>[{'credit_id': '52fe43fe9251416c7502563d', 'de...</td>\n",
       "      <td>95149435</td>\n",
       "    </tr>\n",
       "    <tr>\n",
       "      <th>2</th>\n",
       "      <td>3</td>\n",
       "      <td>NaN</td>\n",
       "      <td>3300000</td>\n",
       "      <td>[{'id': 18, 'name': 'Drama'}]</td>\n",
       "      <td>http://sonyclassics.com/whiplash/</td>\n",
       "      <td>tt2582802</td>\n",
       "      <td>en</td>\n",
       "      <td>Whiplash</td>\n",
       "      <td>Under the direction of a ruthless instructor, ...</td>\n",
       "      <td>64.299990</td>\n",
       "      <td>...</td>\n",
       "      <td>10/10/14</td>\n",
       "      <td>105.0</td>\n",
       "      <td>[{'iso_639_1': 'en', 'name': 'English'}]</td>\n",
       "      <td>Released</td>\n",
       "      <td>The road to greatness can take you to the edge.</td>\n",
       "      <td>Whiplash</td>\n",
       "      <td>[{'id': 1416, 'name': 'jazz'}, {'id': 1523, 'n...</td>\n",
       "      <td>[{'cast_id': 5, 'character': 'Andrew Neimann',...</td>\n",
       "      <td>[{'credit_id': '54d5356ec3a3683ba0000039', 'de...</td>\n",
       "      <td>13092000</td>\n",
       "    </tr>\n",
       "    <tr>\n",
       "      <th>3</th>\n",
       "      <td>4</td>\n",
       "      <td>NaN</td>\n",
       "      <td>1200000</td>\n",
       "      <td>[{'id': 53, 'name': 'Thriller'}, {'id': 18, 'n...</td>\n",
       "      <td>http://kahaanithefilm.com/</td>\n",
       "      <td>tt1821480</td>\n",
       "      <td>hi</td>\n",
       "      <td>Kahaani</td>\n",
       "      <td>Vidya Bagchi (Vidya Balan) arrives in Kolkata ...</td>\n",
       "      <td>3.174936</td>\n",
       "      <td>...</td>\n",
       "      <td>3/9/12</td>\n",
       "      <td>122.0</td>\n",
       "      <td>[{'iso_639_1': 'en', 'name': 'English'}, {'iso...</td>\n",
       "      <td>Released</td>\n",
       "      <td>NaN</td>\n",
       "      <td>Kahaani</td>\n",
       "      <td>[{'id': 10092, 'name': 'mystery'}, {'id': 1054...</td>\n",
       "      <td>[{'cast_id': 1, 'character': 'Vidya Bagchi', '...</td>\n",
       "      <td>[{'credit_id': '52fe48779251416c9108d6eb', 'de...</td>\n",
       "      <td>16000000</td>\n",
       "    </tr>\n",
       "    <tr>\n",
       "      <th>4</th>\n",
       "      <td>5</td>\n",
       "      <td>NaN</td>\n",
       "      <td>0</td>\n",
       "      <td>[{'id': 28, 'name': 'Action'}, {'id': 53, 'nam...</td>\n",
       "      <td>NaN</td>\n",
       "      <td>tt1380152</td>\n",
       "      <td>ko</td>\n",
       "      <td>마린보이</td>\n",
       "      <td>Marine Boy is the story of a former national s...</td>\n",
       "      <td>1.148070</td>\n",
       "      <td>...</td>\n",
       "      <td>2/5/09</td>\n",
       "      <td>118.0</td>\n",
       "      <td>[{'iso_639_1': 'ko', 'name': '한국어/조선말'}]</td>\n",
       "      <td>Released</td>\n",
       "      <td>NaN</td>\n",
       "      <td>Marine Boy</td>\n",
       "      <td>NaN</td>\n",
       "      <td>[{'cast_id': 3, 'character': 'Chun-soo', 'cred...</td>\n",
       "      <td>[{'credit_id': '52fe464b9251416c75073b43', 'de...</td>\n",
       "      <td>3923970</td>\n",
       "    </tr>\n",
       "  </tbody>\n",
       "</table>\n",
       "<p>5 rows × 23 columns</p>\n",
       "</div>"
      ],
      "text/plain": [
       "   id                              belongs_to_collection    budget  \\\n",
       "0   1  [{'id': 313576, 'name': 'Hot Tub Time Machine ...  14000000   \n",
       "1   2  [{'id': 107674, 'name': 'The Princess Diaries ...  40000000   \n",
       "2   3                                                NaN   3300000   \n",
       "3   4                                                NaN   1200000   \n",
       "4   5                                                NaN         0   \n",
       "\n",
       "                                              genres  \\\n",
       "0                     [{'id': 35, 'name': 'Comedy'}]   \n",
       "1  [{'id': 35, 'name': 'Comedy'}, {'id': 18, 'nam...   \n",
       "2                      [{'id': 18, 'name': 'Drama'}]   \n",
       "3  [{'id': 53, 'name': 'Thriller'}, {'id': 18, 'n...   \n",
       "4  [{'id': 28, 'name': 'Action'}, {'id': 53, 'nam...   \n",
       "\n",
       "                            homepage    imdb_id original_language  \\\n",
       "0                                NaN  tt2637294                en   \n",
       "1                                NaN  tt0368933                en   \n",
       "2  http://sonyclassics.com/whiplash/  tt2582802                en   \n",
       "3         http://kahaanithefilm.com/  tt1821480                hi   \n",
       "4                                NaN  tt1380152                ko   \n",
       "\n",
       "                             original_title  \\\n",
       "0                    Hot Tub Time Machine 2   \n",
       "1  The Princess Diaries 2: Royal Engagement   \n",
       "2                                  Whiplash   \n",
       "3                                   Kahaani   \n",
       "4                                      마린보이   \n",
       "\n",
       "                                            overview  popularity  ...  \\\n",
       "0  When Lou, who has become the \"father of the In...    6.575393  ...   \n",
       "1  Mia Thermopolis is now a college graduate and ...    8.248895  ...   \n",
       "2  Under the direction of a ruthless instructor, ...   64.299990  ...   \n",
       "3  Vidya Bagchi (Vidya Balan) arrives in Kolkata ...    3.174936  ...   \n",
       "4  Marine Boy is the story of a former national s...    1.148070  ...   \n",
       "\n",
       "  release_date runtime                                   spoken_languages  \\\n",
       "0      2/20/15    93.0           [{'iso_639_1': 'en', 'name': 'English'}]   \n",
       "1       8/6/04   113.0           [{'iso_639_1': 'en', 'name': 'English'}]   \n",
       "2     10/10/14   105.0           [{'iso_639_1': 'en', 'name': 'English'}]   \n",
       "3       3/9/12   122.0  [{'iso_639_1': 'en', 'name': 'English'}, {'iso...   \n",
       "4       2/5/09   118.0           [{'iso_639_1': 'ko', 'name': '한국어/조선말'}]   \n",
       "\n",
       "     status                                            tagline  \\\n",
       "0  Released  The Laws of Space and Time are About to be Vio...   \n",
       "1  Released  It can take a lifetime to find true love; she'...   \n",
       "2  Released    The road to greatness can take you to the edge.   \n",
       "3  Released                                                NaN   \n",
       "4  Released                                                NaN   \n",
       "\n",
       "                                      title  \\\n",
       "0                    Hot Tub Time Machine 2   \n",
       "1  The Princess Diaries 2: Royal Engagement   \n",
       "2                                  Whiplash   \n",
       "3                                   Kahaani   \n",
       "4                                Marine Boy   \n",
       "\n",
       "                                            Keywords  \\\n",
       "0  [{'id': 4379, 'name': 'time travel'}, {'id': 9...   \n",
       "1  [{'id': 2505, 'name': 'coronation'}, {'id': 42...   \n",
       "2  [{'id': 1416, 'name': 'jazz'}, {'id': 1523, 'n...   \n",
       "3  [{'id': 10092, 'name': 'mystery'}, {'id': 1054...   \n",
       "4                                                NaN   \n",
       "\n",
       "                                                cast  \\\n",
       "0  [{'cast_id': 4, 'character': 'Lou', 'credit_id...   \n",
       "1  [{'cast_id': 1, 'character': 'Mia Thermopolis'...   \n",
       "2  [{'cast_id': 5, 'character': 'Andrew Neimann',...   \n",
       "3  [{'cast_id': 1, 'character': 'Vidya Bagchi', '...   \n",
       "4  [{'cast_id': 3, 'character': 'Chun-soo', 'cred...   \n",
       "\n",
       "                                                crew   revenue  \n",
       "0  [{'credit_id': '59ac067c92514107af02c8c8', 'de...  12314651  \n",
       "1  [{'credit_id': '52fe43fe9251416c7502563d', 'de...  95149435  \n",
       "2  [{'credit_id': '54d5356ec3a3683ba0000039', 'de...  13092000  \n",
       "3  [{'credit_id': '52fe48779251416c9108d6eb', 'de...  16000000  \n",
       "4  [{'credit_id': '52fe464b9251416c75073b43', 'de...   3923970  \n",
       "\n",
       "[5 rows x 23 columns]"
      ]
     },
     "execution_count": 142,
     "metadata": {},
     "output_type": "execute_result"
    }
   ],
   "source": [
    "df.head()"
   ]
  },
  {
   "cell_type": "code",
   "execution_count": 143,
   "id": "2b27409d",
   "metadata": {},
   "outputs": [
    {
     "data": {
      "text/plain": [
       "(3000, 23)"
      ]
     },
     "execution_count": 143,
     "metadata": {},
     "output_type": "execute_result"
    }
   ],
   "source": [
    "df.shape"
   ]
  },
  {
   "cell_type": "code",
   "execution_count": 144,
   "id": "5895b336",
   "metadata": {},
   "outputs": [
    {
     "data": {
      "text/plain": [
       "Index(['id', 'belongs_to_collection', 'budget', 'genres', 'homepage',\n",
       "       'imdb_id', 'original_language', 'original_title', 'overview',\n",
       "       'popularity', 'poster_path', 'production_companies',\n",
       "       'production_countries', 'release_date', 'runtime', 'spoken_languages',\n",
       "       'status', 'tagline', 'title', 'Keywords', 'cast', 'crew', 'revenue'],\n",
       "      dtype='object')"
      ]
     },
     "execution_count": 144,
     "metadata": {},
     "output_type": "execute_result"
    }
   ],
   "source": [
    "df.columns"
   ]
  },
  {
   "cell_type": "code",
   "execution_count": 145,
   "id": "7b90cbea",
   "metadata": {},
   "outputs": [
    {
     "name": "stdout",
     "output_type": "stream",
     "text": [
      "<class 'pandas.core.frame.DataFrame'>\n",
      "RangeIndex: 3000 entries, 0 to 2999\n",
      "Data columns (total 23 columns):\n",
      " #   Column                 Non-Null Count  Dtype  \n",
      "---  ------                 --------------  -----  \n",
      " 0   id                     3000 non-null   int64  \n",
      " 1   belongs_to_collection  604 non-null    object \n",
      " 2   budget                 3000 non-null   int64  \n",
      " 3   genres                 2993 non-null   object \n",
      " 4   homepage               946 non-null    object \n",
      " 5   imdb_id                3000 non-null   object \n",
      " 6   original_language      3000 non-null   object \n",
      " 7   original_title         3000 non-null   object \n",
      " 8   overview               2992 non-null   object \n",
      " 9   popularity             3000 non-null   float64\n",
      " 10  poster_path            2999 non-null   object \n",
      " 11  production_companies   2844 non-null   object \n",
      " 12  production_countries   2945 non-null   object \n",
      " 13  release_date           3000 non-null   object \n",
      " 14  runtime                2998 non-null   float64\n",
      " 15  spoken_languages       2980 non-null   object \n",
      " 16  status                 3000 non-null   object \n",
      " 17  tagline                2403 non-null   object \n",
      " 18  title                  3000 non-null   object \n",
      " 19  Keywords               2724 non-null   object \n",
      " 20  cast                   2987 non-null   object \n",
      " 21  crew                   2984 non-null   object \n",
      " 22  revenue                3000 non-null   int64  \n",
      "dtypes: float64(2), int64(3), object(18)\n",
      "memory usage: 539.2+ KB\n"
     ]
    }
   ],
   "source": [
    "df.info()"
   ]
  },
  {
   "cell_type": "code",
   "execution_count": 146,
   "id": "52a57e44",
   "metadata": {},
   "outputs": [
    {
     "data": {
      "text/plain": [
       "False"
      ]
     },
     "execution_count": 146,
     "metadata": {},
     "output_type": "execute_result"
    }
   ],
   "source": [
    "df.duplicated().any()"
   ]
  },
  {
   "cell_type": "code",
   "execution_count": 147,
   "id": "db7c653c",
   "metadata": {},
   "outputs": [
    {
     "data": {
      "text/plain": [
       "id                          0\n",
       "belongs_to_collection    2396\n",
       "budget                      0\n",
       "genres                      7\n",
       "homepage                 2054\n",
       "imdb_id                     0\n",
       "original_language           0\n",
       "original_title              0\n",
       "overview                    8\n",
       "popularity                  0\n",
       "poster_path                 1\n",
       "production_companies      156\n",
       "production_countries       55\n",
       "release_date                0\n",
       "runtime                     2\n",
       "spoken_languages           20\n",
       "status                      0\n",
       "tagline                   597\n",
       "title                       0\n",
       "Keywords                  276\n",
       "cast                       13\n",
       "crew                       16\n",
       "revenue                     0\n",
       "dtype: int64"
      ]
     },
     "execution_count": 147,
     "metadata": {},
     "output_type": "execute_result"
    }
   ],
   "source": [
    "df.isna().sum()"
   ]
  },
  {
   "cell_type": "code",
   "execution_count": 148,
   "id": "d25437f1",
   "metadata": {},
   "outputs": [],
   "source": [
    "df_imdb = pd.read_csv('output.csv')"
   ]
  },
  {
   "cell_type": "code",
   "execution_count": 149,
   "id": "dbc50356",
   "metadata": {},
   "outputs": [
    {
     "name": "stdout",
     "output_type": "stream",
     "text": [
      "<class 'pandas.core.frame.DataFrame'>\n",
      "RangeIndex: 1302937 entries, 0 to 1302936\n",
      "Data columns (total 3 columns):\n",
      " #   Column         Non-Null Count    Dtype  \n",
      "---  ------         --------------    -----  \n",
      " 0    tconst        1302937 non-null  object \n",
      " 1   averageRating  1302937 non-null  float64\n",
      " 2   numVotes       1302937 non-null  int64  \n",
      "dtypes: float64(1), int64(1), object(1)\n",
      "memory usage: 29.8+ MB\n"
     ]
    }
   ],
   "source": [
    "df_imdb.info()"
   ]
  },
  {
   "cell_type": "code",
   "execution_count": 150,
   "id": "68256e18",
   "metadata": {},
   "outputs": [
    {
     "data": {
      "text/plain": [
       "Index([' tconst', 'averageRating', 'numVotes'], dtype='object')"
      ]
     },
     "execution_count": 150,
     "metadata": {},
     "output_type": "execute_result"
    }
   ],
   "source": [
    "df_imdb.columns"
   ]
  },
  {
   "cell_type": "code",
   "execution_count": 151,
   "id": "4b40b42b",
   "metadata": {},
   "outputs": [],
   "source": [
    "df_imdb = df_imdb.rename(columns={\" tconst\": \"imdb_id\"})"
   ]
  },
  {
   "cell_type": "markdown",
   "id": "d76c2a66",
   "metadata": {},
   "source": [
    "To be in sync with our movie dataset let us rename the tconst column to imdb_id"
   ]
  },
  {
   "cell_type": "code",
   "execution_count": 152,
   "id": "cff6278b",
   "metadata": {},
   "outputs": [
    {
     "data": {
      "text/html": [
       "<div>\n",
       "<style scoped>\n",
       "    .dataframe tbody tr th:only-of-type {\n",
       "        vertical-align: middle;\n",
       "    }\n",
       "\n",
       "    .dataframe tbody tr th {\n",
       "        vertical-align: top;\n",
       "    }\n",
       "\n",
       "    .dataframe thead th {\n",
       "        text-align: right;\n",
       "    }\n",
       "</style>\n",
       "<table border=\"1\" class=\"dataframe\">\n",
       "  <thead>\n",
       "    <tr style=\"text-align: right;\">\n",
       "      <th></th>\n",
       "      <th>imdb_id</th>\n",
       "      <th>averageRating</th>\n",
       "      <th>numVotes</th>\n",
       "    </tr>\n",
       "  </thead>\n",
       "  <tbody>\n",
       "    <tr>\n",
       "      <th>0</th>\n",
       "      <td>tt0000001</td>\n",
       "      <td>5.7</td>\n",
       "      <td>1965</td>\n",
       "    </tr>\n",
       "    <tr>\n",
       "      <th>1</th>\n",
       "      <td>tt0000002</td>\n",
       "      <td>5.8</td>\n",
       "      <td>263</td>\n",
       "    </tr>\n",
       "    <tr>\n",
       "      <th>2</th>\n",
       "      <td>tt0000003</td>\n",
       "      <td>6.5</td>\n",
       "      <td>1809</td>\n",
       "    </tr>\n",
       "    <tr>\n",
       "      <th>3</th>\n",
       "      <td>tt0000004</td>\n",
       "      <td>5.6</td>\n",
       "      <td>178</td>\n",
       "    </tr>\n",
       "    <tr>\n",
       "      <th>4</th>\n",
       "      <td>tt0000005</td>\n",
       "      <td>6.2</td>\n",
       "      <td>2606</td>\n",
       "    </tr>\n",
       "  </tbody>\n",
       "</table>\n",
       "</div>"
      ],
      "text/plain": [
       "     imdb_id  averageRating  numVotes\n",
       "0  tt0000001            5.7      1965\n",
       "1  tt0000002            5.8       263\n",
       "2  tt0000003            6.5      1809\n",
       "3  tt0000004            5.6       178\n",
       "4  tt0000005            6.2      2606"
      ]
     },
     "execution_count": 152,
     "metadata": {},
     "output_type": "execute_result"
    }
   ],
   "source": [
    "df_imdb.head()"
   ]
  },
  {
   "cell_type": "markdown",
   "id": "b7e6bb97",
   "metadata": {},
   "source": [
    "Now we can merge the two databases based on imdb_id of our movie dataset and imdb dataset, so that we can get the imdb ratings and number of people who voted for each movie"
   ]
  },
  {
   "cell_type": "code",
   "execution_count": 153,
   "id": "bf5e8e73",
   "metadata": {},
   "outputs": [],
   "source": [
    "# merge the two dataframes on the 'imdb_id' column\n",
    "df = pd.merge(df, df_imdb, on='imdb_id')"
   ]
  },
  {
   "cell_type": "code",
   "execution_count": 154,
   "id": "625413ef",
   "metadata": {},
   "outputs": [
    {
     "data": {
      "text/html": [
       "<div>\n",
       "<style scoped>\n",
       "    .dataframe tbody tr th:only-of-type {\n",
       "        vertical-align: middle;\n",
       "    }\n",
       "\n",
       "    .dataframe tbody tr th {\n",
       "        vertical-align: top;\n",
       "    }\n",
       "\n",
       "    .dataframe thead th {\n",
       "        text-align: right;\n",
       "    }\n",
       "</style>\n",
       "<table border=\"1\" class=\"dataframe\">\n",
       "  <thead>\n",
       "    <tr style=\"text-align: right;\">\n",
       "      <th></th>\n",
       "      <th>id</th>\n",
       "      <th>belongs_to_collection</th>\n",
       "      <th>budget</th>\n",
       "      <th>genres</th>\n",
       "      <th>homepage</th>\n",
       "      <th>imdb_id</th>\n",
       "      <th>original_language</th>\n",
       "      <th>original_title</th>\n",
       "      <th>overview</th>\n",
       "      <th>popularity</th>\n",
       "      <th>...</th>\n",
       "      <th>spoken_languages</th>\n",
       "      <th>status</th>\n",
       "      <th>tagline</th>\n",
       "      <th>title</th>\n",
       "      <th>Keywords</th>\n",
       "      <th>cast</th>\n",
       "      <th>crew</th>\n",
       "      <th>revenue</th>\n",
       "      <th>averageRating</th>\n",
       "      <th>numVotes</th>\n",
       "    </tr>\n",
       "  </thead>\n",
       "  <tbody>\n",
       "    <tr>\n",
       "      <th>0</th>\n",
       "      <td>1</td>\n",
       "      <td>[{'id': 313576, 'name': 'Hot Tub Time Machine ...</td>\n",
       "      <td>14000000</td>\n",
       "      <td>[{'id': 35, 'name': 'Comedy'}]</td>\n",
       "      <td>NaN</td>\n",
       "      <td>tt2637294</td>\n",
       "      <td>en</td>\n",
       "      <td>Hot Tub Time Machine 2</td>\n",
       "      <td>When Lou, who has become the \"father of the In...</td>\n",
       "      <td>6.575393</td>\n",
       "      <td>...</td>\n",
       "      <td>[{'iso_639_1': 'en', 'name': 'English'}]</td>\n",
       "      <td>Released</td>\n",
       "      <td>The Laws of Space and Time are About to be Vio...</td>\n",
       "      <td>Hot Tub Time Machine 2</td>\n",
       "      <td>[{'id': 4379, 'name': 'time travel'}, {'id': 9...</td>\n",
       "      <td>[{'cast_id': 4, 'character': 'Lou', 'credit_id...</td>\n",
       "      <td>[{'credit_id': '59ac067c92514107af02c8c8', 'de...</td>\n",
       "      <td>12314651</td>\n",
       "      <td>5.0</td>\n",
       "      <td>40054</td>\n",
       "    </tr>\n",
       "    <tr>\n",
       "      <th>1</th>\n",
       "      <td>2</td>\n",
       "      <td>[{'id': 107674, 'name': 'The Princess Diaries ...</td>\n",
       "      <td>40000000</td>\n",
       "      <td>[{'id': 35, 'name': 'Comedy'}, {'id': 18, 'nam...</td>\n",
       "      <td>NaN</td>\n",
       "      <td>tt0368933</td>\n",
       "      <td>en</td>\n",
       "      <td>The Princess Diaries 2: Royal Engagement</td>\n",
       "      <td>Mia Thermopolis is now a college graduate and ...</td>\n",
       "      <td>8.248895</td>\n",
       "      <td>...</td>\n",
       "      <td>[{'iso_639_1': 'en', 'name': 'English'}]</td>\n",
       "      <td>Released</td>\n",
       "      <td>It can take a lifetime to find true love; she'...</td>\n",
       "      <td>The Princess Diaries 2: Royal Engagement</td>\n",
       "      <td>[{'id': 2505, 'name': 'coronation'}, {'id': 42...</td>\n",
       "      <td>[{'cast_id': 1, 'character': 'Mia Thermopolis'...</td>\n",
       "      <td>[{'credit_id': '52fe43fe9251416c7502563d', 'de...</td>\n",
       "      <td>95149435</td>\n",
       "      <td>5.8</td>\n",
       "      <td>84247</td>\n",
       "    </tr>\n",
       "    <tr>\n",
       "      <th>2</th>\n",
       "      <td>3</td>\n",
       "      <td>NaN</td>\n",
       "      <td>3300000</td>\n",
       "      <td>[{'id': 18, 'name': 'Drama'}]</td>\n",
       "      <td>http://sonyclassics.com/whiplash/</td>\n",
       "      <td>tt2582802</td>\n",
       "      <td>en</td>\n",
       "      <td>Whiplash</td>\n",
       "      <td>Under the direction of a ruthless instructor, ...</td>\n",
       "      <td>64.299990</td>\n",
       "      <td>...</td>\n",
       "      <td>[{'iso_639_1': 'en', 'name': 'English'}]</td>\n",
       "      <td>Released</td>\n",
       "      <td>The road to greatness can take you to the edge.</td>\n",
       "      <td>Whiplash</td>\n",
       "      <td>[{'id': 1416, 'name': 'jazz'}, {'id': 1523, 'n...</td>\n",
       "      <td>[{'cast_id': 5, 'character': 'Andrew Neimann',...</td>\n",
       "      <td>[{'credit_id': '54d5356ec3a3683ba0000039', 'de...</td>\n",
       "      <td>13092000</td>\n",
       "      <td>8.5</td>\n",
       "      <td>894940</td>\n",
       "    </tr>\n",
       "    <tr>\n",
       "      <th>3</th>\n",
       "      <td>4</td>\n",
       "      <td>NaN</td>\n",
       "      <td>1200000</td>\n",
       "      <td>[{'id': 53, 'name': 'Thriller'}, {'id': 18, 'n...</td>\n",
       "      <td>http://kahaanithefilm.com/</td>\n",
       "      <td>tt1821480</td>\n",
       "      <td>hi</td>\n",
       "      <td>Kahaani</td>\n",
       "      <td>Vidya Bagchi (Vidya Balan) arrives in Kolkata ...</td>\n",
       "      <td>3.174936</td>\n",
       "      <td>...</td>\n",
       "      <td>[{'iso_639_1': 'en', 'name': 'English'}, {'iso...</td>\n",
       "      <td>Released</td>\n",
       "      <td>NaN</td>\n",
       "      <td>Kahaani</td>\n",
       "      <td>[{'id': 10092, 'name': 'mystery'}, {'id': 1054...</td>\n",
       "      <td>[{'cast_id': 1, 'character': 'Vidya Bagchi', '...</td>\n",
       "      <td>[{'credit_id': '52fe48779251416c9108d6eb', 'de...</td>\n",
       "      <td>16000000</td>\n",
       "      <td>8.1</td>\n",
       "      <td>63858</td>\n",
       "    </tr>\n",
       "    <tr>\n",
       "      <th>4</th>\n",
       "      <td>5</td>\n",
       "      <td>NaN</td>\n",
       "      <td>0</td>\n",
       "      <td>[{'id': 28, 'name': 'Action'}, {'id': 53, 'nam...</td>\n",
       "      <td>NaN</td>\n",
       "      <td>tt1380152</td>\n",
       "      <td>ko</td>\n",
       "      <td>마린보이</td>\n",
       "      <td>Marine Boy is the story of a former national s...</td>\n",
       "      <td>1.148070</td>\n",
       "      <td>...</td>\n",
       "      <td>[{'iso_639_1': 'ko', 'name': '한국어/조선말'}]</td>\n",
       "      <td>Released</td>\n",
       "      <td>NaN</td>\n",
       "      <td>Marine Boy</td>\n",
       "      <td>NaN</td>\n",
       "      <td>[{'cast_id': 3, 'character': 'Chun-soo', 'cred...</td>\n",
       "      <td>[{'credit_id': '52fe464b9251416c75073b43', 'de...</td>\n",
       "      <td>3923970</td>\n",
       "      <td>5.7</td>\n",
       "      <td>321</td>\n",
       "    </tr>\n",
       "  </tbody>\n",
       "</table>\n",
       "<p>5 rows × 25 columns</p>\n",
       "</div>"
      ],
      "text/plain": [
       "   id                              belongs_to_collection    budget  \\\n",
       "0   1  [{'id': 313576, 'name': 'Hot Tub Time Machine ...  14000000   \n",
       "1   2  [{'id': 107674, 'name': 'The Princess Diaries ...  40000000   \n",
       "2   3                                                NaN   3300000   \n",
       "3   4                                                NaN   1200000   \n",
       "4   5                                                NaN         0   \n",
       "\n",
       "                                              genres  \\\n",
       "0                     [{'id': 35, 'name': 'Comedy'}]   \n",
       "1  [{'id': 35, 'name': 'Comedy'}, {'id': 18, 'nam...   \n",
       "2                      [{'id': 18, 'name': 'Drama'}]   \n",
       "3  [{'id': 53, 'name': 'Thriller'}, {'id': 18, 'n...   \n",
       "4  [{'id': 28, 'name': 'Action'}, {'id': 53, 'nam...   \n",
       "\n",
       "                            homepage    imdb_id original_language  \\\n",
       "0                                NaN  tt2637294                en   \n",
       "1                                NaN  tt0368933                en   \n",
       "2  http://sonyclassics.com/whiplash/  tt2582802                en   \n",
       "3         http://kahaanithefilm.com/  tt1821480                hi   \n",
       "4                                NaN  tt1380152                ko   \n",
       "\n",
       "                             original_title  \\\n",
       "0                    Hot Tub Time Machine 2   \n",
       "1  The Princess Diaries 2: Royal Engagement   \n",
       "2                                  Whiplash   \n",
       "3                                   Kahaani   \n",
       "4                                      마린보이   \n",
       "\n",
       "                                            overview  popularity  ...  \\\n",
       "0  When Lou, who has become the \"father of the In...    6.575393  ...   \n",
       "1  Mia Thermopolis is now a college graduate and ...    8.248895  ...   \n",
       "2  Under the direction of a ruthless instructor, ...   64.299990  ...   \n",
       "3  Vidya Bagchi (Vidya Balan) arrives in Kolkata ...    3.174936  ...   \n",
       "4  Marine Boy is the story of a former national s...    1.148070  ...   \n",
       "\n",
       "                                    spoken_languages    status  \\\n",
       "0           [{'iso_639_1': 'en', 'name': 'English'}]  Released   \n",
       "1           [{'iso_639_1': 'en', 'name': 'English'}]  Released   \n",
       "2           [{'iso_639_1': 'en', 'name': 'English'}]  Released   \n",
       "3  [{'iso_639_1': 'en', 'name': 'English'}, {'iso...  Released   \n",
       "4           [{'iso_639_1': 'ko', 'name': '한국어/조선말'}]  Released   \n",
       "\n",
       "                                             tagline  \\\n",
       "0  The Laws of Space and Time are About to be Vio...   \n",
       "1  It can take a lifetime to find true love; she'...   \n",
       "2    The road to greatness can take you to the edge.   \n",
       "3                                                NaN   \n",
       "4                                                NaN   \n",
       "\n",
       "                                      title  \\\n",
       "0                    Hot Tub Time Machine 2   \n",
       "1  The Princess Diaries 2: Royal Engagement   \n",
       "2                                  Whiplash   \n",
       "3                                   Kahaani   \n",
       "4                                Marine Boy   \n",
       "\n",
       "                                            Keywords  \\\n",
       "0  [{'id': 4379, 'name': 'time travel'}, {'id': 9...   \n",
       "1  [{'id': 2505, 'name': 'coronation'}, {'id': 42...   \n",
       "2  [{'id': 1416, 'name': 'jazz'}, {'id': 1523, 'n...   \n",
       "3  [{'id': 10092, 'name': 'mystery'}, {'id': 1054...   \n",
       "4                                                NaN   \n",
       "\n",
       "                                                cast  \\\n",
       "0  [{'cast_id': 4, 'character': 'Lou', 'credit_id...   \n",
       "1  [{'cast_id': 1, 'character': 'Mia Thermopolis'...   \n",
       "2  [{'cast_id': 5, 'character': 'Andrew Neimann',...   \n",
       "3  [{'cast_id': 1, 'character': 'Vidya Bagchi', '...   \n",
       "4  [{'cast_id': 3, 'character': 'Chun-soo', 'cred...   \n",
       "\n",
       "                                                crew   revenue averageRating  \\\n",
       "0  [{'credit_id': '59ac067c92514107af02c8c8', 'de...  12314651           5.0   \n",
       "1  [{'credit_id': '52fe43fe9251416c7502563d', 'de...  95149435           5.8   \n",
       "2  [{'credit_id': '54d5356ec3a3683ba0000039', 'de...  13092000           8.5   \n",
       "3  [{'credit_id': '52fe48779251416c9108d6eb', 'de...  16000000           8.1   \n",
       "4  [{'credit_id': '52fe464b9251416c75073b43', 'de...   3923970           5.7   \n",
       "\n",
       "  numVotes  \n",
       "0    40054  \n",
       "1    84247  \n",
       "2   894940  \n",
       "3    63858  \n",
       "4      321  \n",
       "\n",
       "[5 rows x 25 columns]"
      ]
     },
     "execution_count": 154,
     "metadata": {},
     "output_type": "execute_result"
    }
   ],
   "source": [
    "df.head() #now we can see the averageRating and numVotes for each movie"
   ]
  },
  {
   "cell_type": "code",
   "execution_count": 155,
   "id": "1073540e",
   "metadata": {},
   "outputs": [],
   "source": [
    "df['release date'] = pd.to_datetime(df['release_date'])"
   ]
  },
  {
   "cell_type": "code",
   "execution_count": 156,
   "id": "2225460e",
   "metadata": {},
   "outputs": [
    {
     "data": {
      "text/html": [
       "<div>\n",
       "<style scoped>\n",
       "    .dataframe tbody tr th:only-of-type {\n",
       "        vertical-align: middle;\n",
       "    }\n",
       "\n",
       "    .dataframe tbody tr th {\n",
       "        vertical-align: top;\n",
       "    }\n",
       "\n",
       "    .dataframe thead th {\n",
       "        text-align: right;\n",
       "    }\n",
       "</style>\n",
       "<table border=\"1\" class=\"dataframe\">\n",
       "  <thead>\n",
       "    <tr style=\"text-align: right;\">\n",
       "      <th></th>\n",
       "      <th>id</th>\n",
       "      <th>budget</th>\n",
       "      <th>popularity</th>\n",
       "      <th>runtime</th>\n",
       "      <th>revenue</th>\n",
       "      <th>averageRating</th>\n",
       "      <th>numVotes</th>\n",
       "    </tr>\n",
       "  </thead>\n",
       "  <tbody>\n",
       "    <tr>\n",
       "      <th>id</th>\n",
       "      <td>1.000000</td>\n",
       "      <td>0.019471</td>\n",
       "      <td>-0.007762</td>\n",
       "      <td>0.010576</td>\n",
       "      <td>0.000397</td>\n",
       "      <td>-0.010456</td>\n",
       "      <td>-0.024184</td>\n",
       "    </tr>\n",
       "    <tr>\n",
       "      <th>budget</th>\n",
       "      <td>0.019471</td>\n",
       "      <td>1.000000</td>\n",
       "      <td>0.342268</td>\n",
       "      <td>0.238313</td>\n",
       "      <td>0.752942</td>\n",
       "      <td>0.015069</td>\n",
       "      <td>0.460598</td>\n",
       "    </tr>\n",
       "    <tr>\n",
       "      <th>popularity</th>\n",
       "      <td>-0.007762</td>\n",
       "      <td>0.342268</td>\n",
       "      <td>1.000000</td>\n",
       "      <td>0.133615</td>\n",
       "      <td>0.461406</td>\n",
       "      <td>0.159694</td>\n",
       "      <td>0.453568</td>\n",
       "    </tr>\n",
       "    <tr>\n",
       "      <th>runtime</th>\n",
       "      <td>0.010576</td>\n",
       "      <td>0.238313</td>\n",
       "      <td>0.133615</td>\n",
       "      <td>1.000000</td>\n",
       "      <td>0.216330</td>\n",
       "      <td>0.346359</td>\n",
       "      <td>0.246722</td>\n",
       "    </tr>\n",
       "    <tr>\n",
       "      <th>revenue</th>\n",
       "      <td>0.000397</td>\n",
       "      <td>0.752942</td>\n",
       "      <td>0.461406</td>\n",
       "      <td>0.216330</td>\n",
       "      <td>1.000000</td>\n",
       "      <td>0.156484</td>\n",
       "      <td>0.627491</td>\n",
       "    </tr>\n",
       "    <tr>\n",
       "      <th>averageRating</th>\n",
       "      <td>-0.010456</td>\n",
       "      <td>0.015069</td>\n",
       "      <td>0.159694</td>\n",
       "      <td>0.346359</td>\n",
       "      <td>0.156484</td>\n",
       "      <td>1.000000</td>\n",
       "      <td>0.385352</td>\n",
       "    </tr>\n",
       "    <tr>\n",
       "      <th>numVotes</th>\n",
       "      <td>-0.024184</td>\n",
       "      <td>0.460598</td>\n",
       "      <td>0.453568</td>\n",
       "      <td>0.246722</td>\n",
       "      <td>0.627491</td>\n",
       "      <td>0.385352</td>\n",
       "      <td>1.000000</td>\n",
       "    </tr>\n",
       "  </tbody>\n",
       "</table>\n",
       "</div>"
      ],
      "text/plain": [
       "                     id    budget  popularity   runtime   revenue  \\\n",
       "id             1.000000  0.019471   -0.007762  0.010576  0.000397   \n",
       "budget         0.019471  1.000000    0.342268  0.238313  0.752942   \n",
       "popularity    -0.007762  0.342268    1.000000  0.133615  0.461406   \n",
       "runtime        0.010576  0.238313    0.133615  1.000000  0.216330   \n",
       "revenue        0.000397  0.752942    0.461406  0.216330  1.000000   \n",
       "averageRating -0.010456  0.015069    0.159694  0.346359  0.156484   \n",
       "numVotes      -0.024184  0.460598    0.453568  0.246722  0.627491   \n",
       "\n",
       "               averageRating  numVotes  \n",
       "id                 -0.010456 -0.024184  \n",
       "budget              0.015069  0.460598  \n",
       "popularity          0.159694  0.453568  \n",
       "runtime             0.346359  0.246722  \n",
       "revenue             0.156484  0.627491  \n",
       "averageRating       1.000000  0.385352  \n",
       "numVotes            0.385352  1.000000  "
      ]
     },
     "execution_count": 156,
     "metadata": {},
     "output_type": "execute_result"
    }
   ],
   "source": [
    "df.corr()"
   ]
  },
  {
   "cell_type": "code",
   "execution_count": 157,
   "id": "93000a02",
   "metadata": {},
   "outputs": [
    {
     "data": {
      "text/plain": [
       "<AxesSubplot:>"
      ]
     },
     "execution_count": 157,
     "metadata": {},
     "output_type": "execute_result"
    },
    {
     "data": {
      "image/png": "[encoded data removed]",
      "text/plain": [
       "<Figure size 432x288 with 2 Axes>"
      ]
     },
     "metadata": {
      "needs_background": "light"
     },
     "output_type": "display_data"
    }
   ],
   "source": [
    "sns.heatmap(df.corr(),annot = True)"
   ]
  },
  {
   "cell_type": "code",
   "execution_count": 158,
   "id": "7a2ca314",
   "metadata": {},
   "outputs": [
    {
     "name": "stdout",
     "output_type": "stream",
     "text": [
      "Rows with zero budget: 811\n",
      "Rows with zero revenue: 0\n"
     ]
    }
   ],
   "source": [
    "#now our main columns are budget and revenue, so we need to check the rows with zero values in budget and revenuw column\n",
    "\n",
    "print('Rows with zero budget:',df[df['budget'] == 0].shape[0])\n",
    "print('Rows with zero revenue:',df[df['revenue'] == 0].shape[0])\n"
   ]
  },
  {
   "cell_type": "markdown",
   "id": "e28db243",
   "metadata": {},
   "source": [
    "So we need to fill the 0 budget columns with proper value"
   ]
  },
  {
   "cell_type": "code",
   "execution_count": 159,
   "id": "6077200f",
   "metadata": {},
   "outputs": [
    {
     "data": {
      "text/plain": [
       "<seaborn.axisgrid.FacetGrid at 0x7ff4c0e243d0>"
      ]
     },
     "execution_count": 159,
     "metadata": {},
     "output_type": "execute_result"
    },
    {
     "data": {
      "image/png": "[encoded data removed]",
      "text/plain": [
       "<Figure size 360x360 with 1 Axes>"
      ]
     },
     "metadata": {
      "needs_background": "light"
     },
     "output_type": "display_data"
    },
    {
     "data": {
      "image/png": "[encoded data removed]",
      "text/plain": [
       "<Figure size 360x360 with 1 Axes>"
      ]
     },
     "metadata": {
      "needs_background": "light"
     },
     "output_type": "display_data"
    }
   ],
   "source": [
    "sns.displot(df.revenue)\n",
    "sns.displot(df.budget)"
   ]
  },
  {
   "cell_type": "markdown",
   "id": "921d234c",
   "metadata": {},
   "source": [
    "We can see that this data is very skewed and therefore it is difficult to draw conclusion from this graph.we knew to normalise this data."
   ]
  },
  {
   "cell_type": "markdown",
   "id": "aba98961",
   "metadata": {},
   "source": [
    "Why skewed data is not good fit for modeling in Linear Regression ?\n",
    "\n",
    "Because they may act as an outlier ,and we know that outlier is not good for our model performance.\n",
    "They have un even mean,median , mode and by law of large number, normal distribution allows the researcher to make more accurate predictions.\n",
    "To linearize the fit as much as possible.\n",
    "Statistical test are usually based on the assumption of normality(normal distribution).\n",
    "\n",
    "The log transformation, a widely used method to address skewed data, is one of the most popular transformations used in research.There fore we will be using log transformation in reveune."
   ]
  },
  {
   "cell_type": "code",
   "execution_count": 160,
   "id": "237f2c6d",
   "metadata": {},
   "outputs": [],
   "source": [
    "df['log_revenue'] = np.log1p(df['revenue'])"
   ]
  },
  {
   "cell_type": "code",
   "execution_count": 161,
   "id": "4a21fd25",
   "metadata": {},
   "outputs": [
    {
     "data": {
      "text/plain": [
       "<seaborn.axisgrid.FacetGrid at 0x7ff50265beb0>"
      ]
     },
     "execution_count": 161,
     "metadata": {},
     "output_type": "execute_result"
    },
    {
     "data": {
      "image/png": "[encoded data removed]",
      "text/plain": [
       "<Figure size 360x360 with 1 Axes>"
      ]
     },
     "metadata": {
      "needs_background": "light"
     },
     "output_type": "display_data"
    }
   ],
   "source": [
    "sns.displot(df.log_revenue)"
   ]
  },
  {
   "cell_type": "markdown",
   "id": "f1c74361",
   "metadata": {},
   "source": [
    "We can see that orginal distribution i.e (one without log) is extremely skewed. We used log transformation method and made data normally distribution which has less skeweness and kurtosis."
   ]
  },
  {
   "cell_type": "code",
   "execution_count": 162,
   "id": "d0929535",
   "metadata": {},
   "outputs": [],
   "source": [
    "#now let us find the relationship between budget and revenue\n",
    "df['log_budget'] = np.log1p(df.budget)"
   ]
  },
  {
   "cell_type": "code",
   "execution_count": 163,
   "id": "d1360d02",
   "metadata": {},
   "outputs": [
    {
     "data": {
      "text/plain": [
       "<seaborn.axisgrid.FacetGrid at 0x7ff5355a1bb0>"
      ]
     },
     "execution_count": 163,
     "metadata": {},
     "output_type": "execute_result"
    },
    {
     "data": {
      "image/png": "[encoded data removed]",
      "text/plain": [
       "<Figure size 360x360 with 1 Axes>"
      ]
     },
     "metadata": {
      "needs_background": "light"
     },
     "output_type": "display_data"
    }
   ],
   "source": [
    "sns.displot(df.log_budget)"
   ]
  },
  {
   "cell_type": "code",
   "execution_count": 164,
   "id": "41e97d10",
   "metadata": {},
   "outputs": [
    {
     "data": {
      "text/plain": [
       "<AxesSubplot:xlabel='budget', ylabel='revenue'>"
      ]
     },
     "execution_count": 164,
     "metadata": {},
     "output_type": "execute_result"
    },
    {
     "data": {
      "image/png": "[encoded data removed]",
      "text/plain": [
       "<Figure size 432x288 with 1 Axes>"
      ]
     },
     "metadata": {
      "needs_background": "light"
     },
     "output_type": "display_data"
    }
   ],
   "source": [
    "#scatterplot to visulalize the distribution\n",
    "sns.scatterplot(x=df.budget, y = df.revenue, data = df)\n",
    "sns.scatterplot(x=df.log_budget, y = df.log_revenue, data = df)"
   ]
  },
  {
   "cell_type": "markdown",
   "id": "036f07b4",
   "metadata": {},
   "source": [
    "Fig(1) : we can see that they are some what correlation beween budget and revenue, but we are not clear.\n",
    "\n",
    "Fig(2) how ever indicates that there is correlation between both variable that is log transformation of reveune and log transformation of budget.\n",
    "\n",
    "We can also see many movies on zero budget as we identified there were 815 movie that has zero budget which we will clear later."
   ]
  },
  {
   "cell_type": "markdown",
   "id": "628037e6",
   "metadata": {},
   "source": [
    "Is there any relationship with Homepage and Revenue?\n",
    "\n",
    "Let's find out the correlation between two variable. We are more interested on answering if having official homepage for movie affects Reveune or not.\n",
    "\n",
    "We all know that home page will be unique for each movie. Means differnet movie has different home page except the movie that has sequel/prequel."
   ]
  },
  {
   "cell_type": "code",
   "execution_count": 165,
   "id": "4213f647",
   "metadata": {},
   "outputs": [
    {
     "data": {
      "text/plain": [
       "http://www.transformersmovie.com/                      4\n",
       "http://www.thehobbit.com/                              2\n",
       "http://www.lordoftherings.net/                         2\n",
       "http://sonyclassics.com/whiplash/                      1\n",
       "https://www.facebook.com/thefinesthoursmovie           1\n",
       "http://sonyclassics.com/pariscanwait/                  1\n",
       "http://www.maxpaynethemovie.com                        1\n",
       "http://www.sonypictures.com/movies/afewgoodmen/        1\n",
       "http://www.theasylum.cc/product.php?id=203             1\n",
       "http://www.miramax.com/movie/the-cider-house-rules/    1\n",
       "Name: homepage, dtype: int64"
      ]
     },
     "execution_count": 165,
     "metadata": {},
     "output_type": "execute_result"
    }
   ],
   "source": [
    "df['homepage'].value_counts().head(10)"
   ]
  },
  {
   "cell_type": "markdown",
   "id": "cbd882d5",
   "metadata": {},
   "source": [
    "we can see that transformers movies web page is listed 4 times which is obivous because we are all aware that this movie has sequel. Same goes with lord of the rings and hobits.\n",
    "\n",
    "Let's find if having home page affects revenue or not. And for that lets first find out movies has home page or not."
   ]
  },
  {
   "cell_type": "code",
   "execution_count": 166,
   "id": "115d105e",
   "metadata": {},
   "outputs": [],
   "source": [
    "df['has_homepage'] = 0"
   ]
  },
  {
   "cell_type": "code",
   "execution_count": 167,
   "id": "9c946c3c",
   "metadata": {},
   "outputs": [],
   "source": [
    "df.loc[df.homepage.isnull() == False , 'has_homepage'] =1"
   ]
  },
  {
   "cell_type": "code",
   "execution_count": 168,
   "id": "e237b834",
   "metadata": {},
   "outputs": [
    {
     "data": {
      "text/plain": [
       "<seaborn.axisgrid.FacetGrid at 0x7ff4e17532e0>"
      ]
     },
     "execution_count": 168,
     "metadata": {},
     "output_type": "execute_result"
    },
    {
     "data": {
      "image/png": "[encoded data removed]",
      "text/plain": [
       "<Figure size 360x360 with 1 Axes>"
      ]
     },
     "metadata": {
      "needs_background": "light"
     },
     "output_type": "display_data"
    }
   ],
   "source": [
    "#since homepage is categorical value lets use catplot\n",
    "sns.catplot(x='has_homepage', y = 'revenue', data = df)"
   ]
  },
  {
   "cell_type": "markdown",
   "id": "d92688ec",
   "metadata": {},
   "source": [
    "From the above fig we can see that movie that has home page (indicated by blue) has more revenue compared to the movie that has no home page. From this scatterplot we can say that they may be correlated."
   ]
  },
  {
   "cell_type": "code",
   "execution_count": 169,
   "id": "1521ece2",
   "metadata": {},
   "outputs": [
    {
     "data": {
      "text/plain": [
       "en    2574\n",
       "fr      78\n",
       "ru      47\n",
       "es      43\n",
       "hi      42\n",
       "ja      37\n",
       "it      24\n",
       "cn      20\n",
       "ko      20\n",
       "zh      19\n",
       "Name: original_language, dtype: int64"
      ]
     },
     "execution_count": 169,
     "metadata": {},
     "output_type": "execute_result"
    }
   ],
   "source": [
    "df['original_language'].value_counts().head(10)\n"
   ]
  },
  {
   "cell_type": "markdown",
   "id": "d10723e8",
   "metadata": {},
   "source": [
    "From the dataset we find there are 36 unique languages in the dataset we will choose the top 10 frequent langauges."
   ]
  },
  {
   "cell_type": "markdown",
   "id": "ef5d9246",
   "metadata": {},
   "source": [
    "Langauge distribution vs mean reveune\n",
    "\n",
    "Let's find out the relationship between language and revenue .We will be calcualting top 10 langauge from the data frame and will be selecting langauage which is in df orginale_langauge. Here we will be using box plot as box plot is very useful for identifying outlier."
   ]
  },
  {
   "cell_type": "code",
   "execution_count": 170,
   "id": "d1066696",
   "metadata": {},
   "outputs": [],
   "source": [
    "#let's calculate the mean revenue pe9r language\n",
    "df.original_language.value_counts().head(10)\n",
    "data = df.loc[df['original_language'].isin(df['original_language'].value_counts().head(10).index)];\n"
   ]
  },
  {
   "cell_type": "code",
   "execution_count": 171,
   "id": "47241f0c",
   "metadata": {},
   "outputs": [
    {
     "data": {
      "image/png": "[encoded data removed]",
      "text/plain": [
       "<Figure size 1152x576 with 2 Axes>"
      ]
     },
     "metadata": {
      "needs_background": "light"
     },
     "output_type": "display_data"
    }
   ],
   "source": [
    "#we will be using blox pot\n",
    "plt.figure(figsize=(16, 8))\n",
    "plt.subplot(1, 2, 1)\n",
    "sns.boxplot(x='original_language', y='revenue', data=df.loc[df['original_language'].isin(df['original_language'].value_counts().head(10).index)]);\n",
    "plt.title('Mean revenue per language fig_1');\n",
    "plt.subplot(1, 2, 2)\n",
    "sns.boxplot(x='original_language', y='log_revenue', data=df.loc[df['original_language'].isin(df['original_language'].value_counts().head(10).index)]);\n",
    "plt.title('Mean log revenue per language fig_2');"
   ]
  },
  {
   "cell_type": "markdown",
   "id": "e39a954e",
   "metadata": {},
   "source": [
    "From the fig_1 we can see that x-axis indicated langaue plotted. We can see that english language has higher revenue by far margin compared to toher\n",
    "lagnguage. This graph also says us that english language over shadowed all other language in terms of revenue. This information may be quite incorrect and mis leading. Lets see fig_2 for more details\n",
    "\n",
    "From the fig_2 : We can see that orginal langauge vs log transformation of revenue and we can see that other language are also creating revenue near english language . How ever it's english language movie that is leading."
   ]
  },
  {
   "cell_type": "markdown",
   "id": "28d48084",
   "metadata": {},
   "source": [
    "So we can clearly say that revenue is affected by original language of the movie so we should consider using frequency encoding on this categorical data"
   ]
  },
  {
   "cell_type": "code",
   "execution_count": 172,
   "id": "2b97a1d9",
   "metadata": {},
   "outputs": [],
   "source": [
    "#Count the frequency of each language in the original_language column\n",
    "language_counts = df['original_language'].value_counts()"
   ]
  },
  {
   "cell_type": "code",
   "execution_count": 173,
   "id": "c5d1ea2d",
   "metadata": {},
   "outputs": [],
   "source": [
    "#Create a dictionary that maps each language to its frequency\n",
    "language_freq = {}\n",
    "for language, count in language_counts.items():\n",
    "    language_freq[language] = count"
   ]
  },
  {
   "cell_type": "code",
   "execution_count": 174,
   "id": "e3dc4da8",
   "metadata": {},
   "outputs": [],
   "source": [
    "#Replace each language in the original_language column with its frequency using the map() method.\n",
    "df['language_freq'] = df['original_language'].map(language_freq)"
   ]
  },
  {
   "cell_type": "code",
   "execution_count": 175,
   "id": "14ebc914",
   "metadata": {},
   "outputs": [],
   "source": [
    "df.drop('original_language', axis=1, inplace=True)\n"
   ]
  },
  {
   "cell_type": "code",
   "execution_count": 176,
   "id": "dc2cb7b4",
   "metadata": {
    "scrolled": true
   },
   "outputs": [
    {
     "data": {
      "text/html": [
       "<div>\n",
       "<style scoped>\n",
       "    .dataframe tbody tr th:only-of-type {\n",
       "        vertical-align: middle;\n",
       "    }\n",
       "\n",
       "    .dataframe tbody tr th {\n",
       "        vertical-align: top;\n",
       "    }\n",
       "\n",
       "    .dataframe thead th {\n",
       "        text-align: right;\n",
       "    }\n",
       "</style>\n",
       "<table border=\"1\" class=\"dataframe\">\n",
       "  <thead>\n",
       "    <tr style=\"text-align: right;\">\n",
       "      <th></th>\n",
       "      <th>id</th>\n",
       "      <th>belongs_to_collection</th>\n",
       "      <th>budget</th>\n",
       "      <th>genres</th>\n",
       "      <th>homepage</th>\n",
       "      <th>imdb_id</th>\n",
       "      <th>original_title</th>\n",
       "      <th>overview</th>\n",
       "      <th>popularity</th>\n",
       "      <th>poster_path</th>\n",
       "      <th>...</th>\n",
       "      <th>cast</th>\n",
       "      <th>crew</th>\n",
       "      <th>revenue</th>\n",
       "      <th>averageRating</th>\n",
       "      <th>numVotes</th>\n",
       "      <th>release date</th>\n",
       "      <th>log_revenue</th>\n",
       "      <th>log_budget</th>\n",
       "      <th>has_homepage</th>\n",
       "      <th>language_freq</th>\n",
       "    </tr>\n",
       "  </thead>\n",
       "  <tbody>\n",
       "    <tr>\n",
       "      <th>0</th>\n",
       "      <td>1</td>\n",
       "      <td>[{'id': 313576, 'name': 'Hot Tub Time Machine ...</td>\n",
       "      <td>14000000</td>\n",
       "      <td>[{'id': 35, 'name': 'Comedy'}]</td>\n",
       "      <td>NaN</td>\n",
       "      <td>tt2637294</td>\n",
       "      <td>Hot Tub Time Machine 2</td>\n",
       "      <td>When Lou, who has become the \"father of the In...</td>\n",
       "      <td>6.575393</td>\n",
       "      <td>/tQtWuwvMf0hCc2QR2tkolwl7c3c.jpg</td>\n",
       "      <td>...</td>\n",
       "      <td>[{'cast_id': 4, 'character': 'Lou', 'credit_id...</td>\n",
       "      <td>[{'credit_id': '59ac067c92514107af02c8c8', 'de...</td>\n",
       "      <td>12314651</td>\n",
       "      <td>5.0</td>\n",
       "      <td>40054</td>\n",
       "      <td>2015-02-20</td>\n",
       "      <td>16.326300</td>\n",
       "      <td>16.454568</td>\n",
       "      <td>0</td>\n",
       "      <td>2574</td>\n",
       "    </tr>\n",
       "    <tr>\n",
       "      <th>1</th>\n",
       "      <td>2</td>\n",
       "      <td>[{'id': 107674, 'name': 'The Princess Diaries ...</td>\n",
       "      <td>40000000</td>\n",
       "      <td>[{'id': 35, 'name': 'Comedy'}, {'id': 18, 'nam...</td>\n",
       "      <td>NaN</td>\n",
       "      <td>tt0368933</td>\n",
       "      <td>The Princess Diaries 2: Royal Engagement</td>\n",
       "      <td>Mia Thermopolis is now a college graduate and ...</td>\n",
       "      <td>8.248895</td>\n",
       "      <td>/w9Z7A0GHEhIp7etpj0vyKOeU1Wx.jpg</td>\n",
       "      <td>...</td>\n",
       "      <td>[{'cast_id': 1, 'character': 'Mia Thermopolis'...</td>\n",
       "      <td>[{'credit_id': '52fe43fe9251416c7502563d', 'de...</td>\n",
       "      <td>95149435</td>\n",
       "      <td>5.8</td>\n",
       "      <td>84247</td>\n",
       "      <td>2004-08-06</td>\n",
       "      <td>18.370959</td>\n",
       "      <td>17.504390</td>\n",
       "      <td>0</td>\n",
       "      <td>2574</td>\n",
       "    </tr>\n",
       "    <tr>\n",
       "      <th>2</th>\n",
       "      <td>3</td>\n",
       "      <td>NaN</td>\n",
       "      <td>3300000</td>\n",
       "      <td>[{'id': 18, 'name': 'Drama'}]</td>\n",
       "      <td>http://sonyclassics.com/whiplash/</td>\n",
       "      <td>tt2582802</td>\n",
       "      <td>Whiplash</td>\n",
       "      <td>Under the direction of a ruthless instructor, ...</td>\n",
       "      <td>64.299990</td>\n",
       "      <td>/lIv1QinFqz4dlp5U4lQ6HaiskOZ.jpg</td>\n",
       "      <td>...</td>\n",
       "      <td>[{'cast_id': 5, 'character': 'Andrew Neimann',...</td>\n",
       "      <td>[{'credit_id': '54d5356ec3a3683ba0000039', 'de...</td>\n",
       "      <td>13092000</td>\n",
       "      <td>8.5</td>\n",
       "      <td>894940</td>\n",
       "      <td>2014-10-10</td>\n",
       "      <td>16.387512</td>\n",
       "      <td>15.009433</td>\n",
       "      <td>1</td>\n",
       "      <td>2574</td>\n",
       "    </tr>\n",
       "    <tr>\n",
       "      <th>3</th>\n",
       "      <td>4</td>\n",
       "      <td>NaN</td>\n",
       "      <td>1200000</td>\n",
       "      <td>[{'id': 53, 'name': 'Thriller'}, {'id': 18, 'n...</td>\n",
       "      <td>http://kahaanithefilm.com/</td>\n",
       "      <td>tt1821480</td>\n",
       "      <td>Kahaani</td>\n",
       "      <td>Vidya Bagchi (Vidya Balan) arrives in Kolkata ...</td>\n",
       "      <td>3.174936</td>\n",
       "      <td>/aTXRaPrWSinhcmCrcfJK17urp3F.jpg</td>\n",
       "      <td>...</td>\n",
       "      <td>[{'cast_id': 1, 'character': 'Vidya Bagchi', '...</td>\n",
       "      <td>[{'credit_id': '52fe48779251416c9108d6eb', 'de...</td>\n",
       "      <td>16000000</td>\n",
       "      <td>8.1</td>\n",
       "      <td>63858</td>\n",
       "      <td>2012-03-09</td>\n",
       "      <td>16.588099</td>\n",
       "      <td>13.997833</td>\n",
       "      <td>1</td>\n",
       "      <td>42</td>\n",
       "    </tr>\n",
       "    <tr>\n",
       "      <th>4</th>\n",
       "      <td>5</td>\n",
       "      <td>NaN</td>\n",
       "      <td>0</td>\n",
       "      <td>[{'id': 28, 'name': 'Action'}, {'id': 53, 'nam...</td>\n",
       "      <td>NaN</td>\n",
       "      <td>tt1380152</td>\n",
       "      <td>마린보이</td>\n",
       "      <td>Marine Boy is the story of a former national s...</td>\n",
       "      <td>1.148070</td>\n",
       "      <td>/m22s7zvkVFDU9ir56PiiqIEWFdT.jpg</td>\n",
       "      <td>...</td>\n",
       "      <td>[{'cast_id': 3, 'character': 'Chun-soo', 'cred...</td>\n",
       "      <td>[{'credit_id': '52fe464b9251416c75073b43', 'de...</td>\n",
       "      <td>3923970</td>\n",
       "      <td>5.7</td>\n",
       "      <td>321</td>\n",
       "      <td>2009-02-05</td>\n",
       "      <td>15.182615</td>\n",
       "      <td>0.000000</td>\n",
       "      <td>0</td>\n",
       "      <td>20</td>\n",
       "    </tr>\n",
       "  </tbody>\n",
       "</table>\n",
       "<p>5 rows × 29 columns</p>\n",
       "</div>"
      ],
      "text/plain": [
       "   id                              belongs_to_collection    budget  \\\n",
       "0   1  [{'id': 313576, 'name': 'Hot Tub Time Machine ...  14000000   \n",
       "1   2  [{'id': 107674, 'name': 'The Princess Diaries ...  40000000   \n",
       "2   3                                                NaN   3300000   \n",
       "3   4                                                NaN   1200000   \n",
       "4   5                                                NaN         0   \n",
       "\n",
       "                                              genres  \\\n",
       "0                     [{'id': 35, 'name': 'Comedy'}]   \n",
       "1  [{'id': 35, 'name': 'Comedy'}, {'id': 18, 'nam...   \n",
       "2                      [{'id': 18, 'name': 'Drama'}]   \n",
       "3  [{'id': 53, 'name': 'Thriller'}, {'id': 18, 'n...   \n",
       "4  [{'id': 28, 'name': 'Action'}, {'id': 53, 'nam...   \n",
       "\n",
       "                            homepage    imdb_id  \\\n",
       "0                                NaN  tt2637294   \n",
       "1                                NaN  tt0368933   \n",
       "2  http://sonyclassics.com/whiplash/  tt2582802   \n",
       "3         http://kahaanithefilm.com/  tt1821480   \n",
       "4                                NaN  tt1380152   \n",
       "\n",
       "                             original_title  \\\n",
       "0                    Hot Tub Time Machine 2   \n",
       "1  The Princess Diaries 2: Royal Engagement   \n",
       "2                                  Whiplash   \n",
       "3                                   Kahaani   \n",
       "4                                      마린보이   \n",
       "\n",
       "                                            overview  popularity  \\\n",
       "0  When Lou, who has become the \"father of the In...    6.575393   \n",
       "1  Mia Thermopolis is now a college graduate and ...    8.248895   \n",
       "2  Under the direction of a ruthless instructor, ...   64.299990   \n",
       "3  Vidya Bagchi (Vidya Balan) arrives in Kolkata ...    3.174936   \n",
       "4  Marine Boy is the story of a former national s...    1.148070   \n",
       "\n",
       "                        poster_path  ...  \\\n",
       "0  /tQtWuwvMf0hCc2QR2tkolwl7c3c.jpg  ...   \n",
       "1  /w9Z7A0GHEhIp7etpj0vyKOeU1Wx.jpg  ...   \n",
       "2  /lIv1QinFqz4dlp5U4lQ6HaiskOZ.jpg  ...   \n",
       "3  /aTXRaPrWSinhcmCrcfJK17urp3F.jpg  ...   \n",
       "4  /m22s7zvkVFDU9ir56PiiqIEWFdT.jpg  ...   \n",
       "\n",
       "                                                cast  \\\n",
       "0  [{'cast_id': 4, 'character': 'Lou', 'credit_id...   \n",
       "1  [{'cast_id': 1, 'character': 'Mia Thermopolis'...   \n",
       "2  [{'cast_id': 5, 'character': 'Andrew Neimann',...   \n",
       "3  [{'cast_id': 1, 'character': 'Vidya Bagchi', '...   \n",
       "4  [{'cast_id': 3, 'character': 'Chun-soo', 'cred...   \n",
       "\n",
       "                                                crew   revenue  averageRating  \\\n",
       "0  [{'credit_id': '59ac067c92514107af02c8c8', 'de...  12314651            5.0   \n",
       "1  [{'credit_id': '52fe43fe9251416c7502563d', 'de...  95149435            5.8   \n",
       "2  [{'credit_id': '54d5356ec3a3683ba0000039', 'de...  13092000            8.5   \n",
       "3  [{'credit_id': '52fe48779251416c9108d6eb', 'de...  16000000            8.1   \n",
       "4  [{'credit_id': '52fe464b9251416c75073b43', 'de...   3923970            5.7   \n",
       "\n",
       "  numVotes release date log_revenue log_budget has_homepage language_freq  \n",
       "0    40054   2015-02-20   16.326300  16.454568            0          2574  \n",
       "1    84247   2004-08-06   18.370959  17.504390            0          2574  \n",
       "2   894940   2014-10-10   16.387512  15.009433            1          2574  \n",
       "3    63858   2012-03-09   16.588099  13.997833            1            42  \n",
       "4      321   2009-02-05   15.182615   0.000000            0            20  \n",
       "\n",
       "[5 rows x 29 columns]"
      ]
     },
     "execution_count": 176,
     "metadata": {},
     "output_type": "execute_result"
    }
   ],
   "source": [
    "df.head()"
   ]
  },
  {
   "cell_type": "code",
   "execution_count": 177,
   "id": "5f8f4ab4",
   "metadata": {},
   "outputs": [
    {
     "data": {
      "image/png": "[encoded data removed]",
      "text/plain": [
       "<Figure size 432x288 with 1 Axes>"
      ]
     },
     "metadata": {
      "needs_background": "light"
     },
     "output_type": "display_data"
    }
   ],
   "source": [
    "plt.scatter(df['averageRating'], df['revenue'])\n",
    "plt.xlabel('IMDb Average Rating')\n",
    "plt.ylabel('Gross Revenue')\n",
    "plt.show()\n"
   ]
  },
  {
   "cell_type": "markdown",
   "id": "926f577d",
   "metadata": {},
   "source": [
    "We can say from the scatterplot with higher the avaerage imdb_rating higher is the gross revenue for a movie."
   ]
  },
  {
   "cell_type": "markdown",
   "id": "aa6bdc42",
   "metadata": {},
   "source": [
    "What are the frequent Words in Film Titles and Discriptions ?\n",
    "\n",
    "This is one of my favourite part of this analysis. I am very curious to know the popular film titles also wanted to know if description/synopsis affects revenue or not.\n",
    "\n",
    "We will be using wordcount library. Word cloud is data visualization technique used for representaion of text data in which size of each word indicates it frequency or importance."
   ]
  },
  {
   "cell_type": "markdown",
   "id": "db44cd32",
   "metadata": {},
   "source": [
    "We can also find out if production company has any affect onthe gross revenue"
   ]
  },
  {
   "cell_type": "code",
   "execution_count": 183,
   "id": "5a1c2def",
   "metadata": {},
   "outputs": [
    {
     "data": {
      "text/plain": [
       "nan                                                                                                                                                                                                                                                           156\n",
       "[{'name': 'Paramount Pictures', 'id': 4}]                                                                                                                                                                                                                      51\n",
       "[{'name': 'Universal Pictures', 'id': 33}]                                                                                                                                                                                                                     36\n",
       "[{'name': 'Warner Bros.', 'id': 6194}]                                                                                                                                                                                                                         32\n",
       "[{'name': 'Metro-Goldwyn-Mayer (MGM)', 'id': 8411}]                                                                                                                                                                                                            32\n",
       "                                                                                                                                                                                                                                                             ... \n",
       "[{'name': 'Universal Pictures', 'id': 33}, {'name': 'Columbia Pictures Corporation', 'id': 441}]                                                                                                                                                                1\n",
       "[{'name': 'Yari Film Group', 'id': 2448}]                                                                                                                                                                                                                       1\n",
       "[{'name': 'The Rank Organisation', 'id': 364}, {'name': 'Columbia Pictures Corporation', 'id': 441}]                                                                                                                                                            1\n",
       "[{'name': 'Zentropa Productions', 'id': 1880}, {'name': 'Spier Films', 'id': 8275}, {'name': 'Forward Films', 'id': 17748}]                                                                                                                                     1\n",
       "[{'name': 'Lions Gate Films', 'id': 35}, {'name': 'Vertigo Entertainment', 'id': 829}, {'name': 'Gotham Group', 'id': 3672}, {'name': 'Tailor Made', 'id': 24557}, {'name': 'Mango Farms', 'id': 24558}, {'name': 'Quick Six Entertainment', 'id': 24561}]      1\n",
       "Name: production_companies, Length: 2383, dtype: int64"
      ]
     },
     "execution_count": 183,
     "metadata": {},
     "output_type": "execute_result"
    }
   ],
   "source": [
    "df['production_companies'].value_counts()"
   ]
  },
  {
   "cell_type": "markdown",
   "id": "37d1217b",
   "metadata": {},
   "source": [
    "To extract the production companies name from the dictionary we first hav eto handle the Nan Values"
   ]
  },
  {
   "cell_type": "code",
   "execution_count": 184,
   "id": "d50975c0",
   "metadata": {},
   "outputs": [],
   "source": [
    "df['production_companies'].fillna({}, inplace=True)"
   ]
  },
  {
   "cell_type": "code",
   "execution_count": 180,
   "id": "a82d696b",
   "metadata": {},
   "outputs": [],
   "source": [
    "# Convert float values to str\n",
    "df['production_companies'] = df['production_companies'].astype(str)"
   ]
  },
  {
   "cell_type": "code",
   "execution_count": 186,
   "id": "3a38eceb",
   "metadata": {},
   "outputs": [],
   "source": [
    "# Extract company names from production_companies column\n",
    "df['company_names'] = [','.join([d['name'] for d in lst if isinstance(d, dict)]) if lst else '' for lst in df['production_companies']]\n"
   ]
  },
  {
   "cell_type": "code",
   "execution_count": 187,
   "id": "a3bda8ce",
   "metadata": {},
   "outputs": [
    {
     "data": {
      "text/html": [
       "<div>\n",
       "<style scoped>\n",
       "    .dataframe tbody tr th:only-of-type {\n",
       "        vertical-align: middle;\n",
       "    }\n",
       "\n",
       "    .dataframe tbody tr th {\n",
       "        vertical-align: top;\n",
       "    }\n",
       "\n",
       "    .dataframe thead th {\n",
       "        text-align: right;\n",
       "    }\n",
       "</style>\n",
       "<table border=\"1\" class=\"dataframe\">\n",
       "  <thead>\n",
       "    <tr style=\"text-align: right;\">\n",
       "      <th></th>\n",
       "      <th>id</th>\n",
       "      <th>belongs_to_collection</th>\n",
       "      <th>budget</th>\n",
       "      <th>genres</th>\n",
       "      <th>homepage</th>\n",
       "      <th>imdb_id</th>\n",
       "      <th>original_title</th>\n",
       "      <th>overview</th>\n",
       "      <th>popularity</th>\n",
       "      <th>poster_path</th>\n",
       "      <th>...</th>\n",
       "      <th>crew</th>\n",
       "      <th>revenue</th>\n",
       "      <th>averageRating</th>\n",
       "      <th>numVotes</th>\n",
       "      <th>release date</th>\n",
       "      <th>log_revenue</th>\n",
       "      <th>log_budget</th>\n",
       "      <th>has_homepage</th>\n",
       "      <th>language_freq</th>\n",
       "      <th>company_names</th>\n",
       "    </tr>\n",
       "  </thead>\n",
       "  <tbody>\n",
       "    <tr>\n",
       "      <th>0</th>\n",
       "      <td>1</td>\n",
       "      <td>[{'id': 313576, 'name': 'Hot Tub Time Machine ...</td>\n",
       "      <td>14000000</td>\n",
       "      <td>[{'id': 35, 'name': 'Comedy'}]</td>\n",
       "      <td>NaN</td>\n",
       "      <td>tt2637294</td>\n",
       "      <td>Hot Tub Time Machine 2</td>\n",
       "      <td>When Lou, who has become the \"father of the In...</td>\n",
       "      <td>6.575393</td>\n",
       "      <td>/tQtWuwvMf0hCc2QR2tkolwl7c3c.jpg</td>\n",
       "      <td>...</td>\n",
       "      <td>[{'credit_id': '59ac067c92514107af02c8c8', 'de...</td>\n",
       "      <td>12314651</td>\n",
       "      <td>5.0</td>\n",
       "      <td>40054</td>\n",
       "      <td>2015-02-20</td>\n",
       "      <td>16.326300</td>\n",
       "      <td>16.454568</td>\n",
       "      <td>0</td>\n",
       "      <td>2574</td>\n",
       "      <td></td>\n",
       "    </tr>\n",
       "    <tr>\n",
       "      <th>1</th>\n",
       "      <td>2</td>\n",
       "      <td>[{'id': 107674, 'name': 'The Princess Diaries ...</td>\n",
       "      <td>40000000</td>\n",
       "      <td>[{'id': 35, 'name': 'Comedy'}, {'id': 18, 'nam...</td>\n",
       "      <td>NaN</td>\n",
       "      <td>tt0368933</td>\n",
       "      <td>The Princess Diaries 2: Royal Engagement</td>\n",
       "      <td>Mia Thermopolis is now a college graduate and ...</td>\n",
       "      <td>8.248895</td>\n",
       "      <td>/w9Z7A0GHEhIp7etpj0vyKOeU1Wx.jpg</td>\n",
       "      <td>...</td>\n",
       "      <td>[{'credit_id': '52fe43fe9251416c7502563d', 'de...</td>\n",
       "      <td>95149435</td>\n",
       "      <td>5.8</td>\n",
       "      <td>84247</td>\n",
       "      <td>2004-08-06</td>\n",
       "      <td>18.370959</td>\n",
       "      <td>17.504390</td>\n",
       "      <td>0</td>\n",
       "      <td>2574</td>\n",
       "      <td></td>\n",
       "    </tr>\n",
       "    <tr>\n",
       "      <th>2</th>\n",
       "      <td>3</td>\n",
       "      <td>NaN</td>\n",
       "      <td>3300000</td>\n",
       "      <td>[{'id': 18, 'name': 'Drama'}]</td>\n",
       "      <td>http://sonyclassics.com/whiplash/</td>\n",
       "      <td>tt2582802</td>\n",
       "      <td>Whiplash</td>\n",
       "      <td>Under the direction of a ruthless instructor, ...</td>\n",
       "      <td>64.299990</td>\n",
       "      <td>/lIv1QinFqz4dlp5U4lQ6HaiskOZ.jpg</td>\n",
       "      <td>...</td>\n",
       "      <td>[{'credit_id': '54d5356ec3a3683ba0000039', 'de...</td>\n",
       "      <td>13092000</td>\n",
       "      <td>8.5</td>\n",
       "      <td>894940</td>\n",
       "      <td>2014-10-10</td>\n",
       "      <td>16.387512</td>\n",
       "      <td>15.009433</td>\n",
       "      <td>1</td>\n",
       "      <td>2574</td>\n",
       "      <td></td>\n",
       "    </tr>\n",
       "    <tr>\n",
       "      <th>3</th>\n",
       "      <td>4</td>\n",
       "      <td>NaN</td>\n",
       "      <td>1200000</td>\n",
       "      <td>[{'id': 53, 'name': 'Thriller'}, {'id': 18, 'n...</td>\n",
       "      <td>http://kahaanithefilm.com/</td>\n",
       "      <td>tt1821480</td>\n",
       "      <td>Kahaani</td>\n",
       "      <td>Vidya Bagchi (Vidya Balan) arrives in Kolkata ...</td>\n",
       "      <td>3.174936</td>\n",
       "      <td>/aTXRaPrWSinhcmCrcfJK17urp3F.jpg</td>\n",
       "      <td>...</td>\n",
       "      <td>[{'credit_id': '52fe48779251416c9108d6eb', 'de...</td>\n",
       "      <td>16000000</td>\n",
       "      <td>8.1</td>\n",
       "      <td>63858</td>\n",
       "      <td>2012-03-09</td>\n",
       "      <td>16.588099</td>\n",
       "      <td>13.997833</td>\n",
       "      <td>1</td>\n",
       "      <td>42</td>\n",
       "      <td></td>\n",
       "    </tr>\n",
       "    <tr>\n",
       "      <th>4</th>\n",
       "      <td>5</td>\n",
       "      <td>NaN</td>\n",
       "      <td>0</td>\n",
       "      <td>[{'id': 28, 'name': 'Action'}, {'id': 53, 'nam...</td>\n",
       "      <td>NaN</td>\n",
       "      <td>tt1380152</td>\n",
       "      <td>마린보이</td>\n",
       "      <td>Marine Boy is the story of a former national s...</td>\n",
       "      <td>1.148070</td>\n",
       "      <td>/m22s7zvkVFDU9ir56PiiqIEWFdT.jpg</td>\n",
       "      <td>...</td>\n",
       "      <td>[{'credit_id': '52fe464b9251416c75073b43', 'de...</td>\n",
       "      <td>3923970</td>\n",
       "      <td>5.7</td>\n",
       "      <td>321</td>\n",
       "      <td>2009-02-05</td>\n",
       "      <td>15.182615</td>\n",
       "      <td>0.000000</td>\n",
       "      <td>0</td>\n",
       "      <td>20</td>\n",
       "      <td></td>\n",
       "    </tr>\n",
       "  </tbody>\n",
       "</table>\n",
       "<p>5 rows × 30 columns</p>\n",
       "</div>"
      ],
      "text/plain": [
       "   id                              belongs_to_collection    budget  \\\n",
       "0   1  [{'id': 313576, 'name': 'Hot Tub Time Machine ...  14000000   \n",
       "1   2  [{'id': 107674, 'name': 'The Princess Diaries ...  40000000   \n",
       "2   3                                                NaN   3300000   \n",
       "3   4                                                NaN   1200000   \n",
       "4   5                                                NaN         0   \n",
       "\n",
       "                                              genres  \\\n",
       "0                     [{'id': 35, 'name': 'Comedy'}]   \n",
       "1  [{'id': 35, 'name': 'Comedy'}, {'id': 18, 'nam...   \n",
       "2                      [{'id': 18, 'name': 'Drama'}]   \n",
       "3  [{'id': 53, 'name': 'Thriller'}, {'id': 18, 'n...   \n",
       "4  [{'id': 28, 'name': 'Action'}, {'id': 53, 'nam...   \n",
       "\n",
       "                            homepage    imdb_id  \\\n",
       "0                                NaN  tt2637294   \n",
       "1                                NaN  tt0368933   \n",
       "2  http://sonyclassics.com/whiplash/  tt2582802   \n",
       "3         http://kahaanithefilm.com/  tt1821480   \n",
       "4                                NaN  tt1380152   \n",
       "\n",
       "                             original_title  \\\n",
       "0                    Hot Tub Time Machine 2   \n",
       "1  The Princess Diaries 2: Royal Engagement   \n",
       "2                                  Whiplash   \n",
       "3                                   Kahaani   \n",
       "4                                      마린보이   \n",
       "\n",
       "                                            overview  popularity  \\\n",
       "0  When Lou, who has become the \"father of the In...    6.575393   \n",
       "1  Mia Thermopolis is now a college graduate and ...    8.248895   \n",
       "2  Under the direction of a ruthless instructor, ...   64.299990   \n",
       "3  Vidya Bagchi (Vidya Balan) arrives in Kolkata ...    3.174936   \n",
       "4  Marine Boy is the story of a former national s...    1.148070   \n",
       "\n",
       "                        poster_path  ...  \\\n",
       "0  /tQtWuwvMf0hCc2QR2tkolwl7c3c.jpg  ...   \n",
       "1  /w9Z7A0GHEhIp7etpj0vyKOeU1Wx.jpg  ...   \n",
       "2  /lIv1QinFqz4dlp5U4lQ6HaiskOZ.jpg  ...   \n",
       "3  /aTXRaPrWSinhcmCrcfJK17urp3F.jpg  ...   \n",
       "4  /m22s7zvkVFDU9ir56PiiqIEWFdT.jpg  ...   \n",
       "\n",
       "                                                crew   revenue averageRating  \\\n",
       "0  [{'credit_id': '59ac067c92514107af02c8c8', 'de...  12314651           5.0   \n",
       "1  [{'credit_id': '52fe43fe9251416c7502563d', 'de...  95149435           5.8   \n",
       "2  [{'credit_id': '54d5356ec3a3683ba0000039', 'de...  13092000           8.5   \n",
       "3  [{'credit_id': '52fe48779251416c9108d6eb', 'de...  16000000           8.1   \n",
       "4  [{'credit_id': '52fe464b9251416c75073b43', 'de...   3923970           5.7   \n",
       "\n",
       "   numVotes release date log_revenue log_budget has_homepage language_freq  \\\n",
       "0     40054   2015-02-20   16.326300  16.454568            0          2574   \n",
       "1     84247   2004-08-06   18.370959  17.504390            0          2574   \n",
       "2    894940   2014-10-10   16.387512  15.009433            1          2574   \n",
       "3     63858   2012-03-09   16.588099  13.997833            1            42   \n",
       "4       321   2009-02-05   15.182615   0.000000            0            20   \n",
       "\n",
       "  company_names  \n",
       "0                \n",
       "1                \n",
       "2                \n",
       "3                \n",
       "4                \n",
       "\n",
       "[5 rows x 30 columns]"
      ]
     },
     "execution_count": 187,
     "metadata": {},
     "output_type": "execute_result"
    }
   ],
   "source": [
    "df.head()"
   ]
  },
  {
   "cell_type": "markdown",
   "id": "0f8c3e74",
   "metadata": {},
   "source": [
    "Featured Engineering"
   ]
  },
  {
   "cell_type": "code",
   "execution_count": 26,
   "id": "31db601e",
   "metadata": {},
   "outputs": [],
   "source": [
    "import datetime as dt"
   ]
  },
  {
   "cell_type": "code",
   "execution_count": 27,
   "id": "e067c590",
   "metadata": {},
   "outputs": [
    {
     "data": {
      "text/plain": [
       "Index(['id', 'belongs_to_collection', 'budget', 'genres', 'homepage',\n",
       "       'imdb_id', 'original_language', 'original_title', 'overview',\n",
       "       'popularity', 'poster_path', 'production_companies',\n",
       "       'production_countries', 'release_date', 'runtime', 'spoken_languages',\n",
       "       'status', 'tagline', 'title', 'Keywords', 'cast', 'crew', 'revenue',\n",
       "       'release date', 'log_revenue', 'log_budget', 'has_homepage'],\n",
       "      dtype='object')"
      ]
     },
     "execution_count": 27,
     "metadata": {},
     "output_type": "execute_result"
    }
   ],
   "source": [
    "df.columns"
   ]
  },
  {
   "cell_type": "code",
   "execution_count": 28,
   "id": "8f3d229a",
   "metadata": {},
   "outputs": [],
   "source": [
    "df['release year'] = df['release date'].dt.year"
   ]
  },
  {
   "cell_type": "code",
   "execution_count": 29,
   "id": "5d665860",
   "metadata": {},
   "outputs": [
    {
     "data": {
      "text/html": [
       "<div>\n",
       "<style scoped>\n",
       "    .dataframe tbody tr th:only-of-type {\n",
       "        vertical-align: middle;\n",
       "    }\n",
       "\n",
       "    .dataframe tbody tr th {\n",
       "        vertical-align: top;\n",
       "    }\n",
       "\n",
       "    .dataframe thead th {\n",
       "        text-align: right;\n",
       "    }\n",
       "</style>\n",
       "<table border=\"1\" class=\"dataframe\">\n",
       "  <thead>\n",
       "    <tr style=\"text-align: right;\">\n",
       "      <th></th>\n",
       "      <th>id</th>\n",
       "      <th>belongs_to_collection</th>\n",
       "      <th>budget</th>\n",
       "      <th>genres</th>\n",
       "      <th>homepage</th>\n",
       "      <th>imdb_id</th>\n",
       "      <th>original_language</th>\n",
       "      <th>original_title</th>\n",
       "      <th>overview</th>\n",
       "      <th>popularity</th>\n",
       "      <th>...</th>\n",
       "      <th>title</th>\n",
       "      <th>Keywords</th>\n",
       "      <th>cast</th>\n",
       "      <th>crew</th>\n",
       "      <th>revenue</th>\n",
       "      <th>release date</th>\n",
       "      <th>log_revenue</th>\n",
       "      <th>log_budget</th>\n",
       "      <th>has_homepage</th>\n",
       "      <th>release year</th>\n",
       "    </tr>\n",
       "  </thead>\n",
       "  <tbody>\n",
       "    <tr>\n",
       "      <th>0</th>\n",
       "      <td>1</td>\n",
       "      <td>[{'id': 313576, 'name': 'Hot Tub Time Machine ...</td>\n",
       "      <td>14000000</td>\n",
       "      <td>[{'id': 35, 'name': 'Comedy'}]</td>\n",
       "      <td>NaN</td>\n",
       "      <td>tt2637294</td>\n",
       "      <td>en</td>\n",
       "      <td>Hot Tub Time Machine 2</td>\n",
       "      <td>When Lou, who has become the \"father of the In...</td>\n",
       "      <td>6.575393</td>\n",
       "      <td>...</td>\n",
       "      <td>Hot Tub Time Machine 2</td>\n",
       "      <td>[{'id': 4379, 'name': 'time travel'}, {'id': 9...</td>\n",
       "      <td>[{'cast_id': 4, 'character': 'Lou', 'credit_id...</td>\n",
       "      <td>[{'credit_id': '59ac067c92514107af02c8c8', 'de...</td>\n",
       "      <td>12314651</td>\n",
       "      <td>2015-02-20</td>\n",
       "      <td>16.326300</td>\n",
       "      <td>16.454568</td>\n",
       "      <td>0</td>\n",
       "      <td>2015</td>\n",
       "    </tr>\n",
       "    <tr>\n",
       "      <th>1</th>\n",
       "      <td>2</td>\n",
       "      <td>[{'id': 107674, 'name': 'The Princess Diaries ...</td>\n",
       "      <td>40000000</td>\n",
       "      <td>[{'id': 35, 'name': 'Comedy'}, {'id': 18, 'nam...</td>\n",
       "      <td>NaN</td>\n",
       "      <td>tt0368933</td>\n",
       "      <td>en</td>\n",
       "      <td>The Princess Diaries 2: Royal Engagement</td>\n",
       "      <td>Mia Thermopolis is now a college graduate and ...</td>\n",
       "      <td>8.248895</td>\n",
       "      <td>...</td>\n",
       "      <td>The Princess Diaries 2: Royal Engagement</td>\n",
       "      <td>[{'id': 2505, 'name': 'coronation'}, {'id': 42...</td>\n",
       "      <td>[{'cast_id': 1, 'character': 'Mia Thermopolis'...</td>\n",
       "      <td>[{'credit_id': '52fe43fe9251416c7502563d', 'de...</td>\n",
       "      <td>95149435</td>\n",
       "      <td>2004-08-06</td>\n",
       "      <td>18.370959</td>\n",
       "      <td>17.504390</td>\n",
       "      <td>0</td>\n",
       "      <td>2004</td>\n",
       "    </tr>\n",
       "    <tr>\n",
       "      <th>2</th>\n",
       "      <td>3</td>\n",
       "      <td>NaN</td>\n",
       "      <td>3300000</td>\n",
       "      <td>[{'id': 18, 'name': 'Drama'}]</td>\n",
       "      <td>http://sonyclassics.com/whiplash/</td>\n",
       "      <td>tt2582802</td>\n",
       "      <td>en</td>\n",
       "      <td>Whiplash</td>\n",
       "      <td>Under the direction of a ruthless instructor, ...</td>\n",
       "      <td>64.299990</td>\n",
       "      <td>...</td>\n",
       "      <td>Whiplash</td>\n",
       "      <td>[{'id': 1416, 'name': 'jazz'}, {'id': 1523, 'n...</td>\n",
       "      <td>[{'cast_id': 5, 'character': 'Andrew Neimann',...</td>\n",
       "      <td>[{'credit_id': '54d5356ec3a3683ba0000039', 'de...</td>\n",
       "      <td>13092000</td>\n",
       "      <td>2014-10-10</td>\n",
       "      <td>16.387512</td>\n",
       "      <td>15.009433</td>\n",
       "      <td>1</td>\n",
       "      <td>2014</td>\n",
       "    </tr>\n",
       "    <tr>\n",
       "      <th>3</th>\n",
       "      <td>4</td>\n",
       "      <td>NaN</td>\n",
       "      <td>1200000</td>\n",
       "      <td>[{'id': 53, 'name': 'Thriller'}, {'id': 18, 'n...</td>\n",
       "      <td>http://kahaanithefilm.com/</td>\n",
       "      <td>tt1821480</td>\n",
       "      <td>hi</td>\n",
       "      <td>Kahaani</td>\n",
       "      <td>Vidya Bagchi (Vidya Balan) arrives in Kolkata ...</td>\n",
       "      <td>3.174936</td>\n",
       "      <td>...</td>\n",
       "      <td>Kahaani</td>\n",
       "      <td>[{'id': 10092, 'name': 'mystery'}, {'id': 1054...</td>\n",
       "      <td>[{'cast_id': 1, 'character': 'Vidya Bagchi', '...</td>\n",
       "      <td>[{'credit_id': '52fe48779251416c9108d6eb', 'de...</td>\n",
       "      <td>16000000</td>\n",
       "      <td>2012-03-09</td>\n",
       "      <td>16.588099</td>\n",
       "      <td>13.997833</td>\n",
       "      <td>1</td>\n",
       "      <td>2012</td>\n",
       "    </tr>\n",
       "    <tr>\n",
       "      <th>4</th>\n",
       "      <td>5</td>\n",
       "      <td>NaN</td>\n",
       "      <td>0</td>\n",
       "      <td>[{'id': 28, 'name': 'Action'}, {'id': 53, 'nam...</td>\n",
       "      <td>NaN</td>\n",
       "      <td>tt1380152</td>\n",
       "      <td>ko</td>\n",
       "      <td>마린보이</td>\n",
       "      <td>Marine Boy is the story of a former national s...</td>\n",
       "      <td>1.148070</td>\n",
       "      <td>...</td>\n",
       "      <td>Marine Boy</td>\n",
       "      <td>NaN</td>\n",
       "      <td>[{'cast_id': 3, 'character': 'Chun-soo', 'cred...</td>\n",
       "      <td>[{'credit_id': '52fe464b9251416c75073b43', 'de...</td>\n",
       "      <td>3923970</td>\n",
       "      <td>2009-02-05</td>\n",
       "      <td>15.182615</td>\n",
       "      <td>0.000000</td>\n",
       "      <td>0</td>\n",
       "      <td>2009</td>\n",
       "    </tr>\n",
       "  </tbody>\n",
       "</table>\n",
       "<p>5 rows × 28 columns</p>\n",
       "</div>"
      ],
      "text/plain": [
       "   id                              belongs_to_collection    budget  \\\n",
       "0   1  [{'id': 313576, 'name': 'Hot Tub Time Machine ...  14000000   \n",
       "1   2  [{'id': 107674, 'name': 'The Princess Diaries ...  40000000   \n",
       "2   3                                                NaN   3300000   \n",
       "3   4                                                NaN   1200000   \n",
       "4   5                                                NaN         0   \n",
       "\n",
       "                                              genres  \\\n",
       "0                     [{'id': 35, 'name': 'Comedy'}]   \n",
       "1  [{'id': 35, 'name': 'Comedy'}, {'id': 18, 'nam...   \n",
       "2                      [{'id': 18, 'name': 'Drama'}]   \n",
       "3  [{'id': 53, 'name': 'Thriller'}, {'id': 18, 'n...   \n",
       "4  [{'id': 28, 'name': 'Action'}, {'id': 53, 'nam...   \n",
       "\n",
       "                            homepage    imdb_id original_language  \\\n",
       "0                                NaN  tt2637294                en   \n",
       "1                                NaN  tt0368933                en   \n",
       "2  http://sonyclassics.com/whiplash/  tt2582802                en   \n",
       "3         http://kahaanithefilm.com/  tt1821480                hi   \n",
       "4                                NaN  tt1380152                ko   \n",
       "\n",
       "                             original_title  \\\n",
       "0                    Hot Tub Time Machine 2   \n",
       "1  The Princess Diaries 2: Royal Engagement   \n",
       "2                                  Whiplash   \n",
       "3                                   Kahaani   \n",
       "4                                      마린보이   \n",
       "\n",
       "                                            overview  popularity  ...  \\\n",
       "0  When Lou, who has become the \"father of the In...    6.575393  ...   \n",
       "1  Mia Thermopolis is now a college graduate and ...    8.248895  ...   \n",
       "2  Under the direction of a ruthless instructor, ...   64.299990  ...   \n",
       "3  Vidya Bagchi (Vidya Balan) arrives in Kolkata ...    3.174936  ...   \n",
       "4  Marine Boy is the story of a former national s...    1.148070  ...   \n",
       "\n",
       "                                      title  \\\n",
       "0                    Hot Tub Time Machine 2   \n",
       "1  The Princess Diaries 2: Royal Engagement   \n",
       "2                                  Whiplash   \n",
       "3                                   Kahaani   \n",
       "4                                Marine Boy   \n",
       "\n",
       "                                            Keywords  \\\n",
       "0  [{'id': 4379, 'name': 'time travel'}, {'id': 9...   \n",
       "1  [{'id': 2505, 'name': 'coronation'}, {'id': 42...   \n",
       "2  [{'id': 1416, 'name': 'jazz'}, {'id': 1523, 'n...   \n",
       "3  [{'id': 10092, 'name': 'mystery'}, {'id': 1054...   \n",
       "4                                                NaN   \n",
       "\n",
       "                                                cast  \\\n",
       "0  [{'cast_id': 4, 'character': 'Lou', 'credit_id...   \n",
       "1  [{'cast_id': 1, 'character': 'Mia Thermopolis'...   \n",
       "2  [{'cast_id': 5, 'character': 'Andrew Neimann',...   \n",
       "3  [{'cast_id': 1, 'character': 'Vidya Bagchi', '...   \n",
       "4  [{'cast_id': 3, 'character': 'Chun-soo', 'cred...   \n",
       "\n",
       "                                                crew   revenue release date  \\\n",
       "0  [{'credit_id': '59ac067c92514107af02c8c8', 'de...  12314651   2015-02-20   \n",
       "1  [{'credit_id': '52fe43fe9251416c7502563d', 'de...  95149435   2004-08-06   \n",
       "2  [{'credit_id': '54d5356ec3a3683ba0000039', 'de...  13092000   2014-10-10   \n",
       "3  [{'credit_id': '52fe48779251416c9108d6eb', 'de...  16000000   2012-03-09   \n",
       "4  [{'credit_id': '52fe464b9251416c75073b43', 'de...   3923970   2009-02-05   \n",
       "\n",
       "  log_revenue log_budget has_homepage release year  \n",
       "0   16.326300  16.454568            0         2015  \n",
       "1   18.370959  17.504390            0         2004  \n",
       "2   16.387512  15.009433            1         2014  \n",
       "3   16.588099  13.997833            1         2012  \n",
       "4   15.182615   0.000000            0         2009  \n",
       "\n",
       "[5 rows x 28 columns]"
      ]
     },
     "execution_count": 29,
     "metadata": {},
     "output_type": "execute_result"
    }
   ],
   "source": [
    "df.head()"
   ]
  },
  {
   "cell_type": "code",
   "execution_count": 30,
   "id": "2dcbef34",
   "metadata": {},
   "outputs": [
    {
     "data": {
      "text/plain": [
       "1973     9\n",
       "1974     5\n",
       "1975     8\n",
       "1976     7\n",
       "1977    11\n",
       "        ..\n",
       "2068     7\n",
       "2069     6\n",
       "2070     8\n",
       "2071     8\n",
       "2072     8\n",
       "Name: release year, Length: 90, dtype: int64"
      ]
     },
     "execution_count": 30,
     "metadata": {},
     "output_type": "execute_result"
    }
   ],
   "source": [
    "#lets find out the number of movies per year\n",
    "df['release year'].value_counts().sort_index()"
   ]
  },
  {
   "cell_type": "code",
   "execution_count": 31,
   "id": "42a67809",
   "metadata": {},
   "outputs": [
    {
     "data": {
      "text/plain": [
       "0     2/20/15\n",
       "1      8/6/04\n",
       "2    10/10/14\n",
       "3      3/9/12\n",
       "4      2/5/09\n",
       "Name: release_date, dtype: object"
      ]
     },
     "execution_count": 31,
     "metadata": {},
     "output_type": "execute_result"
    }
   ],
   "source": [
    "df.loc[df['release_date'].isnull() == False, 'release_date'].head() #to see if release date has null value.\n"
   ]
  },
  {
   "cell_type": "code",
   "execution_count": 32,
   "id": "2a5508d1",
   "metadata": {},
   "outputs": [],
   "source": [
    "def fix_date(x):\n",
    "    '''\n",
    "    if the value of date here is less than\n",
    "    or equal to 19 we can prepend 20 infront of this\n",
    "    to say that movie is from 2000s\n",
    "    else we can prepend 19 to say that the movie is\n",
    "    from 1900s\n",
    "    '''\n",
    "    year = x.split('/')[2]\n",
    "    if int(year) <= 19:\n",
    "        return x[:-2] + '20' + year\n",
    "    else:\n",
    "        return x[:-2] + '19' + year\n"
   ]
  },
  {
   "cell_type": "code",
   "execution_count": 33,
   "id": "7035075c",
   "metadata": {},
   "outputs": [],
   "source": [
    "df['release_date'] = df['release_date'].apply(lambda x: fix_date(x)) #applying lambda function\n"
   ]
  },
  {
   "cell_type": "code",
   "execution_count": 34,
   "id": "60bfd8bb",
   "metadata": {},
   "outputs": [],
   "source": [
    "df['release_date'] = pd.to_datetime(df['release_date']) #converting into panda date time\n"
   ]
  },
  {
   "cell_type": "code",
   "execution_count": 35,
   "id": "365c9b7b",
   "metadata": {},
   "outputs": [],
   "source": [
    "import datetime as dt\n",
    "df['release_year'] = df['release_date'].dt.year"
   ]
  },
  {
   "cell_type": "code",
   "execution_count": 36,
   "id": "7863a537",
   "metadata": {},
   "outputs": [],
   "source": [
    "d1 = df['release_year'].value_counts()"
   ]
  },
  {
   "cell_type": "code",
   "execution_count": 37,
   "id": "ddacaf55",
   "metadata": {},
   "outputs": [
    {
     "data": {
      "text/plain": [
       "2013    141\n",
       "2015    128\n",
       "2010    126\n",
       "2012    125\n",
       "2016    125\n",
       "Name: release_year, dtype: int64"
      ]
     },
     "execution_count": 37,
     "metadata": {},
     "output_type": "execute_result"
    }
   ],
   "source": [
    "d1.head()"
   ]
  },
  {
   "cell_type": "code",
   "execution_count": 38,
   "id": "2294fd78",
   "metadata": {},
   "outputs": [
    {
     "data": {
      "text/plain": [
       "<AxesSubplot:>"
      ]
     },
     "execution_count": 38,
     "metadata": {},
     "output_type": "execute_result"
    },
    {
     "data": {
      "image/png": "[encoded data removed]",
      "text/plain": [
       "<Figure size 432x288 with 1 Axes>"
      ]
     },
     "metadata": {
      "needs_background": "light"
     },
     "output_type": "display_data"
    }
   ],
   "source": [
    "sns.scatterplot(x= d1.index, y = d1.values, data = d1)"
   ]
  },
  {
   "cell_type": "code",
   "execution_count": 39,
   "id": "f7d169b3",
   "metadata": {},
   "outputs": [
    {
     "name": "stderr",
     "output_type": "stream",
     "text": [
      "/Users/samragneedutta/opt/anaconda3/lib/python3.9/site-packages/seaborn/_decorators.py:36: FutureWarning: Pass the following variable as a keyword arg: x. From version 0.12, the only valid positional argument will be `data`, and passing other arguments without an explicit keyword will result in an error or misinterpretation.\n",
      "  warnings.warn(\n"
     ]
    },
    {
     "data": {
      "image/png": "[encoded data removed]",
      "text/plain": [
       "<Figure size 1080x648 with 1 Axes>"
      ]
     },
     "metadata": {
      "needs_background": "light"
     },
     "output_type": "display_data"
    }
   ],
   "source": [
    "plt.figure(figsize = (15,9))\n",
    "\n",
    "sns.countplot(df['release_year'].sort_values())\n",
    "plt.xticks(rotation = 90)\n",
    "plt.show()"
   ]
  },
  {
   "cell_type": "markdown",
   "id": "5b12b760",
   "metadata": {},
   "source": [
    "We can see that since 2000s there are more movies that has been released.We can see that year 2013 has highes number of movie released i.e 140+ movie in a year."
   ]
  },
  {
   "cell_type": "code",
   "execution_count": 40,
   "id": "0eda8b60",
   "metadata": {},
   "outputs": [],
   "source": [
    "#now let's find the mean revenue by year\n",
    "d2 = df.groupby('release_year')['revenue'].mean().sort_values(ascending = False).head(10)"
   ]
  },
  {
   "cell_type": "code",
   "execution_count": 41,
   "id": "a0221d71",
   "metadata": {},
   "outputs": [],
   "source": [
    "d2 = d2.to_frame()"
   ]
  },
  {
   "cell_type": "code",
   "execution_count": 42,
   "id": "04237964",
   "metadata": {},
   "outputs": [
    {
     "data": {
      "text/html": [
       "<div>\n",
       "<style scoped>\n",
       "    .dataframe tbody tr th:only-of-type {\n",
       "        vertical-align: middle;\n",
       "    }\n",
       "\n",
       "    .dataframe tbody tr th {\n",
       "        vertical-align: top;\n",
       "    }\n",
       "\n",
       "    .dataframe thead th {\n",
       "        text-align: right;\n",
       "    }\n",
       "</style>\n",
       "<table border=\"1\" class=\"dataframe\">\n",
       "  <thead>\n",
       "    <tr style=\"text-align: right;\">\n",
       "      <th></th>\n",
       "      <th>revenue</th>\n",
       "    </tr>\n",
       "    <tr>\n",
       "      <th>release_year</th>\n",
       "      <th></th>\n",
       "    </tr>\n",
       "  </thead>\n",
       "  <tbody>\n",
       "    <tr>\n",
       "      <th>2017</th>\n",
       "      <td>1.814039e+08</td>\n",
       "    </tr>\n",
       "    <tr>\n",
       "      <th>2015</th>\n",
       "      <td>1.038542e+08</td>\n",
       "    </tr>\n",
       "    <tr>\n",
       "      <th>1975</th>\n",
       "      <td>9.048038e+07</td>\n",
       "    </tr>\n",
       "    <tr>\n",
       "      <th>2002</th>\n",
       "      <td>8.777384e+07</td>\n",
       "    </tr>\n",
       "    <tr>\n",
       "      <th>2012</th>\n",
       "      <td>8.616601e+07</td>\n",
       "    </tr>\n",
       "  </tbody>\n",
       "</table>\n",
       "</div>"
      ],
      "text/plain": [
       "                   revenue\n",
       "release_year              \n",
       "2017          1.814039e+08\n",
       "2015          1.038542e+08\n",
       "1975          9.048038e+07\n",
       "2002          8.777384e+07\n",
       "2012          8.616601e+07"
      ]
     },
     "execution_count": 42,
     "metadata": {},
     "output_type": "execute_result"
    }
   ],
   "source": [
    "d2.head()"
   ]
  },
  {
   "cell_type": "code",
   "execution_count": 43,
   "id": "9abd139f",
   "metadata": {},
   "outputs": [
    {
     "ename": "AttributeError",
     "evalue": "'DataFrame' object has no attribute 'release_year'",
     "output_type": "error",
     "traceback": [
      "\u001b[0;31m---------------------------------------------------------------------------\u001b[0m",
      "\u001b[0;31mAttributeError\u001b[0m                            Traceback (most recent call last)",
      "Input \u001b[0;32mIn [43]\u001b[0m, in \u001b[0;36m<cell line: 2>\u001b[0;34m()\u001b[0m\n\u001b[1;32m      1\u001b[0m plt\u001b[38;5;241m.\u001b[39mfigure(figsize \u001b[38;5;241m=\u001b[39m (\u001b[38;5;241m12\u001b[39m,\u001b[38;5;241m8\u001b[39m))\n\u001b[0;32m----> 2\u001b[0m sns\u001b[38;5;241m.\u001b[39mbarplot(x \u001b[38;5;241m=\u001b[39m \u001b[43md2\u001b[49m\u001b[38;5;241;43m.\u001b[39;49m\u001b[43mrelease_year\u001b[49m, y \u001b[38;5;241m=\u001b[39m d2\u001b[38;5;241m.\u001b[39mrevenue, data \u001b[38;5;241m=\u001b[39m d2)\n\u001b[1;32m      3\u001b[0m plt\u001b[38;5;241m.\u001b[39mxticks(rotation \u001b[38;5;241m=\u001b[39m \u001b[38;5;241m90\u001b[39m)\n\u001b[1;32m      4\u001b[0m plt\u001b[38;5;241m.\u001b[39mshow()\n",
      "File \u001b[0;32m~/opt/anaconda3/lib/python3.9/site-packages/pandas/core/generic.py:5575\u001b[0m, in \u001b[0;36mNDFrame.__getattr__\u001b[0;34m(self, name)\u001b[0m\n\u001b[1;32m   5568\u001b[0m \u001b[38;5;28;01mif\u001b[39;00m (\n\u001b[1;32m   5569\u001b[0m     name \u001b[38;5;129;01mnot\u001b[39;00m \u001b[38;5;129;01min\u001b[39;00m \u001b[38;5;28mself\u001b[39m\u001b[38;5;241m.\u001b[39m_internal_names_set\n\u001b[1;32m   5570\u001b[0m     \u001b[38;5;129;01mand\u001b[39;00m name \u001b[38;5;129;01mnot\u001b[39;00m \u001b[38;5;129;01min\u001b[39;00m \u001b[38;5;28mself\u001b[39m\u001b[38;5;241m.\u001b[39m_metadata\n\u001b[1;32m   5571\u001b[0m     \u001b[38;5;129;01mand\u001b[39;00m name \u001b[38;5;129;01mnot\u001b[39;00m \u001b[38;5;129;01min\u001b[39;00m \u001b[38;5;28mself\u001b[39m\u001b[38;5;241m.\u001b[39m_accessors\n\u001b[1;32m   5572\u001b[0m     \u001b[38;5;129;01mand\u001b[39;00m \u001b[38;5;28mself\u001b[39m\u001b[38;5;241m.\u001b[39m_info_axis\u001b[38;5;241m.\u001b[39m_can_hold_identifiers_and_holds_name(name)\n\u001b[1;32m   5573\u001b[0m ):\n\u001b[1;32m   5574\u001b[0m     \u001b[38;5;28;01mreturn\u001b[39;00m \u001b[38;5;28mself\u001b[39m[name]\n\u001b[0;32m-> 5575\u001b[0m \u001b[38;5;28;01mreturn\u001b[39;00m \u001b[38;5;28;43mobject\u001b[39;49m\u001b[38;5;241;43m.\u001b[39;49m\u001b[38;5;21;43m__getattribute__\u001b[39;49m\u001b[43m(\u001b[49m\u001b[38;5;28;43mself\u001b[39;49m\u001b[43m,\u001b[49m\u001b[43m \u001b[49m\u001b[43mname\u001b[49m\u001b[43m)\u001b[49m\n",
      "\u001b[0;31mAttributeError\u001b[0m: 'DataFrame' object has no attribute 'release_year'"
     ]
    },
    {
     "data": {
      "text/plain": [
       "<Figure size 864x576 with 0 Axes>"
      ]
     },
     "metadata": {},
     "output_type": "display_data"
    }
   ],
   "source": [
    "plt.figure(figsize = (12,8))\n",
    "sns.barplot(x = d2.release_year, y = d2.revenue, data = d2)\n",
    "plt.xticks(rotation = 90)\n",
    "plt.show()"
   ]
  },
  {
   "cell_type": "code",
   "execution_count": null,
   "id": "407853a8",
   "metadata": {},
   "outputs": [],
   "source": [
    "import plotly.graph_objs as go\n",
    "import plotly.offline as py\n",
    "\n",
    "\n",
    "#plot for release date vs revenue\n",
    "#d1 = df['release_year'].value_counts().sort_index()\n",
    "#d2 = df.groupby(['release_year'])['revenue'].mean()\n",
    "\n",
    "data = [go.Scatter(x=d1.index, y=d1.values, name='film count'),\n",
    "        go.Scatter(x=d2.index, y=d2.values, name='mean revenue', yaxis='y2')]\n",
    "\n",
    "layout = go.Layout(dict(title = \"Number of films and average revenue per year\",\n",
    "                  xaxis = dict(title = 'Year'),\n",
    "                  yaxis = dict(title = 'Count'),\n",
    "                  yaxis2=dict(title='Average revenue', overlaying='y', side='right')\n",
    "                  ),legend=dict(\n",
    "                orientation=\"v\"))\n",
    "py.iplot(dict(data=data, layout=layout))"
   ]
  },
  {
   "cell_type": "code",
   "execution_count": 44,
   "id": "56d90772",
   "metadata": {},
   "outputs": [],
   "source": [
    "#now let us check if month of the release has any affect on revenue\n",
    "df['release_month'] = df['release_date'].dt.month"
   ]
  },
  {
   "cell_type": "code",
   "execution_count": 45,
   "id": "34a8a8f2",
   "metadata": {},
   "outputs": [],
   "source": [
    "month_dict = {1: 'January', 2: 'February', 3: 'March', 4: 'April', 5:'May', 6:'June',7:'July',8:'August',9:'September',10:'October',11:'November', 12:'December'}"
   ]
  },
  {
   "cell_type": "code",
   "execution_count": 46,
   "id": "221acaa1",
   "metadata": {},
   "outputs": [],
   "source": [
    "df['release_month'] = df['release_month'].map(month_dict)"
   ]
  },
  {
   "cell_type": "code",
   "execution_count": 47,
   "id": "a1874aa2",
   "metadata": {},
   "outputs": [
    {
     "data": {
      "text/plain": [
       "September    362\n",
       "October      307\n",
       "December     263\n",
       "August       256\n",
       "April        245\n",
       "March        238\n",
       "June         237\n",
       "February     226\n",
       "May          224\n",
       "November     221\n",
       "January      212\n",
       "July         209\n",
       "Name: release_month, dtype: int64"
      ]
     },
     "execution_count": 47,
     "metadata": {},
     "output_type": "execute_result"
    }
   ],
   "source": [
    "df['release_month'].value_counts()"
   ]
  },
  {
   "cell_type": "code",
   "execution_count": 48,
   "id": "2cff0f01",
   "metadata": {},
   "outputs": [
    {
     "data": {
      "text/plain": [
       "<Figure size 720x648 with 0 Axes>"
      ]
     },
     "metadata": {},
     "output_type": "display_data"
    },
    {
     "data": {
      "image/png": "[encoded data removed]",
      "text/plain": [
       "<Figure size 360x360 with 1 Axes>"
      ]
     },
     "metadata": {
      "needs_background": "light"
     },
     "output_type": "display_data"
    }
   ],
   "source": [
    "plt.figure(figsize = (10,9))\n",
    "sns.catplot(x = 'release_month', y = 'revenue', data = df)\n",
    "plt.xticks(rotation = 90, fontsize = 10)\n",
    "plt.show()\n"
   ]
  },
  {
   "cell_type": "markdown",
   "id": "4e19ccdd",
   "metadata": {},
   "source": [
    "From the above chart we can see that movie released in April has maximum revenue where as movie released in jan has less revenue compared to other months.\n",
    "\n",
    "\n"
   ]
  },
  {
   "cell_type": "code",
   "execution_count": 49,
   "id": "9085f2a7",
   "metadata": {},
   "outputs": [],
   "source": [
    "df['release_quater'] = df['release_date'].dt.quarter"
   ]
  },
  {
   "cell_type": "code",
   "execution_count": 50,
   "id": "f6e261ff",
   "metadata": {},
   "outputs": [
    {
     "data": {
      "text/plain": [
       "3    827\n",
       "4    791\n",
       "2    706\n",
       "1    676\n",
       "Name: release_quater, dtype: int64"
      ]
     },
     "execution_count": 50,
     "metadata": {},
     "output_type": "execute_result"
    }
   ],
   "source": [
    "df['release_quater'].value_counts()"
   ]
  },
  {
   "cell_type": "code",
   "execution_count": 51,
   "id": "142bbe9c",
   "metadata": {},
   "outputs": [
    {
     "data": {
      "text/plain": [
       "<Figure size 720x648 with 0 Axes>"
      ]
     },
     "metadata": {},
     "output_type": "display_data"
    },
    {
     "data": {
      "image/png": "[encoded data removed]",
      "text/plain": [
       "<Figure size 360x360 with 1 Axes>"
      ]
     },
     "metadata": {
      "needs_background": "light"
     },
     "output_type": "display_data"
    }
   ],
   "source": [
    "plt.figure(figsize = (10,9))\n",
    "sns.catplot(x = 'release_quater', y = 'revenue', data = df)\n",
    "plt.xticks(fontsize = 10)\n",
    "plt.show()"
   ]
  },
  {
   "cell_type": "code",
   "execution_count": 52,
   "id": "f1a678ae",
   "metadata": {},
   "outputs": [],
   "source": [
    "df['release_day_of_week'] = df['release_date'].dt.weekday"
   ]
  },
  {
   "cell_type": "code",
   "execution_count": 53,
   "id": "affe4538",
   "metadata": {},
   "outputs": [
    {
     "data": {
      "text/plain": [
       "<Figure size 720x648 with 0 Axes>"
      ]
     },
     "metadata": {},
     "output_type": "display_data"
    },
    {
     "data": {
      "image/png": "[encoded data removed]",
      "text/plain": [
       "<Figure size 360x360 with 1 Axes>"
      ]
     },
     "metadata": {
      "needs_background": "light"
     },
     "output_type": "display_data"
    }
   ],
   "source": [
    "plt.figure(figsize = (10,9))\n",
    "sns.catplot(x = 'release_day_of_week', y = 'revenue', data = df)\n",
    "loc, labels = plt.xticks()\n",
    "loc, labels = loc, [\"Mon\",\"Tue\",\"Wed\",\"Thu\",\"Fri\",\"Sat\",\"Sun\"]\n",
    "plt.xticks(loc, labels,fontsize = 10)\n",
    "plt.show()"
   ]
  },
  {
   "cell_type": "markdown",
   "id": "95273274",
   "metadata": {},
   "source": [
    "Surprisingly movie released on wednesday and thursday has more revenue.\n",
    "\n",
    "Well there seems to have correlation but it may not have one to one causal effect."
   ]
  },
  {
   "cell_type": "code",
   "execution_count": 54,
   "id": "ea31d56a",
   "metadata": {},
   "outputs": [],
   "source": [
    "#lets find out the top 20 movies on the basis of revenue\n",
    "movies_20 = df.sort_values(by = 'revenue', ascending = False).head(20)[['title','revenue','release_year']]"
   ]
  },
  {
   "cell_type": "code",
   "execution_count": 55,
   "id": "05c4ad16",
   "metadata": {},
   "outputs": [
    {
     "data": {
      "text/html": [
       "<div>\n",
       "<style scoped>\n",
       "    .dataframe tbody tr th:only-of-type {\n",
       "        vertical-align: middle;\n",
       "    }\n",
       "\n",
       "    .dataframe tbody tr th {\n",
       "        vertical-align: top;\n",
       "    }\n",
       "\n",
       "    .dataframe thead th {\n",
       "        text-align: right;\n",
       "    }\n",
       "</style>\n",
       "<table border=\"1\" class=\"dataframe\">\n",
       "  <thead>\n",
       "    <tr style=\"text-align: right;\">\n",
       "      <th></th>\n",
       "      <th>title</th>\n",
       "      <th>revenue</th>\n",
       "      <th>release_year</th>\n",
       "    </tr>\n",
       "  </thead>\n",
       "  <tbody>\n",
       "    <tr>\n",
       "      <th>1126</th>\n",
       "      <td>The Avengers</td>\n",
       "      <td>1519557910</td>\n",
       "      <td>2012</td>\n",
       "    </tr>\n",
       "    <tr>\n",
       "      <th>1761</th>\n",
       "      <td>Furious 7</td>\n",
       "      <td>1506249360</td>\n",
       "      <td>2015</td>\n",
       "    </tr>\n",
       "    <tr>\n",
       "      <th>2770</th>\n",
       "      <td>Avengers: Age of Ultron</td>\n",
       "      <td>1405403694</td>\n",
       "      <td>2015</td>\n",
       "    </tr>\n",
       "    <tr>\n",
       "      <th>684</th>\n",
       "      <td>Beauty and the Beast</td>\n",
       "      <td>1262886337</td>\n",
       "      <td>2017</td>\n",
       "    </tr>\n",
       "    <tr>\n",
       "      <th>2322</th>\n",
       "      <td>Transformers: Dark of the Moon</td>\n",
       "      <td>1123746996</td>\n",
       "      <td>2011</td>\n",
       "    </tr>\n",
       "    <tr>\n",
       "      <th>906</th>\n",
       "      <td>The Dark Knight Rises</td>\n",
       "      <td>1084939099</td>\n",
       "      <td>2012</td>\n",
       "    </tr>\n",
       "    <tr>\n",
       "      <th>2135</th>\n",
       "      <td>Pirates of the Caribbean: On Stranger Tides</td>\n",
       "      <td>1045713802</td>\n",
       "      <td>2011</td>\n",
       "    </tr>\n",
       "    <tr>\n",
       "      <th>2562</th>\n",
       "      <td>Finding Dory</td>\n",
       "      <td>1028570889</td>\n",
       "      <td>2016</td>\n",
       "    </tr>\n",
       "    <tr>\n",
       "      <th>881</th>\n",
       "      <td>Alice in Wonderland</td>\n",
       "      <td>1025491110</td>\n",
       "      <td>2010</td>\n",
       "    </tr>\n",
       "    <tr>\n",
       "      <th>734</th>\n",
       "      <td>Zootopia</td>\n",
       "      <td>1023784195</td>\n",
       "      <td>2016</td>\n",
       "    </tr>\n",
       "    <tr>\n",
       "      <th>2532</th>\n",
       "      <td>The Hobbit: An Unexpected Journey</td>\n",
       "      <td>1021103568</td>\n",
       "      <td>2012</td>\n",
       "    </tr>\n",
       "    <tr>\n",
       "      <th>1673</th>\n",
       "      <td>The Dark Knight</td>\n",
       "      <td>1004558444</td>\n",
       "      <td>2008</td>\n",
       "    </tr>\n",
       "    <tr>\n",
       "      <th>2209</th>\n",
       "      <td>Pirates of the Caribbean: At World's End</td>\n",
       "      <td>961000000</td>\n",
       "      <td>2007</td>\n",
       "    </tr>\n",
       "    <tr>\n",
       "      <th>666</th>\n",
       "      <td>The Hobbit: The Desolation of Smaug</td>\n",
       "      <td>958400000</td>\n",
       "      <td>2013</td>\n",
       "    </tr>\n",
       "    <tr>\n",
       "      <th>961</th>\n",
       "      <td>Harry Potter and the Half-Blood Prince</td>\n",
       "      <td>933959197</td>\n",
       "      <td>2009</td>\n",
       "    </tr>\n",
       "    <tr>\n",
       "      <th>543</th>\n",
       "      <td>The Lord of the Rings: The Two Towers</td>\n",
       "      <td>926287400</td>\n",
       "      <td>2002</td>\n",
       "    </tr>\n",
       "    <tr>\n",
       "      <th>1735</th>\n",
       "      <td>Jurassic Park</td>\n",
       "      <td>920100000</td>\n",
       "      <td>1993</td>\n",
       "    </tr>\n",
       "    <tr>\n",
       "      <th>2387</th>\n",
       "      <td>Ice Age: Dawn of the Dinosaurs</td>\n",
       "      <td>886686817</td>\n",
       "      <td>2009</td>\n",
       "    </tr>\n",
       "    <tr>\n",
       "      <th>2737</th>\n",
       "      <td>Spectre</td>\n",
       "      <td>880674609</td>\n",
       "      <td>2015</td>\n",
       "    </tr>\n",
       "    <tr>\n",
       "      <th>2802</th>\n",
       "      <td>Harry Potter and the Chamber of Secrets</td>\n",
       "      <td>876688482</td>\n",
       "      <td>2002</td>\n",
       "    </tr>\n",
       "  </tbody>\n",
       "</table>\n",
       "</div>"
      ],
      "text/plain": [
       "                                            title     revenue  release_year\n",
       "1126                                 The Avengers  1519557910          2012\n",
       "1761                                    Furious 7  1506249360          2015\n",
       "2770                      Avengers: Age of Ultron  1405403694          2015\n",
       "684                          Beauty and the Beast  1262886337          2017\n",
       "2322               Transformers: Dark of the Moon  1123746996          2011\n",
       "906                         The Dark Knight Rises  1084939099          2012\n",
       "2135  Pirates of the Caribbean: On Stranger Tides  1045713802          2011\n",
       "2562                                 Finding Dory  1028570889          2016\n",
       "881                           Alice in Wonderland  1025491110          2010\n",
       "734                                      Zootopia  1023784195          2016\n",
       "2532            The Hobbit: An Unexpected Journey  1021103568          2012\n",
       "1673                              The Dark Knight  1004558444          2008\n",
       "2209     Pirates of the Caribbean: At World's End   961000000          2007\n",
       "666           The Hobbit: The Desolation of Smaug   958400000          2013\n",
       "961        Harry Potter and the Half-Blood Prince   933959197          2009\n",
       "543         The Lord of the Rings: The Two Towers   926287400          2002\n",
       "1735                                Jurassic Park   920100000          1993\n",
       "2387               Ice Age: Dawn of the Dinosaurs   886686817          2009\n",
       "2737                                      Spectre   880674609          2015\n",
       "2802      Harry Potter and the Chamber of Secrets   876688482          2002"
      ]
     },
     "execution_count": 55,
     "metadata": {},
     "output_type": "execute_result"
    }
   ],
   "source": [
    "movies_20"
   ]
  },
  {
   "cell_type": "code",
   "execution_count": 56,
   "id": "844c991a",
   "metadata": {},
   "outputs": [
    {
     "name": "stderr",
     "output_type": "stream",
     "text": [
      "/Users/samragneedutta/opt/anaconda3/lib/python3.9/site-packages/seaborn/distributions.py:2619: FutureWarning: `distplot` is a deprecated function and will be removed in a future version. Please adapt your code to use either `displot` (a figure-level function with similar flexibility) or `histplot` (an axes-level function for histograms).\n",
      "  warnings.warn(msg, FutureWarning)\n"
     ]
    },
    {
     "data": {
      "image/png": "[encoded data removed]",
      "text/plain": [
       "<Figure size 864x576 with 2 Axes>"
      ]
     },
     "metadata": {
      "needs_background": "light"
     },
     "output_type": "display_data"
    }
   ],
   "source": [
    "#lets find if there is any relation between runtime and revenue\n",
    "plt.figure(figsize=(12,8))\n",
    "plt.subplot(1,2,1)\n",
    "sns.distplot(df['runtime'].fillna(0) / 60, bins=40, kde=False); #filling runtime with 0 if there were any missing values\n",
    "plt.title('Distribution of length of film in hours');\n",
    "plt.subplot(1,2,2)\n",
    "sns.scatterplot(x=df['runtime'].fillna(0)/60, y = df['revenue'], data = df)\n",
    "plt.show()\n"
   ]
  },
  {
   "cell_type": "markdown",
   "id": "35e403b2",
   "metadata": {},
   "source": [
    "Here we have run time in hour on x-axis and freq of movie in on y axis and then we cas see that most of the movie are between 1-3 hr.And the movie that fall on this duration has highest revenue."
   ]
  },
  {
   "cell_type": "code",
   "execution_count": 57,
   "id": "93c4f139",
   "metadata": {},
   "outputs": [
    {
     "data": {
      "text/plain": [
       "0                            [Comedy]\n",
       "1    [Comedy, Drama, Family, Romance]\n",
       "2                             [Drama]\n",
       "3                   [Thriller, Drama]\n",
       "4                  [Action, Thriller]\n",
       "Name: genres, dtype: object"
      ]
     },
     "execution_count": 57,
     "metadata": {},
     "output_type": "execute_result"
    }
   ],
   "source": [
    "\n",
    "import ast\n",
    "\n",
    "# Apply the same preprocessing on the string values\n",
    "df.genres = df.genres.apply(lambda x: list(map(lambda d: list(d.values())[1], ast.literal_eval(x)) if isinstance(x, str) else []))\n",
    "df.genres.head()\n",
    "\n"
   ]
  },
  {
   "cell_type": "code",
   "execution_count": 58,
   "id": "ed71e690",
   "metadata": {},
   "outputs": [
    {
     "name": "stderr",
     "output_type": "stream",
     "text": [
      "/var/folders/h7/kvjdz9_d599csh3v1hfgmj700000gn/T/ipykernel_34107/64936185.py:1: FutureWarning: The default dtype for empty Series will be 'object' instead of 'float64' in a future version. Specify a dtype explicitly to silence this warning.\n",
      "  unique_genres = df[\"genres\"].apply(pd.Series).stack().unique()\n"
     ]
    },
    {
     "name": "stdout",
     "output_type": "stream",
     "text": [
      "Number of genres: 20\n",
      "Genres: ['Comedy' 'Drama' 'Family' 'Romance' 'Thriller' 'Action' 'Animation'\n",
      " 'Adventure' 'Horror' 'Documentary' 'Music' 'Crime' 'Science Fiction'\n",
      " 'Mystery' 'Foreign' 'Fantasy' 'War' 'Western' 'History' 'TV Movie']\n"
     ]
    }
   ],
   "source": [
    "unique_genres = df[\"genres\"].apply(pd.Series).stack().unique()\n",
    "print(\"Number of genres: {}\".format(len(unique_genres)))\n",
    "print(\"Genres: {}\".format(unique_genres))"
   ]
  },
  {
   "cell_type": "code",
   "execution_count": 59,
   "id": "48d49e14",
   "metadata": {},
   "outputs": [
    {
     "name": "stderr",
     "output_type": "stream",
     "text": [
      "/var/folders/h7/kvjdz9_d599csh3v1hfgmj700000gn/T/ipykernel_34107/3419681099.py:1: FutureWarning: The default dtype for empty Series will be 'object' instead of 'float64' in a future version. Specify a dtype explicitly to silence this warning.\n",
      "  genres_dummies = pd.get_dummies(df[\"genres\"].apply(pd.Series).stack()).sum(level=0) #one hot encoding\n",
      "/var/folders/h7/kvjdz9_d599csh3v1hfgmj700000gn/T/ipykernel_34107/3419681099.py:1: FutureWarning: Using the level keyword in DataFrame and Series aggregations is deprecated and will be removed in a future version. Use groupby instead. df.sum(level=1) should use df.groupby(level=1).sum().\n",
      "  genres_dummies = pd.get_dummies(df[\"genres\"].apply(pd.Series).stack()).sum(level=0) #one hot encoding\n"
     ]
    },
    {
     "data": {
      "text/html": [
       "<div>\n",
       "<style scoped>\n",
       "    .dataframe tbody tr th:only-of-type {\n",
       "        vertical-align: middle;\n",
       "    }\n",
       "\n",
       "    .dataframe tbody tr th {\n",
       "        vertical-align: top;\n",
       "    }\n",
       "\n",
       "    .dataframe thead th {\n",
       "        text-align: right;\n",
       "    }\n",
       "</style>\n",
       "<table border=\"1\" class=\"dataframe\">\n",
       "  <thead>\n",
       "    <tr style=\"text-align: right;\">\n",
       "      <th></th>\n",
       "      <th>Action</th>\n",
       "      <th>Adventure</th>\n",
       "      <th>Animation</th>\n",
       "      <th>Comedy</th>\n",
       "      <th>Crime</th>\n",
       "      <th>Documentary</th>\n",
       "      <th>Drama</th>\n",
       "      <th>Family</th>\n",
       "      <th>Fantasy</th>\n",
       "      <th>Foreign</th>\n",
       "      <th>History</th>\n",
       "      <th>Horror</th>\n",
       "      <th>Music</th>\n",
       "      <th>Mystery</th>\n",
       "      <th>Romance</th>\n",
       "      <th>Science Fiction</th>\n",
       "      <th>TV Movie</th>\n",
       "      <th>Thriller</th>\n",
       "      <th>War</th>\n",
       "      <th>Western</th>\n",
       "    </tr>\n",
       "  </thead>\n",
       "  <tbody>\n",
       "    <tr>\n",
       "      <th>0</th>\n",
       "      <td>0</td>\n",
       "      <td>0</td>\n",
       "      <td>0</td>\n",
       "      <td>1</td>\n",
       "      <td>0</td>\n",
       "      <td>0</td>\n",
       "      <td>0</td>\n",
       "      <td>0</td>\n",
       "      <td>0</td>\n",
       "      <td>0</td>\n",
       "      <td>0</td>\n",
       "      <td>0</td>\n",
       "      <td>0</td>\n",
       "      <td>0</td>\n",
       "      <td>0</td>\n",
       "      <td>0</td>\n",
       "      <td>0</td>\n",
       "      <td>0</td>\n",
       "      <td>0</td>\n",
       "      <td>0</td>\n",
       "    </tr>\n",
       "    <tr>\n",
       "      <th>1</th>\n",
       "      <td>0</td>\n",
       "      <td>0</td>\n",
       "      <td>0</td>\n",
       "      <td>1</td>\n",
       "      <td>0</td>\n",
       "      <td>0</td>\n",
       "      <td>1</td>\n",
       "      <td>1</td>\n",
       "      <td>0</td>\n",
       "      <td>0</td>\n",
       "      <td>0</td>\n",
       "      <td>0</td>\n",
       "      <td>0</td>\n",
       "      <td>0</td>\n",
       "      <td>1</td>\n",
       "      <td>0</td>\n",
       "      <td>0</td>\n",
       "      <td>0</td>\n",
       "      <td>0</td>\n",
       "      <td>0</td>\n",
       "    </tr>\n",
       "    <tr>\n",
       "      <th>2</th>\n",
       "      <td>0</td>\n",
       "      <td>0</td>\n",
       "      <td>0</td>\n",
       "      <td>0</td>\n",
       "      <td>0</td>\n",
       "      <td>0</td>\n",
       "      <td>1</td>\n",
       "      <td>0</td>\n",
       "      <td>0</td>\n",
       "      <td>0</td>\n",
       "      <td>0</td>\n",
       "      <td>0</td>\n",
       "      <td>0</td>\n",
       "      <td>0</td>\n",
       "      <td>0</td>\n",
       "      <td>0</td>\n",
       "      <td>0</td>\n",
       "      <td>0</td>\n",
       "      <td>0</td>\n",
       "      <td>0</td>\n",
       "    </tr>\n",
       "    <tr>\n",
       "      <th>3</th>\n",
       "      <td>0</td>\n",
       "      <td>0</td>\n",
       "      <td>0</td>\n",
       "      <td>0</td>\n",
       "      <td>0</td>\n",
       "      <td>0</td>\n",
       "      <td>1</td>\n",
       "      <td>0</td>\n",
       "      <td>0</td>\n",
       "      <td>0</td>\n",
       "      <td>0</td>\n",
       "      <td>0</td>\n",
       "      <td>0</td>\n",
       "      <td>0</td>\n",
       "      <td>0</td>\n",
       "      <td>0</td>\n",
       "      <td>0</td>\n",
       "      <td>1</td>\n",
       "      <td>0</td>\n",
       "      <td>0</td>\n",
       "    </tr>\n",
       "    <tr>\n",
       "      <th>4</th>\n",
       "      <td>1</td>\n",
       "      <td>0</td>\n",
       "      <td>0</td>\n",
       "      <td>0</td>\n",
       "      <td>0</td>\n",
       "      <td>0</td>\n",
       "      <td>0</td>\n",
       "      <td>0</td>\n",
       "      <td>0</td>\n",
       "      <td>0</td>\n",
       "      <td>0</td>\n",
       "      <td>0</td>\n",
       "      <td>0</td>\n",
       "      <td>0</td>\n",
       "      <td>0</td>\n",
       "      <td>0</td>\n",
       "      <td>0</td>\n",
       "      <td>1</td>\n",
       "      <td>0</td>\n",
       "      <td>0</td>\n",
       "    </tr>\n",
       "  </tbody>\n",
       "</table>\n",
       "</div>"
      ],
      "text/plain": [
       "   Action  Adventure  Animation  Comedy  Crime  Documentary  Drama  Family  \\\n",
       "0       0          0          0       1      0            0      0       0   \n",
       "1       0          0          0       1      0            0      1       1   \n",
       "2       0          0          0       0      0            0      1       0   \n",
       "3       0          0          0       0      0            0      1       0   \n",
       "4       1          0          0       0      0            0      0       0   \n",
       "\n",
       "   Fantasy  Foreign  History  Horror  Music  Mystery  Romance  \\\n",
       "0        0        0        0       0      0        0        0   \n",
       "1        0        0        0       0      0        0        1   \n",
       "2        0        0        0       0      0        0        0   \n",
       "3        0        0        0       0      0        0        0   \n",
       "4        0        0        0       0      0        0        0   \n",
       "\n",
       "   Science Fiction  TV Movie  Thriller  War  Western  \n",
       "0                0         0         0    0        0  \n",
       "1                0         0         0    0        0  \n",
       "2                0         0         0    0        0  \n",
       "3                0         0         1    0        0  \n",
       "4                0         0         1    0        0  "
      ]
     },
     "execution_count": 59,
     "metadata": {},
     "output_type": "execute_result"
    }
   ],
   "source": [
    "genres_dummies = pd.get_dummies(df[\"genres\"].apply(pd.Series).stack()).sum(level=0) #one hot encoding\n",
    "genres_dummies.head()"
   ]
  },
  {
   "cell_type": "code",
   "execution_count": 60,
   "id": "3d24f893",
   "metadata": {},
   "outputs": [
    {
     "data": {
      "text/html": [
       "<div>\n",
       "<style scoped>\n",
       "    .dataframe tbody tr th:only-of-type {\n",
       "        vertical-align: middle;\n",
       "    }\n",
       "\n",
       "    .dataframe tbody tr th {\n",
       "        vertical-align: top;\n",
       "    }\n",
       "\n",
       "    .dataframe thead th {\n",
       "        text-align: right;\n",
       "    }\n",
       "</style>\n",
       "<table border=\"1\" class=\"dataframe\">\n",
       "  <thead>\n",
       "    <tr style=\"text-align: right;\">\n",
       "      <th></th>\n",
       "      <th>id</th>\n",
       "      <th>belongs_to_collection</th>\n",
       "      <th>budget</th>\n",
       "      <th>genres</th>\n",
       "      <th>homepage</th>\n",
       "      <th>imdb_id</th>\n",
       "      <th>original_language</th>\n",
       "      <th>original_title</th>\n",
       "      <th>overview</th>\n",
       "      <th>popularity</th>\n",
       "      <th>...</th>\n",
       "      <th>History</th>\n",
       "      <th>Horror</th>\n",
       "      <th>Music</th>\n",
       "      <th>Mystery</th>\n",
       "      <th>Romance</th>\n",
       "      <th>Science Fiction</th>\n",
       "      <th>TV Movie</th>\n",
       "      <th>Thriller</th>\n",
       "      <th>War</th>\n",
       "      <th>Western</th>\n",
       "    </tr>\n",
       "  </thead>\n",
       "  <tbody>\n",
       "    <tr>\n",
       "      <th>0</th>\n",
       "      <td>1</td>\n",
       "      <td>[{'id': 313576, 'name': 'Hot Tub Time Machine ...</td>\n",
       "      <td>14000000</td>\n",
       "      <td>[Comedy]</td>\n",
       "      <td>NaN</td>\n",
       "      <td>tt2637294</td>\n",
       "      <td>en</td>\n",
       "      <td>Hot Tub Time Machine 2</td>\n",
       "      <td>When Lou, who has become the \"father of the In...</td>\n",
       "      <td>6.575393</td>\n",
       "      <td>...</td>\n",
       "      <td>0.0</td>\n",
       "      <td>0.0</td>\n",
       "      <td>0.0</td>\n",
       "      <td>0.0</td>\n",
       "      <td>0.0</td>\n",
       "      <td>0.0</td>\n",
       "      <td>0.0</td>\n",
       "      <td>0.0</td>\n",
       "      <td>0.0</td>\n",
       "      <td>0.0</td>\n",
       "    </tr>\n",
       "    <tr>\n",
       "      <th>1</th>\n",
       "      <td>2</td>\n",
       "      <td>[{'id': 107674, 'name': 'The Princess Diaries ...</td>\n",
       "      <td>40000000</td>\n",
       "      <td>[Comedy, Drama, Family, Romance]</td>\n",
       "      <td>NaN</td>\n",
       "      <td>tt0368933</td>\n",
       "      <td>en</td>\n",
       "      <td>The Princess Diaries 2: Royal Engagement</td>\n",
       "      <td>Mia Thermopolis is now a college graduate and ...</td>\n",
       "      <td>8.248895</td>\n",
       "      <td>...</td>\n",
       "      <td>0.0</td>\n",
       "      <td>0.0</td>\n",
       "      <td>0.0</td>\n",
       "      <td>0.0</td>\n",
       "      <td>1.0</td>\n",
       "      <td>0.0</td>\n",
       "      <td>0.0</td>\n",
       "      <td>0.0</td>\n",
       "      <td>0.0</td>\n",
       "      <td>0.0</td>\n",
       "    </tr>\n",
       "    <tr>\n",
       "      <th>2</th>\n",
       "      <td>3</td>\n",
       "      <td>NaN</td>\n",
       "      <td>3300000</td>\n",
       "      <td>[Drama]</td>\n",
       "      <td>http://sonyclassics.com/whiplash/</td>\n",
       "      <td>tt2582802</td>\n",
       "      <td>en</td>\n",
       "      <td>Whiplash</td>\n",
       "      <td>Under the direction of a ruthless instructor, ...</td>\n",
       "      <td>64.299990</td>\n",
       "      <td>...</td>\n",
       "      <td>0.0</td>\n",
       "      <td>0.0</td>\n",
       "      <td>0.0</td>\n",
       "      <td>0.0</td>\n",
       "      <td>0.0</td>\n",
       "      <td>0.0</td>\n",
       "      <td>0.0</td>\n",
       "      <td>0.0</td>\n",
       "      <td>0.0</td>\n",
       "      <td>0.0</td>\n",
       "    </tr>\n",
       "    <tr>\n",
       "      <th>3</th>\n",
       "      <td>4</td>\n",
       "      <td>NaN</td>\n",
       "      <td>1200000</td>\n",
       "      <td>[Thriller, Drama]</td>\n",
       "      <td>http://kahaanithefilm.com/</td>\n",
       "      <td>tt1821480</td>\n",
       "      <td>hi</td>\n",
       "      <td>Kahaani</td>\n",
       "      <td>Vidya Bagchi (Vidya Balan) arrives in Kolkata ...</td>\n",
       "      <td>3.174936</td>\n",
       "      <td>...</td>\n",
       "      <td>0.0</td>\n",
       "      <td>0.0</td>\n",
       "      <td>0.0</td>\n",
       "      <td>0.0</td>\n",
       "      <td>0.0</td>\n",
       "      <td>0.0</td>\n",
       "      <td>0.0</td>\n",
       "      <td>1.0</td>\n",
       "      <td>0.0</td>\n",
       "      <td>0.0</td>\n",
       "    </tr>\n",
       "    <tr>\n",
       "      <th>4</th>\n",
       "      <td>5</td>\n",
       "      <td>NaN</td>\n",
       "      <td>0</td>\n",
       "      <td>[Action, Thriller]</td>\n",
       "      <td>NaN</td>\n",
       "      <td>tt1380152</td>\n",
       "      <td>ko</td>\n",
       "      <td>마린보이</td>\n",
       "      <td>Marine Boy is the story of a former national s...</td>\n",
       "      <td>1.148070</td>\n",
       "      <td>...</td>\n",
       "      <td>0.0</td>\n",
       "      <td>0.0</td>\n",
       "      <td>0.0</td>\n",
       "      <td>0.0</td>\n",
       "      <td>0.0</td>\n",
       "      <td>0.0</td>\n",
       "      <td>0.0</td>\n",
       "      <td>1.0</td>\n",
       "      <td>0.0</td>\n",
       "      <td>0.0</td>\n",
       "    </tr>\n",
       "  </tbody>\n",
       "</table>\n",
       "<p>5 rows × 52 columns</p>\n",
       "</div>"
      ],
      "text/plain": [
       "   id                              belongs_to_collection    budget  \\\n",
       "0   1  [{'id': 313576, 'name': 'Hot Tub Time Machine ...  14000000   \n",
       "1   2  [{'id': 107674, 'name': 'The Princess Diaries ...  40000000   \n",
       "2   3                                                NaN   3300000   \n",
       "3   4                                                NaN   1200000   \n",
       "4   5                                                NaN         0   \n",
       "\n",
       "                             genres                           homepage  \\\n",
       "0                          [Comedy]                                NaN   \n",
       "1  [Comedy, Drama, Family, Romance]                                NaN   \n",
       "2                           [Drama]  http://sonyclassics.com/whiplash/   \n",
       "3                 [Thriller, Drama]         http://kahaanithefilm.com/   \n",
       "4                [Action, Thriller]                                NaN   \n",
       "\n",
       "     imdb_id original_language                            original_title  \\\n",
       "0  tt2637294                en                    Hot Tub Time Machine 2   \n",
       "1  tt0368933                en  The Princess Diaries 2: Royal Engagement   \n",
       "2  tt2582802                en                                  Whiplash   \n",
       "3  tt1821480                hi                                   Kahaani   \n",
       "4  tt1380152                ko                                      마린보이   \n",
       "\n",
       "                                            overview  popularity  ... History  \\\n",
       "0  When Lou, who has become the \"father of the In...    6.575393  ...     0.0   \n",
       "1  Mia Thermopolis is now a college graduate and ...    8.248895  ...     0.0   \n",
       "2  Under the direction of a ruthless instructor, ...   64.299990  ...     0.0   \n",
       "3  Vidya Bagchi (Vidya Balan) arrives in Kolkata ...    3.174936  ...     0.0   \n",
       "4  Marine Boy is the story of a former national s...    1.148070  ...     0.0   \n",
       "\n",
       "  Horror Music Mystery  Romance Science Fiction TV Movie Thriller  War Western  \n",
       "0    0.0   0.0     0.0      0.0             0.0      0.0      0.0  0.0     0.0  \n",
       "1    0.0   0.0     0.0      1.0             0.0      0.0      0.0  0.0     0.0  \n",
       "2    0.0   0.0     0.0      0.0             0.0      0.0      0.0  0.0     0.0  \n",
       "3    0.0   0.0     0.0      0.0             0.0      0.0      1.0  0.0     0.0  \n",
       "4    0.0   0.0     0.0      0.0             0.0      0.0      1.0  0.0     0.0  \n",
       "\n",
       "[5 rows x 52 columns]"
      ]
     },
     "execution_count": 60,
     "metadata": {},
     "output_type": "execute_result"
    }
   ],
   "source": [
    "train_genres = pd.concat([df, genres_dummies],axis=1, sort=False) #merging two data frame\n",
    "train_genres.head(5)"
   ]
  },
  {
   "cell_type": "code",
   "execution_count": 61,
   "id": "7b70ccc9",
   "metadata": {},
   "outputs": [
    {
     "data": {
      "image/png": "[encoded data removed]",
      "text/plain": [
       "<Figure size 1080x360 with 1 Axes>"
      ]
     },
     "metadata": {
      "needs_background": "light"
     },
     "output_type": "display_data"
    }
   ],
   "source": [
    "genres_overall = train_genres[unique_genres].sum().sort_values(ascending=False)\n",
    "plt.figure(figsize=(15,5))\n",
    "ax = sns.barplot(x=genres_overall.index, y=genres_overall.values)\n",
    "plt.xticks(rotation=90)\n",
    "plt.title(\"Popularity of genres overall\")\n",
    "plt.ylabel(\"count\")\n",
    "plt.show()"
   ]
  },
  {
   "cell_type": "markdown",
   "id": "812ce0bb",
   "metadata": {},
   "source": [
    "We can see that , from above genre, Drama is more popular ad foreign movie are least popular.\n",
    "\n"
   ]
  },
  {
   "cell_type": "markdown",
   "id": "1ea22a4f",
   "metadata": {},
   "source": [
    "<h2>Model Prediction\n",
    "    \n"
   ]
  },
  {
   "cell_type": "code",
   "execution_count": 62,
   "id": "95e47e1d",
   "metadata": {},
   "outputs": [
    {
     "data": {
      "text/plain": [
       "Index(['id', 'belongs_to_collection', 'budget', 'genres', 'homepage',\n",
       "       'imdb_id', 'original_language', 'original_title', 'overview',\n",
       "       'popularity', 'poster_path', 'production_companies',\n",
       "       'production_countries', 'release_date', 'runtime', 'spoken_languages',\n",
       "       'status', 'tagline', 'title', 'Keywords', 'cast', 'crew', 'revenue',\n",
       "       'release date', 'log_revenue', 'log_budget', 'has_homepage',\n",
       "       'release year', 'release_year', 'release_month', 'release_quater',\n",
       "       'release_day_of_week', 'Action', 'Adventure', 'Animation', 'Comedy',\n",
       "       'Crime', 'Documentary', 'Drama', 'Family', 'Fantasy', 'Foreign',\n",
       "       'History', 'Horror', 'Music', 'Mystery', 'Romance', 'Science Fiction',\n",
       "       'TV Movie', 'Thriller', 'War', 'Western'],\n",
       "      dtype='object')"
      ]
     },
     "execution_count": 62,
     "metadata": {},
     "output_type": "execute_result"
    }
   ],
   "source": [
    "train_genres.columns\n"
   ]
  },
  {
   "cell_type": "code",
   "execution_count": 63,
   "id": "0edb35fb",
   "metadata": {},
   "outputs": [],
   "source": [
    "numerics = ['int16', 'int32', 'int64', 'float16', 'float32', 'float64'] #so that easy for us to perform  train and test\n",
    "df_train=train_genres.select_dtypes(include=numerics)"
   ]
  },
  {
   "cell_type": "code",
   "execution_count": 64,
   "id": "def06188",
   "metadata": {},
   "outputs": [
    {
     "data": {
      "text/html": [
       "<div>\n",
       "<style scoped>\n",
       "    .dataframe tbody tr th:only-of-type {\n",
       "        vertical-align: middle;\n",
       "    }\n",
       "\n",
       "    .dataframe tbody tr th {\n",
       "        vertical-align: top;\n",
       "    }\n",
       "\n",
       "    .dataframe thead th {\n",
       "        text-align: right;\n",
       "    }\n",
       "</style>\n",
       "<table border=\"1\" class=\"dataframe\">\n",
       "  <thead>\n",
       "    <tr style=\"text-align: right;\">\n",
       "      <th></th>\n",
       "      <th>id</th>\n",
       "      <th>budget</th>\n",
       "      <th>popularity</th>\n",
       "      <th>runtime</th>\n",
       "      <th>revenue</th>\n",
       "      <th>log_revenue</th>\n",
       "      <th>log_budget</th>\n",
       "      <th>has_homepage</th>\n",
       "      <th>release year</th>\n",
       "      <th>release_year</th>\n",
       "      <th>...</th>\n",
       "      <th>History</th>\n",
       "      <th>Horror</th>\n",
       "      <th>Music</th>\n",
       "      <th>Mystery</th>\n",
       "      <th>Romance</th>\n",
       "      <th>Science Fiction</th>\n",
       "      <th>TV Movie</th>\n",
       "      <th>Thriller</th>\n",
       "      <th>War</th>\n",
       "      <th>Western</th>\n",
       "    </tr>\n",
       "  </thead>\n",
       "  <tbody>\n",
       "    <tr>\n",
       "      <th>0</th>\n",
       "      <td>1</td>\n",
       "      <td>14000000</td>\n",
       "      <td>6.575393</td>\n",
       "      <td>93.0</td>\n",
       "      <td>12314651</td>\n",
       "      <td>16.326300</td>\n",
       "      <td>16.454568</td>\n",
       "      <td>0</td>\n",
       "      <td>2015</td>\n",
       "      <td>2015</td>\n",
       "      <td>...</td>\n",
       "      <td>0.0</td>\n",
       "      <td>0.0</td>\n",
       "      <td>0.0</td>\n",
       "      <td>0.0</td>\n",
       "      <td>0.0</td>\n",
       "      <td>0.0</td>\n",
       "      <td>0.0</td>\n",
       "      <td>0.0</td>\n",
       "      <td>0.0</td>\n",
       "      <td>0.0</td>\n",
       "    </tr>\n",
       "    <tr>\n",
       "      <th>1</th>\n",
       "      <td>2</td>\n",
       "      <td>40000000</td>\n",
       "      <td>8.248895</td>\n",
       "      <td>113.0</td>\n",
       "      <td>95149435</td>\n",
       "      <td>18.370959</td>\n",
       "      <td>17.504390</td>\n",
       "      <td>0</td>\n",
       "      <td>2004</td>\n",
       "      <td>2004</td>\n",
       "      <td>...</td>\n",
       "      <td>0.0</td>\n",
       "      <td>0.0</td>\n",
       "      <td>0.0</td>\n",
       "      <td>0.0</td>\n",
       "      <td>1.0</td>\n",
       "      <td>0.0</td>\n",
       "      <td>0.0</td>\n",
       "      <td>0.0</td>\n",
       "      <td>0.0</td>\n",
       "      <td>0.0</td>\n",
       "    </tr>\n",
       "    <tr>\n",
       "      <th>2</th>\n",
       "      <td>3</td>\n",
       "      <td>3300000</td>\n",
       "      <td>64.299990</td>\n",
       "      <td>105.0</td>\n",
       "      <td>13092000</td>\n",
       "      <td>16.387512</td>\n",
       "      <td>15.009433</td>\n",
       "      <td>1</td>\n",
       "      <td>2014</td>\n",
       "      <td>2014</td>\n",
       "      <td>...</td>\n",
       "      <td>0.0</td>\n",
       "      <td>0.0</td>\n",
       "      <td>0.0</td>\n",
       "      <td>0.0</td>\n",
       "      <td>0.0</td>\n",
       "      <td>0.0</td>\n",
       "      <td>0.0</td>\n",
       "      <td>0.0</td>\n",
       "      <td>0.0</td>\n",
       "      <td>0.0</td>\n",
       "    </tr>\n",
       "    <tr>\n",
       "      <th>3</th>\n",
       "      <td>4</td>\n",
       "      <td>1200000</td>\n",
       "      <td>3.174936</td>\n",
       "      <td>122.0</td>\n",
       "      <td>16000000</td>\n",
       "      <td>16.588099</td>\n",
       "      <td>13.997833</td>\n",
       "      <td>1</td>\n",
       "      <td>2012</td>\n",
       "      <td>2012</td>\n",
       "      <td>...</td>\n",
       "      <td>0.0</td>\n",
       "      <td>0.0</td>\n",
       "      <td>0.0</td>\n",
       "      <td>0.0</td>\n",
       "      <td>0.0</td>\n",
       "      <td>0.0</td>\n",
       "      <td>0.0</td>\n",
       "      <td>1.0</td>\n",
       "      <td>0.0</td>\n",
       "      <td>0.0</td>\n",
       "    </tr>\n",
       "    <tr>\n",
       "      <th>4</th>\n",
       "      <td>5</td>\n",
       "      <td>0</td>\n",
       "      <td>1.148070</td>\n",
       "      <td>118.0</td>\n",
       "      <td>3923970</td>\n",
       "      <td>15.182615</td>\n",
       "      <td>0.000000</td>\n",
       "      <td>0</td>\n",
       "      <td>2009</td>\n",
       "      <td>2009</td>\n",
       "      <td>...</td>\n",
       "      <td>0.0</td>\n",
       "      <td>0.0</td>\n",
       "      <td>0.0</td>\n",
       "      <td>0.0</td>\n",
       "      <td>0.0</td>\n",
       "      <td>0.0</td>\n",
       "      <td>0.0</td>\n",
       "      <td>1.0</td>\n",
       "      <td>0.0</td>\n",
       "      <td>0.0</td>\n",
       "    </tr>\n",
       "    <tr>\n",
       "      <th>...</th>\n",
       "      <td>...</td>\n",
       "      <td>...</td>\n",
       "      <td>...</td>\n",
       "      <td>...</td>\n",
       "      <td>...</td>\n",
       "      <td>...</td>\n",
       "      <td>...</td>\n",
       "      <td>...</td>\n",
       "      <td>...</td>\n",
       "      <td>...</td>\n",
       "      <td>...</td>\n",
       "      <td>...</td>\n",
       "      <td>...</td>\n",
       "      <td>...</td>\n",
       "      <td>...</td>\n",
       "      <td>...</td>\n",
       "      <td>...</td>\n",
       "      <td>...</td>\n",
       "      <td>...</td>\n",
       "      <td>...</td>\n",
       "      <td>...</td>\n",
       "    </tr>\n",
       "    <tr>\n",
       "      <th>2995</th>\n",
       "      <td>2996</td>\n",
       "      <td>0</td>\n",
       "      <td>9.853270</td>\n",
       "      <td>102.0</td>\n",
       "      <td>1596687</td>\n",
       "      <td>14.283442</td>\n",
       "      <td>0.000000</td>\n",
       "      <td>0</td>\n",
       "      <td>1994</td>\n",
       "      <td>1994</td>\n",
       "      <td>...</td>\n",
       "      <td>0.0</td>\n",
       "      <td>0.0</td>\n",
       "      <td>0.0</td>\n",
       "      <td>0.0</td>\n",
       "      <td>1.0</td>\n",
       "      <td>0.0</td>\n",
       "      <td>0.0</td>\n",
       "      <td>0.0</td>\n",
       "      <td>0.0</td>\n",
       "      <td>0.0</td>\n",
       "    </tr>\n",
       "    <tr>\n",
       "      <th>2996</th>\n",
       "      <td>2997</td>\n",
       "      <td>0</td>\n",
       "      <td>3.727996</td>\n",
       "      <td>102.0</td>\n",
       "      <td>180590</td>\n",
       "      <td>12.103990</td>\n",
       "      <td>0.000000</td>\n",
       "      <td>0</td>\n",
       "      <td>2013</td>\n",
       "      <td>2013</td>\n",
       "      <td>...</td>\n",
       "      <td>0.0</td>\n",
       "      <td>0.0</td>\n",
       "      <td>1.0</td>\n",
       "      <td>0.0</td>\n",
       "      <td>0.0</td>\n",
       "      <td>0.0</td>\n",
       "      <td>0.0</td>\n",
       "      <td>0.0</td>\n",
       "      <td>0.0</td>\n",
       "      <td>0.0</td>\n",
       "    </tr>\n",
       "    <tr>\n",
       "      <th>2997</th>\n",
       "      <td>2998</td>\n",
       "      <td>65000000</td>\n",
       "      <td>14.482345</td>\n",
       "      <td>120.0</td>\n",
       "      <td>89456761</td>\n",
       "      <td>18.309266</td>\n",
       "      <td>17.989898</td>\n",
       "      <td>0</td>\n",
       "      <td>1996</td>\n",
       "      <td>1996</td>\n",
       "      <td>...</td>\n",
       "      <td>0.0</td>\n",
       "      <td>0.0</td>\n",
       "      <td>0.0</td>\n",
       "      <td>1.0</td>\n",
       "      <td>0.0</td>\n",
       "      <td>0.0</td>\n",
       "      <td>0.0</td>\n",
       "      <td>1.0</td>\n",
       "      <td>0.0</td>\n",
       "      <td>0.0</td>\n",
       "    </tr>\n",
       "    <tr>\n",
       "      <th>2998</th>\n",
       "      <td>2999</td>\n",
       "      <td>42000000</td>\n",
       "      <td>15.725542</td>\n",
       "      <td>90.0</td>\n",
       "      <td>171963386</td>\n",
       "      <td>18.962792</td>\n",
       "      <td>17.553180</td>\n",
       "      <td>1</td>\n",
       "      <td>2004</td>\n",
       "      <td>2004</td>\n",
       "      <td>...</td>\n",
       "      <td>0.0</td>\n",
       "      <td>0.0</td>\n",
       "      <td>0.0</td>\n",
       "      <td>0.0</td>\n",
       "      <td>1.0</td>\n",
       "      <td>0.0</td>\n",
       "      <td>0.0</td>\n",
       "      <td>0.0</td>\n",
       "      <td>0.0</td>\n",
       "      <td>0.0</td>\n",
       "    </tr>\n",
       "    <tr>\n",
       "      <th>2999</th>\n",
       "      <td>3000</td>\n",
       "      <td>35000000</td>\n",
       "      <td>10.512109</td>\n",
       "      <td>106.0</td>\n",
       "      <td>82087155</td>\n",
       "      <td>18.223292</td>\n",
       "      <td>17.370859</td>\n",
       "      <td>1</td>\n",
       "      <td>2011</td>\n",
       "      <td>2011</td>\n",
       "      <td>...</td>\n",
       "      <td>0.0</td>\n",
       "      <td>0.0</td>\n",
       "      <td>0.0</td>\n",
       "      <td>1.0</td>\n",
       "      <td>0.0</td>\n",
       "      <td>0.0</td>\n",
       "      <td>0.0</td>\n",
       "      <td>1.0</td>\n",
       "      <td>0.0</td>\n",
       "      <td>0.0</td>\n",
       "    </tr>\n",
       "  </tbody>\n",
       "</table>\n",
       "<p>3000 rows × 32 columns</p>\n",
       "</div>"
      ],
      "text/plain": [
       "        id    budget  popularity  runtime    revenue  log_revenue  log_budget  \\\n",
       "0        1  14000000    6.575393     93.0   12314651    16.326300   16.454568   \n",
       "1        2  40000000    8.248895    113.0   95149435    18.370959   17.504390   \n",
       "2        3   3300000   64.299990    105.0   13092000    16.387512   15.009433   \n",
       "3        4   1200000    3.174936    122.0   16000000    16.588099   13.997833   \n",
       "4        5         0    1.148070    118.0    3923970    15.182615    0.000000   \n",
       "...    ...       ...         ...      ...        ...          ...         ...   \n",
       "2995  2996         0    9.853270    102.0    1596687    14.283442    0.000000   \n",
       "2996  2997         0    3.727996    102.0     180590    12.103990    0.000000   \n",
       "2997  2998  65000000   14.482345    120.0   89456761    18.309266   17.989898   \n",
       "2998  2999  42000000   15.725542     90.0  171963386    18.962792   17.553180   \n",
       "2999  3000  35000000   10.512109    106.0   82087155    18.223292   17.370859   \n",
       "\n",
       "      has_homepage  release year  release_year  ...  History  Horror  Music  \\\n",
       "0                0          2015          2015  ...      0.0     0.0    0.0   \n",
       "1                0          2004          2004  ...      0.0     0.0    0.0   \n",
       "2                1          2014          2014  ...      0.0     0.0    0.0   \n",
       "3                1          2012          2012  ...      0.0     0.0    0.0   \n",
       "4                0          2009          2009  ...      0.0     0.0    0.0   \n",
       "...            ...           ...           ...  ...      ...     ...    ...   \n",
       "2995             0          1994          1994  ...      0.0     0.0    0.0   \n",
       "2996             0          2013          2013  ...      0.0     0.0    1.0   \n",
       "2997             0          1996          1996  ...      0.0     0.0    0.0   \n",
       "2998             1          2004          2004  ...      0.0     0.0    0.0   \n",
       "2999             1          2011          2011  ...      0.0     0.0    0.0   \n",
       "\n",
       "      Mystery  Romance  Science Fiction  TV Movie  Thriller  War  Western  \n",
       "0         0.0      0.0              0.0       0.0       0.0  0.0      0.0  \n",
       "1         0.0      1.0              0.0       0.0       0.0  0.0      0.0  \n",
       "2         0.0      0.0              0.0       0.0       0.0  0.0      0.0  \n",
       "3         0.0      0.0              0.0       0.0       1.0  0.0      0.0  \n",
       "4         0.0      0.0              0.0       0.0       1.0  0.0      0.0  \n",
       "...       ...      ...              ...       ...       ...  ...      ...  \n",
       "2995      0.0      1.0              0.0       0.0       0.0  0.0      0.0  \n",
       "2996      0.0      0.0              0.0       0.0       0.0  0.0      0.0  \n",
       "2997      1.0      0.0              0.0       0.0       1.0  0.0      0.0  \n",
       "2998      0.0      1.0              0.0       0.0       0.0  0.0      0.0  \n",
       "2999      1.0      0.0              0.0       0.0       1.0  0.0      0.0  \n",
       "\n",
       "[3000 rows x 32 columns]"
      ]
     },
     "execution_count": 64,
     "metadata": {},
     "output_type": "execute_result"
    }
   ],
   "source": [
    "df_train"
   ]
  },
  {
   "cell_type": "code",
   "execution_count": 65,
   "id": "ee1d0253",
   "metadata": {},
   "outputs": [],
   "source": [
    "df_train.drop(columns = 'id',inplace = True)"
   ]
  },
  {
   "cell_type": "code",
   "execution_count": 66,
   "id": "8dca3fe0",
   "metadata": {},
   "outputs": [],
   "source": [
    "df_train= df_train.fillna(df_train.median())"
   ]
  },
  {
   "cell_type": "code",
   "execution_count": 67,
   "id": "6175a789",
   "metadata": {},
   "outputs": [
    {
     "data": {
      "text/html": [
       "<div>\n",
       "<style scoped>\n",
       "    .dataframe tbody tr th:only-of-type {\n",
       "        vertical-align: middle;\n",
       "    }\n",
       "\n",
       "    .dataframe tbody tr th {\n",
       "        vertical-align: top;\n",
       "    }\n",
       "\n",
       "    .dataframe thead th {\n",
       "        text-align: right;\n",
       "    }\n",
       "</style>\n",
       "<table border=\"1\" class=\"dataframe\">\n",
       "  <thead>\n",
       "    <tr style=\"text-align: right;\">\n",
       "      <th></th>\n",
       "      <th>budget</th>\n",
       "      <th>popularity</th>\n",
       "      <th>runtime</th>\n",
       "      <th>revenue</th>\n",
       "      <th>log_revenue</th>\n",
       "      <th>log_budget</th>\n",
       "      <th>has_homepage</th>\n",
       "      <th>release year</th>\n",
       "      <th>release_year</th>\n",
       "      <th>release_quater</th>\n",
       "      <th>...</th>\n",
       "      <th>History</th>\n",
       "      <th>Horror</th>\n",
       "      <th>Music</th>\n",
       "      <th>Mystery</th>\n",
       "      <th>Romance</th>\n",
       "      <th>Science Fiction</th>\n",
       "      <th>TV Movie</th>\n",
       "      <th>Thriller</th>\n",
       "      <th>War</th>\n",
       "      <th>Western</th>\n",
       "    </tr>\n",
       "  </thead>\n",
       "  <tbody>\n",
       "    <tr>\n",
       "      <th>0</th>\n",
       "      <td>14000000</td>\n",
       "      <td>6.575393</td>\n",
       "      <td>93.0</td>\n",
       "      <td>12314651</td>\n",
       "      <td>16.326300</td>\n",
       "      <td>16.454568</td>\n",
       "      <td>0</td>\n",
       "      <td>2015</td>\n",
       "      <td>2015</td>\n",
       "      <td>1</td>\n",
       "      <td>...</td>\n",
       "      <td>0.0</td>\n",
       "      <td>0.0</td>\n",
       "      <td>0.0</td>\n",
       "      <td>0.0</td>\n",
       "      <td>0.0</td>\n",
       "      <td>0.0</td>\n",
       "      <td>0.0</td>\n",
       "      <td>0.0</td>\n",
       "      <td>0.0</td>\n",
       "      <td>0.0</td>\n",
       "    </tr>\n",
       "    <tr>\n",
       "      <th>1</th>\n",
       "      <td>40000000</td>\n",
       "      <td>8.248895</td>\n",
       "      <td>113.0</td>\n",
       "      <td>95149435</td>\n",
       "      <td>18.370959</td>\n",
       "      <td>17.504390</td>\n",
       "      <td>0</td>\n",
       "      <td>2004</td>\n",
       "      <td>2004</td>\n",
       "      <td>3</td>\n",
       "      <td>...</td>\n",
       "      <td>0.0</td>\n",
       "      <td>0.0</td>\n",
       "      <td>0.0</td>\n",
       "      <td>0.0</td>\n",
       "      <td>1.0</td>\n",
       "      <td>0.0</td>\n",
       "      <td>0.0</td>\n",
       "      <td>0.0</td>\n",
       "      <td>0.0</td>\n",
       "      <td>0.0</td>\n",
       "    </tr>\n",
       "    <tr>\n",
       "      <th>2</th>\n",
       "      <td>3300000</td>\n",
       "      <td>64.299990</td>\n",
       "      <td>105.0</td>\n",
       "      <td>13092000</td>\n",
       "      <td>16.387512</td>\n",
       "      <td>15.009433</td>\n",
       "      <td>1</td>\n",
       "      <td>2014</td>\n",
       "      <td>2014</td>\n",
       "      <td>4</td>\n",
       "      <td>...</td>\n",
       "      <td>0.0</td>\n",
       "      <td>0.0</td>\n",
       "      <td>0.0</td>\n",
       "      <td>0.0</td>\n",
       "      <td>0.0</td>\n",
       "      <td>0.0</td>\n",
       "      <td>0.0</td>\n",
       "      <td>0.0</td>\n",
       "      <td>0.0</td>\n",
       "      <td>0.0</td>\n",
       "    </tr>\n",
       "    <tr>\n",
       "      <th>3</th>\n",
       "      <td>1200000</td>\n",
       "      <td>3.174936</td>\n",
       "      <td>122.0</td>\n",
       "      <td>16000000</td>\n",
       "      <td>16.588099</td>\n",
       "      <td>13.997833</td>\n",
       "      <td>1</td>\n",
       "      <td>2012</td>\n",
       "      <td>2012</td>\n",
       "      <td>1</td>\n",
       "      <td>...</td>\n",
       "      <td>0.0</td>\n",
       "      <td>0.0</td>\n",
       "      <td>0.0</td>\n",
       "      <td>0.0</td>\n",
       "      <td>0.0</td>\n",
       "      <td>0.0</td>\n",
       "      <td>0.0</td>\n",
       "      <td>1.0</td>\n",
       "      <td>0.0</td>\n",
       "      <td>0.0</td>\n",
       "    </tr>\n",
       "    <tr>\n",
       "      <th>4</th>\n",
       "      <td>0</td>\n",
       "      <td>1.148070</td>\n",
       "      <td>118.0</td>\n",
       "      <td>3923970</td>\n",
       "      <td>15.182615</td>\n",
       "      <td>0.000000</td>\n",
       "      <td>0</td>\n",
       "      <td>2009</td>\n",
       "      <td>2009</td>\n",
       "      <td>1</td>\n",
       "      <td>...</td>\n",
       "      <td>0.0</td>\n",
       "      <td>0.0</td>\n",
       "      <td>0.0</td>\n",
       "      <td>0.0</td>\n",
       "      <td>0.0</td>\n",
       "      <td>0.0</td>\n",
       "      <td>0.0</td>\n",
       "      <td>1.0</td>\n",
       "      <td>0.0</td>\n",
       "      <td>0.0</td>\n",
       "    </tr>\n",
       "    <tr>\n",
       "      <th>...</th>\n",
       "      <td>...</td>\n",
       "      <td>...</td>\n",
       "      <td>...</td>\n",
       "      <td>...</td>\n",
       "      <td>...</td>\n",
       "      <td>...</td>\n",
       "      <td>...</td>\n",
       "      <td>...</td>\n",
       "      <td>...</td>\n",
       "      <td>...</td>\n",
       "      <td>...</td>\n",
       "      <td>...</td>\n",
       "      <td>...</td>\n",
       "      <td>...</td>\n",
       "      <td>...</td>\n",
       "      <td>...</td>\n",
       "      <td>...</td>\n",
       "      <td>...</td>\n",
       "      <td>...</td>\n",
       "      <td>...</td>\n",
       "      <td>...</td>\n",
       "    </tr>\n",
       "    <tr>\n",
       "      <th>2995</th>\n",
       "      <td>0</td>\n",
       "      <td>9.853270</td>\n",
       "      <td>102.0</td>\n",
       "      <td>1596687</td>\n",
       "      <td>14.283442</td>\n",
       "      <td>0.000000</td>\n",
       "      <td>0</td>\n",
       "      <td>1994</td>\n",
       "      <td>1994</td>\n",
       "      <td>2</td>\n",
       "      <td>...</td>\n",
       "      <td>0.0</td>\n",
       "      <td>0.0</td>\n",
       "      <td>0.0</td>\n",
       "      <td>0.0</td>\n",
       "      <td>1.0</td>\n",
       "      <td>0.0</td>\n",
       "      <td>0.0</td>\n",
       "      <td>0.0</td>\n",
       "      <td>0.0</td>\n",
       "      <td>0.0</td>\n",
       "    </tr>\n",
       "    <tr>\n",
       "      <th>2996</th>\n",
       "      <td>0</td>\n",
       "      <td>3.727996</td>\n",
       "      <td>102.0</td>\n",
       "      <td>180590</td>\n",
       "      <td>12.103990</td>\n",
       "      <td>0.000000</td>\n",
       "      <td>0</td>\n",
       "      <td>2013</td>\n",
       "      <td>2013</td>\n",
       "      <td>1</td>\n",
       "      <td>...</td>\n",
       "      <td>0.0</td>\n",
       "      <td>0.0</td>\n",
       "      <td>1.0</td>\n",
       "      <td>0.0</td>\n",
       "      <td>0.0</td>\n",
       "      <td>0.0</td>\n",
       "      <td>0.0</td>\n",
       "      <td>0.0</td>\n",
       "      <td>0.0</td>\n",
       "      <td>0.0</td>\n",
       "    </tr>\n",
       "    <tr>\n",
       "      <th>2997</th>\n",
       "      <td>65000000</td>\n",
       "      <td>14.482345</td>\n",
       "      <td>120.0</td>\n",
       "      <td>89456761</td>\n",
       "      <td>18.309266</td>\n",
       "      <td>17.989898</td>\n",
       "      <td>0</td>\n",
       "      <td>1996</td>\n",
       "      <td>1996</td>\n",
       "      <td>4</td>\n",
       "      <td>...</td>\n",
       "      <td>0.0</td>\n",
       "      <td>0.0</td>\n",
       "      <td>0.0</td>\n",
       "      <td>1.0</td>\n",
       "      <td>0.0</td>\n",
       "      <td>0.0</td>\n",
       "      <td>0.0</td>\n",
       "      <td>1.0</td>\n",
       "      <td>0.0</td>\n",
       "      <td>0.0</td>\n",
       "    </tr>\n",
       "    <tr>\n",
       "      <th>2998</th>\n",
       "      <td>42000000</td>\n",
       "      <td>15.725542</td>\n",
       "      <td>90.0</td>\n",
       "      <td>171963386</td>\n",
       "      <td>18.962792</td>\n",
       "      <td>17.553180</td>\n",
       "      <td>1</td>\n",
       "      <td>2004</td>\n",
       "      <td>2004</td>\n",
       "      <td>1</td>\n",
       "      <td>...</td>\n",
       "      <td>0.0</td>\n",
       "      <td>0.0</td>\n",
       "      <td>0.0</td>\n",
       "      <td>0.0</td>\n",
       "      <td>1.0</td>\n",
       "      <td>0.0</td>\n",
       "      <td>0.0</td>\n",
       "      <td>0.0</td>\n",
       "      <td>0.0</td>\n",
       "      <td>0.0</td>\n",
       "    </tr>\n",
       "    <tr>\n",
       "      <th>2999</th>\n",
       "      <td>35000000</td>\n",
       "      <td>10.512109</td>\n",
       "      <td>106.0</td>\n",
       "      <td>82087155</td>\n",
       "      <td>18.223292</td>\n",
       "      <td>17.370859</td>\n",
       "      <td>1</td>\n",
       "      <td>2011</td>\n",
       "      <td>2011</td>\n",
       "      <td>3</td>\n",
       "      <td>...</td>\n",
       "      <td>0.0</td>\n",
       "      <td>0.0</td>\n",
       "      <td>0.0</td>\n",
       "      <td>1.0</td>\n",
       "      <td>0.0</td>\n",
       "      <td>0.0</td>\n",
       "      <td>0.0</td>\n",
       "      <td>1.0</td>\n",
       "      <td>0.0</td>\n",
       "      <td>0.0</td>\n",
       "    </tr>\n",
       "  </tbody>\n",
       "</table>\n",
       "<p>3000 rows × 31 columns</p>\n",
       "</div>"
      ],
      "text/plain": [
       "        budget  popularity  runtime    revenue  log_revenue  log_budget  \\\n",
       "0     14000000    6.575393     93.0   12314651    16.326300   16.454568   \n",
       "1     40000000    8.248895    113.0   95149435    18.370959   17.504390   \n",
       "2      3300000   64.299990    105.0   13092000    16.387512   15.009433   \n",
       "3      1200000    3.174936    122.0   16000000    16.588099   13.997833   \n",
       "4            0    1.148070    118.0    3923970    15.182615    0.000000   \n",
       "...        ...         ...      ...        ...          ...         ...   \n",
       "2995         0    9.853270    102.0    1596687    14.283442    0.000000   \n",
       "2996         0    3.727996    102.0     180590    12.103990    0.000000   \n",
       "2997  65000000   14.482345    120.0   89456761    18.309266   17.989898   \n",
       "2998  42000000   15.725542     90.0  171963386    18.962792   17.553180   \n",
       "2999  35000000   10.512109    106.0   82087155    18.223292   17.370859   \n",
       "\n",
       "      has_homepage  release year  release_year  release_quater  ...  History  \\\n",
       "0                0          2015          2015               1  ...      0.0   \n",
       "1                0          2004          2004               3  ...      0.0   \n",
       "2                1          2014          2014               4  ...      0.0   \n",
       "3                1          2012          2012               1  ...      0.0   \n",
       "4                0          2009          2009               1  ...      0.0   \n",
       "...            ...           ...           ...             ...  ...      ...   \n",
       "2995             0          1994          1994               2  ...      0.0   \n",
       "2996             0          2013          2013               1  ...      0.0   \n",
       "2997             0          1996          1996               4  ...      0.0   \n",
       "2998             1          2004          2004               1  ...      0.0   \n",
       "2999             1          2011          2011               3  ...      0.0   \n",
       "\n",
       "      Horror  Music  Mystery  Romance  Science Fiction  TV Movie  Thriller  \\\n",
       "0        0.0    0.0      0.0      0.0              0.0       0.0       0.0   \n",
       "1        0.0    0.0      0.0      1.0              0.0       0.0       0.0   \n",
       "2        0.0    0.0      0.0      0.0              0.0       0.0       0.0   \n",
       "3        0.0    0.0      0.0      0.0              0.0       0.0       1.0   \n",
       "4        0.0    0.0      0.0      0.0              0.0       0.0       1.0   \n",
       "...      ...    ...      ...      ...              ...       ...       ...   \n",
       "2995     0.0    0.0      0.0      1.0              0.0       0.0       0.0   \n",
       "2996     0.0    1.0      0.0      0.0              0.0       0.0       0.0   \n",
       "2997     0.0    0.0      1.0      0.0              0.0       0.0       1.0   \n",
       "2998     0.0    0.0      0.0      1.0              0.0       0.0       0.0   \n",
       "2999     0.0    0.0      1.0      0.0              0.0       0.0       1.0   \n",
       "\n",
       "      War  Western  \n",
       "0     0.0      0.0  \n",
       "1     0.0      0.0  \n",
       "2     0.0      0.0  \n",
       "3     0.0      0.0  \n",
       "4     0.0      0.0  \n",
       "...   ...      ...  \n",
       "2995  0.0      0.0  \n",
       "2996  0.0      0.0  \n",
       "2997  0.0      0.0  \n",
       "2998  0.0      0.0  \n",
       "2999  0.0      0.0  \n",
       "\n",
       "[3000 rows x 31 columns]"
      ]
     },
     "execution_count": 67,
     "metadata": {},
     "output_type": "execute_result"
    }
   ],
   "source": [
    "df_train"
   ]
  },
  {
   "cell_type": "code",
   "execution_count": 68,
   "id": "c1dd5aa8",
   "metadata": {},
   "outputs": [],
   "source": [
    "X = df_train.drop(['revenue','log_revenue'], axis = 1)"
   ]
  },
  {
   "cell_type": "code",
   "execution_count": 69,
   "id": "de0c07cd",
   "metadata": {},
   "outputs": [],
   "source": [
    "Y = df_train['revenue'] #prediction"
   ]
  },
  {
   "cell_type": "code",
   "execution_count": 70,
   "id": "31794541",
   "metadata": {},
   "outputs": [],
   "source": [
    "from sklearn.model_selection import train_test_split,KFold\n",
    "from sklearn.preprocessing import LabelEncoder\n",
    "import time\n",
    "from sklearn.metrics import mean_squared_error\n",
    "from sklearn.linear_model import LinearRegression\n",
    "from sklearn import linear_model\n",
    "from sklearn.linear_model import LogisticRegression\n",
    "from sklearn.tree import DecisionTreeClassifier\n",
    "from sklearn.svm import SVC\n",
    "from sklearn.metrics import r2_score\n",
    "from sklearn.linear_model import LinearRegression\n",
    "from sklearn.model_selection import cross_val_score"
   ]
  },
  {
   "cell_type": "markdown",
   "id": "5fa1a3dc",
   "metadata": {},
   "source": [
    "<h1> Linear regression\n",
    "    "
   ]
  },
  {
   "cell_type": "code",
   "execution_count": 71,
   "id": "17e2409f",
   "metadata": {},
   "outputs": [],
   "source": [
    "X_train,X_test,Y_train,Y_test = train_test_split(X,Y,test_size = 1/3,random_state = 0)"
   ]
  },
  {
   "cell_type": "code",
   "execution_count": 72,
   "id": "f38f198c",
   "metadata": {},
   "outputs": [
    {
     "data": {
      "text/html": [
       "<style>#sk-container-id-1 {color: black;background-color: white;}#sk-container-id-1 pre{padding: 0;}#sk-container-id-1 div.sk-toggleable {background-color: white;}#sk-container-id-1 label.sk-toggleable__label {cursor: pointer;display: block;width: 100%;margin-bottom: 0;padding: 0.3em;box-sizing: border-box;text-align: center;}#sk-container-id-1 label.sk-toggleable__label-arrow:before {content: \"▸\";float: left;margin-right: 0.25em;color: #696969;}#sk-container-id-1 label.sk-toggleable__label-arrow:hover:before {color: black;}#sk-container-id-1 div.sk-estimator:hover label.sk-toggleable__label-arrow:before {color: black;}#sk-container-id-1 div.sk-toggleable__content {max-height: 0;max-width: 0;overflow: hidden;text-align: left;background-color: #f0f8ff;}#sk-container-id-1 div.sk-toggleable__content pre {margin: 0.2em;color: black;border-radius: 0.25em;background-color: #f0f8ff;}#sk-container-id-1 input.sk-toggleable__control:checked~div.sk-toggleable__content {max-height: 200px;max-width: 100%;overflow: auto;}#sk-container-id-1 input.sk-toggleable__control:checked~label.sk-toggleable__label-arrow:before {content: \"▾\";}#sk-container-id-1 div.sk-estimator input.sk-toggleable__control:checked~label.sk-toggleable__label {background-color: #d4ebff;}#sk-container-id-1 div.sk-label input.sk-toggleable__control:checked~label.sk-toggleable__label {background-color: #d4ebff;}#sk-container-id-1 input.sk-hidden--visually {border: 0;clip: rect(1px 1px 1px 1px);clip: rect(1px, 1px, 1px, 1px);height: 1px;margin: -1px;overflow: hidden;padding: 0;position: absolute;width: 1px;}#sk-container-id-1 div.sk-estimator {font-family: monospace;background-color: #f0f8ff;border: 1px dotted black;border-radius: 0.25em;box-sizing: border-box;margin-bottom: 0.5em;}#sk-container-id-1 div.sk-estimator:hover {background-color: #d4ebff;}#sk-container-id-1 div.sk-parallel-item::after {content: \"\";width: 100%;border-bottom: 1px solid gray;flex-grow: 1;}#sk-container-id-1 div.sk-label:hover label.sk-toggleable__label {background-color: #d4ebff;}#sk-container-id-1 div.sk-serial::before {content: \"\";position: absolute;border-left: 1px solid gray;box-sizing: border-box;top: 0;bottom: 0;left: 50%;z-index: 0;}#sk-container-id-1 div.sk-serial {display: flex;flex-direction: column;align-items: center;background-color: white;padding-right: 0.2em;padding-left: 0.2em;position: relative;}#sk-container-id-1 div.sk-item {position: relative;z-index: 1;}#sk-container-id-1 div.sk-parallel {display: flex;align-items: stretch;justify-content: center;background-color: white;position: relative;}#sk-container-id-1 div.sk-item::before, #sk-container-id-1 div.sk-parallel-item::before {content: \"\";position: absolute;border-left: 1px solid gray;box-sizing: border-box;top: 0;bottom: 0;left: 50%;z-index: -1;}#sk-container-id-1 div.sk-parallel-item {display: flex;flex-direction: column;z-index: 1;position: relative;background-color: white;}#sk-container-id-1 div.sk-parallel-item:first-child::after {align-self: flex-end;width: 50%;}#sk-container-id-1 div.sk-parallel-item:last-child::after {align-self: flex-start;width: 50%;}#sk-container-id-1 div.sk-parallel-item:only-child::after {width: 0;}#sk-container-id-1 div.sk-dashed-wrapped {border: 1px dashed gray;margin: 0 0.4em 0.5em 0.4em;box-sizing: border-box;padding-bottom: 0.4em;background-color: white;}#sk-container-id-1 div.sk-label label {font-family: monospace;font-weight: bold;display: inline-block;line-height: 1.2em;}#sk-container-id-1 div.sk-label-container {text-align: center;}#sk-container-id-1 div.sk-container {/* jupyter's `normalize.less` sets `[hidden] { display: none; }` but bootstrap.min.css set `[hidden] { display: none !important; }` so we also need the `!important` here to be able to override the default hidden behavior on the sphinx rendered scikit-learn.org. See: https://github.com/scikit-learn/scikit-learn/issues/21755 */display: inline-block !important;position: relative;}#sk-container-id-1 div.sk-text-repr-fallback {display: none;}</style><div id=\"sk-container-id-1\" class=\"sk-top-container\"><div class=\"sk-text-repr-fallback\"><pre>LinearRegression()</pre><b>In a Jupyter environment, please rerun this cell to show the HTML representation or trust the notebook. <br />On GitHub, the HTML representation is unable to render, please try loading this page with nbviewer.org.</b></div><div class=\"sk-container\" hidden><div class=\"sk-item\"><div class=\"sk-estimator sk-toggleable\"><input class=\"sk-toggleable__control sk-hidden--visually\" id=\"sk-estimator-id-1\" type=\"checkbox\" checked><label for=\"sk-estimator-id-1\" class=\"sk-toggleable__label sk-toggleable__label-arrow\">LinearRegression</label><div class=\"sk-toggleable__content\"><pre>LinearRegression()</pre></div></div></div></div></div>"
      ],
      "text/plain": [
       "LinearRegression()"
      ]
     },
     "execution_count": 72,
     "metadata": {},
     "output_type": "execute_result"
    }
   ],
   "source": [
    "lm = LinearRegression()\n",
    "lm.fit(X_train,Y_train)"
   ]
  },
  {
   "cell_type": "markdown",
   "id": "f0d3c127",
   "metadata": {},
   "source": [
    "Prediction of the test data set "
   ]
  },
  {
   "cell_type": "code",
   "execution_count": 73,
   "id": "6634deed",
   "metadata": {},
   "outputs": [
    {
     "data": {
      "text/plain": [
       "array([ 6.82172736e+07,  2.16588846e+07,  5.26398384e+07,  2.96064917e+07,\n",
       "        2.51090212e+06,  4.30243084e+07,  1.36503414e+07,  1.15899016e+06,\n",
       "        4.16186935e+07, -2.65567301e+07, -2.30712604e+06, -7.55833573e+06,\n",
       "       -6.46142070e+06,  6.02103308e+06,  2.72988797e+07,  1.57981538e+08,\n",
       "        6.92181517e+07,  1.93782706e+07,  8.47855221e+07, -4.17206133e+06,\n",
       "        1.14921399e+08,  5.86814532e+07,  2.43461763e+07,  9.49809378e+06,\n",
       "        5.40391657e+07,  4.97263699e+07,  2.82134332e+08,  2.65261154e+08,\n",
       "       -2.55142334e+07,  3.44426788e+07,  8.13167657e+08,  3.91098893e+07,\n",
       "        4.45229493e+07,  8.37734118e+06,  4.90627813e+07,  1.19084351e+07,\n",
       "        4.84445381e+07,  2.08294063e+07,  6.17435586e+07,  8.96720820e+07,\n",
       "        5.33455422e+07, -2.71381775e+07,  7.19330973e+08,  2.71042280e+08,\n",
       "        2.39867861e+07, -1.95598925e+07,  8.23439203e+07,  4.44672842e+07,\n",
       "        1.07527224e+09,  8.46144568e+07,  1.10338146e+08,  3.19897042e+07,\n",
       "        2.73779989e+07, -2.78751297e+06, -6.92965147e+06,  6.90637836e+06,\n",
       "        1.01968189e+07,  1.63789441e+07, -3.88921525e+07,  5.91824795e+07,\n",
       "        1.85051516e+08, -4.99334162e+07,  5.10803271e+07,  3.68155769e+07,\n",
       "       -5.88168178e+06,  4.55630034e+07,  1.09528041e+07,  7.79828460e+07,\n",
       "        1.84234249e+08,  8.76648576e+07,  5.81887324e+07,  2.55645059e+07,\n",
       "       -2.62038510e+07, -1.94604845e+07,  1.65267568e+08,  3.80678679e+07,\n",
       "        3.05987687e+07,  3.08904645e+07,  2.36517698e+07,  1.80644740e+07,\n",
       "        4.80804053e+07,  3.53998349e+07,  2.18962777e+07,  4.32624878e+07,\n",
       "        1.96521781e+07,  1.52199407e+07,  1.34060567e+07,  1.32699189e+08,\n",
       "        1.68605112e+07,  5.62438055e+07,  4.11773168e+07,  2.75640917e+07,\n",
       "        1.03631984e+07,  3.08772562e+07, -1.18816175e+07, -3.26230785e+07,\n",
       "        3.11714399e+07,  9.10128763e+06,  7.48519924e+07,  1.93305382e+07,\n",
       "        2.97772430e+07,  3.56931928e+08,  5.42460522e+05,  1.02918938e+07,\n",
       "        2.55377227e+07,  2.69186760e+07,  2.25700242e+07, -3.86204438e+07,\n",
       "        1.35176451e+07,  2.17807693e+07,  7.83436499e+07, -1.33853599e+06,\n",
       "        3.98916935e+07,  1.25689558e+07,  6.49107869e+07, -9.72134040e+06,\n",
       "        3.05539933e+08,  1.83866426e+07,  2.00390383e+08, -2.77979366e+07,\n",
       "        1.07507525e+08,  6.61030664e+07, -2.98127523e+07, -1.17754155e+06,\n",
       "        5.08958289e+07,  2.19846008e+07, -8.88687309e+06, -6.36061506e+05,\n",
       "        3.48721734e+07,  2.10333086e+08,  3.20325015e+07,  3.27220454e+07,\n",
       "       -1.45179137e+07,  1.26784679e+08,  5.83249026e+07, -1.46827875e+07,\n",
       "        4.53856475e+07,  3.48657220e+07,  1.51820060e+08,  1.58211952e+08,\n",
       "        3.65873357e+07,  4.91969267e+07,  2.66973605e+07,  9.41090862e+06,\n",
       "        3.61538533e+07,  3.39577000e+06, -3.70433197e+07,  1.90059051e+07,\n",
       "        1.66536202e+07,  5.32574054e+07,  1.55779322e+07,  1.34373730e+07,\n",
       "        1.44692057e+08,  2.13875612e+07,  2.60990286e+07,  3.95038162e+07,\n",
       "        2.77309812e+08,  7.91574825e+07,  4.56934927e+07,  7.24526987e+07,\n",
       "        1.76816576e+08, -3.02795725e+07,  2.83953458e+07,  5.55448203e+07,\n",
       "        9.03826054e+07, -1.53141347e+07, -9.93017862e+06,  3.05294143e+07,\n",
       "        2.36206000e+08,  2.70980969e+07,  2.80449967e+07,  4.82745148e+07,\n",
       "        5.84043407e+07,  1.97666407e+07,  3.21794775e+07,  2.33780443e+08,\n",
       "       -3.23180491e+07,  1.08164378e+08,  1.61262268e+07,  2.23505335e+07,\n",
       "        1.50763245e+07,  4.00197086e+05,  7.32986085e+07,  1.59616707e+06,\n",
       "        4.01546603e+07,  1.85184349e+06,  5.15340152e+07,  2.53737344e+07,\n",
       "        7.43392959e+07,  4.05849224e+07,  3.42734953e+07,  3.40033588e+07,\n",
       "        3.82774367e+07,  1.11385440e+07,  1.38566072e+08,  1.31627734e+08,\n",
       "        1.15662154e+08,  2.17605038e+07, -2.82767745e+06,  9.18059877e+07,\n",
       "        4.02452674e+07,  1.69830207e+07, -2.24916925e+07,  3.16315464e+07,\n",
       "        2.83647382e+07, -1.67967384e+07,  5.13638687e+07,  5.03892379e+07,\n",
       "        8.25098675e+07,  4.86306291e+08,  4.56696465e+07, -4.70358433e+07,\n",
       "        1.66550952e+08,  2.39444680e+08,  2.92886454e+06,  8.60153934e+07,\n",
       "        4.50880391e+07,  1.69860221e+07,  2.67592301e+07,  7.57244210e+07,\n",
       "        2.41981780e+08,  3.80001067e+07,  3.29227155e+07,  9.06429711e+07,\n",
       "        4.44353191e+07,  2.56496542e+07,  6.47129284e+06,  9.67314698e+07,\n",
       "        7.78832683e+07,  1.35610150e+08, -5.35932601e+07,  2.61329960e+07,\n",
       "       -2.59768320e+07,  1.94081665e+07,  1.84372618e+08,  2.41276954e+07,\n",
       "        2.66416214e+07,  8.81627797e+07,  6.87810678e+07,  5.69208087e+07,\n",
       "        1.58858725e+07,  2.35382409e+07,  5.50204724e+07,  6.96870789e+07,\n",
       "        2.65548592e+07,  5.06426203e+07,  1.26117621e+08,  4.69562586e+07,\n",
       "        7.76331235e+06,  1.10796375e+07,  3.51854488e+06,  8.05675804e+07,\n",
       "       -2.77629642e+07,  3.28827564e+07,  1.24683026e+07,  1.64718177e+08,\n",
       "        1.68182960e+07,  2.71885357e+08,  2.76063731e+07,  1.70652596e+07,\n",
       "        1.62721543e+07,  2.33908344e+08,  4.88160407e+07,  2.28515861e+08,\n",
       "       -2.22265405e+07,  2.77192885e+07,  1.33890154e+08,  1.93078306e+07,\n",
       "        1.13136097e+06, -1.22128267e+07, -1.66530621e+07,  1.49162395e+08,\n",
       "        3.85494638e+07,  2.58224911e+07,  3.23617227e+08,  2.35655487e+07,\n",
       "        2.35919069e+08, -3.03554968e+07,  5.74873656e+07,  1.01487177e+07,\n",
       "        2.53959744e+07,  5.11786793e+08,  1.49865499e+08, -2.90985586e+06,\n",
       "        1.33185752e+07,  1.10961555e+07,  8.51968578e+07, -7.30431543e+06,\n",
       "        2.58884410e+08,  1.23306085e+07,  3.78836786e+08,  5.56816561e+07,\n",
       "        2.50609952e+07, -1.74619427e+07, -3.95351012e+07, -2.37584819e+07,\n",
       "       -1.61062192e+06,  6.07511884e+07, -1.62658697e+07,  2.80470038e+06,\n",
       "       -1.94890346e+06,  1.50218440e+07,  2.34245148e+08,  9.36147173e+07,\n",
       "        3.71682283e+07, -6.99960320e+06,  9.48974421e+07,  1.25479524e+08,\n",
       "        7.04132291e+07,  2.14620471e+08,  1.09668109e+08,  1.49803736e+07,\n",
       "       -7.59048705e+06,  1.26015233e+08, -1.00194259e+06,  1.62186172e+06,\n",
       "        4.46190243e+07,  1.92329923e+07,  8.96642813e+06,  3.22600688e+07,\n",
       "        7.47408266e+07, -1.04370442e+07, -2.16691459e+07,  8.60887191e+07,\n",
       "        1.51309330e+07,  1.71259479e+08,  1.37647895e+07,  1.76902709e+08,\n",
       "        2.39055188e+07, -1.87930639e+07,  5.81630720e+07,  2.21975772e+07,\n",
       "       -2.28146566e+07,  1.06406453e+08,  8.87192490e+07, -3.18669495e+07,\n",
       "        8.31095794e+07,  3.73049937e+07, -3.45988593e+07, -1.27961002e+07,\n",
       "        2.86888586e+07, -6.95576705e+05,  6.28369970e+07,  2.50639146e+07,\n",
       "        7.52651756e+07, -5.03951893e+06,  3.06496850e+07, -1.57949468e+07,\n",
       "        3.40948024e+08,  1.02435950e+08,  2.81603690e+07,  6.10810518e+07,\n",
       "        3.21617550e+07,  3.07506902e+07,  1.36311446e+08,  5.77794202e+08,\n",
       "        1.33722598e+08, -7.07637629e+06,  8.80865698e+07,  5.47960892e+07,\n",
       "        1.56563925e+08,  5.02080836e+07,  1.51549935e+07,  6.57649220e+07,\n",
       "        1.56276576e+08,  1.05725184e+08,  8.00889103e+06,  1.79800826e+08,\n",
       "        6.19247879e+07,  3.65815993e+07,  3.89445520e+08,  7.93564339e+07,\n",
       "        2.03743796e+08,  1.91340650e+06, -9.95265971e+06, -1.60965663e+07,\n",
       "        9.59680150e+07,  3.21089043e+07, -3.03142653e+07, -3.42830978e+07,\n",
       "        3.99655487e+08, -4.89299086e+07,  3.54908830e+08, -1.86180347e+07,\n",
       "       -2.84927869e+07,  1.14593423e+07,  1.15577504e+07,  2.53101832e+07,\n",
       "       -7.81576230e+06,  1.36108327e+06,  1.40229866e+08,  1.07382889e+08,\n",
       "        1.11895401e+08,  8.22385114e+07,  4.59776045e+07,  1.11310566e+07,\n",
       "       -2.28598360e+07,  1.15196804e+08,  3.52183643e+07, -3.17088263e+07,\n",
       "        4.60367542e+07,  9.76637986e+06, -3.71618933e+07, -6.36535330e+05,\n",
       "        2.45821750e+07,  8.34088535e+06,  1.16077473e+06,  6.75121645e+07,\n",
       "        5.34171539e+07, -7.46292942e+06,  4.89256013e+07,  2.25823676e+06,\n",
       "        8.35586756e+06,  1.07864722e+08,  1.44630428e+07,  4.81283711e+07,\n",
       "        1.38618291e+08,  4.16100845e+07,  2.07633690e+07,  1.57604358e+07,\n",
       "        4.19658777e+08,  3.90532956e+07,  1.10623781e+08,  1.95816886e+08,\n",
       "        2.56026429e+07,  4.28204375e+07,  2.43747867e+07,  1.54818452e+08,\n",
       "        7.52671361e+07, -1.39367097e+07, -1.36118511e+07, -2.08171038e+07,\n",
       "        3.08868572e+08, -2.48774066e+07,  6.40926854e+06,  9.95091230e+07,\n",
       "        1.21043280e+08,  7.14602645e+07,  6.95951849e+07,  7.59536532e+07,\n",
       "        1.27296857e+08,  3.12335061e+08, -3.11987464e+06,  2.49791699e+07,\n",
       "        1.26427332e+08, -1.49921982e+07,  1.12638319e+07,  1.58759294e+08,\n",
       "        1.69209447e+07,  2.59050522e+07,  1.86733617e+07,  2.92115933e+07,\n",
       "        2.00251169e+08, -1.05000499e+07,  3.78995917e+07,  5.24290836e+06,\n",
       "        6.90230954e+07,  2.74208078e+06,  2.80096417e+07,  6.55375403e+06,\n",
       "        1.31125814e+08,  1.66159633e+08,  4.95969088e+07,  8.34131060e+05,\n",
       "        4.99942733e+08,  2.90985325e+07, -1.64448683e+07,  1.21958951e+08,\n",
       "        2.10477549e+07, -3.07459016e+07,  3.91799079e+07,  3.79633920e+07,\n",
       "        1.61268743e+07,  9.18548730e+06,  8.51090660e+06,  2.61332090e+07,\n",
       "       -2.09219451e+07,  1.15536629e+07,  1.10809746e+08,  7.55410002e+08,\n",
       "        1.74626215e+08,  1.10282309e+08, -1.41899722e+06,  6.22944204e+07,\n",
       "        4.17965067e+07,  5.91455615e+07, -1.46258367e+07,  5.39323331e+07,\n",
       "        3.49004546e+07,  7.27937529e+07,  3.58517188e+08,  2.68455463e+08,\n",
       "        2.95746662e+07,  4.12928096e+07,  1.16822169e+08,  9.12632021e+07,\n",
       "        7.03259182e+06,  4.31848286e+07,  7.70246603e+07,  1.07748719e+08,\n",
       "        4.13561528e+08, -1.67206115e+07,  3.40876027e+07,  3.72137869e+06,\n",
       "        2.14990366e+07,  1.35620786e+07,  1.52316697e+08,  2.88993309e+07,\n",
       "        2.08637398e+07,  1.65363932e+07,  1.71873753e+08,  6.02615806e+07,\n",
       "        1.14998983e+08,  3.11904222e+07,  3.52759520e+06, -1.28856867e+07,\n",
       "        5.17173705e+07,  1.68124632e+08,  1.35121096e+08,  5.97055624e+07,\n",
       "        3.85726759e+07,  1.82962207e+08,  5.77872766e+06,  4.56409318e+07,\n",
       "        2.64730080e+07,  8.73823881e+07,  5.15151589e+07, -1.86425593e+06,\n",
       "        7.50206812e+07,  2.42210408e+07,  2.70754843e+07,  3.43207327e+07,\n",
       "       -1.03145976e+07,  8.20410217e+07, -2.64893803e+07, -3.80441052e+07,\n",
       "        7.45480711e+06,  2.65805388e+08,  1.54595700e+08,  3.73183772e+08,\n",
       "        2.77984212e+08, -2.01613774e+06,  5.50223878e+06,  7.18636959e+07,\n",
       "       -7.29611708e+04, -2.53046854e+07, -1.01821878e+07,  2.41801337e+07,\n",
       "       -1.17607034e+07,  2.20514211e+07,  8.80901034e+07,  9.35109543e+06,\n",
       "       -2.03232462e+05, -6.04815047e+06, -3.40705656e+07,  1.33352611e+07,\n",
       "        1.53669220e+07,  2.56635767e+07,  1.77474244e+07,  1.30670092e+08,\n",
       "       -7.47221678e+06,  7.67169644e+06,  5.08165212e+07, -1.29731751e+07,\n",
       "        3.51359987e+07,  8.17179453e+07,  2.08094692e+08,  6.75797884e+07,\n",
       "        1.38575782e+08,  4.90954034e+07,  2.14896111e+08,  2.22513425e+07,\n",
       "        6.21276653e+06,  4.92711654e+07,  4.44465312e+08, -1.88784845e+06,\n",
       "       -2.46027618e+07,  1.39877290e+07, -1.10899769e+07,  3.62243081e+07,\n",
       "       -9.85155782e+06,  4.91699210e+06,  4.33845128e+07,  1.10594788e+08,\n",
       "        1.32391218e+07,  1.90880085e+07,  1.10246195e+07, -2.01819819e+06,\n",
       "        7.93623619e+07,  3.53585059e+07, -6.37685629e+06,  3.97359927e+07,\n",
       "        1.24188540e+07,  3.71660391e+07,  8.70593046e+07,  1.07398255e+08,\n",
       "        1.82270768e+07,  4.67216359e+06,  2.25332539e+07,  7.46069055e+08,\n",
       "        4.19155391e+08,  7.66723034e+07,  2.09674304e+07,  1.98249940e+08,\n",
       "        5.19948685e+07,  1.29475451e+07,  1.90225732e+07,  3.14074526e+08,\n",
       "        2.70991445e+07,  3.20795746e+08,  1.44809227e+07,  1.06907487e+07,\n",
       "        3.45551242e+08,  9.37632350e+07,  3.71862179e+08,  2.16110801e+07,\n",
       "       -2.50657536e+07,  9.99163391e+07,  4.09655765e+07,  9.20627413e+07,\n",
       "       -1.46404264e+07,  8.40683674e+07,  1.85173700e+07,  3.28120340e+07,\n",
       "       -1.41605681e+07,  1.35129962e+08,  1.08675334e+07,  8.36127935e+07,\n",
       "        1.59586433e+07,  1.14962769e+08,  5.44680216e+07,  2.21301783e+08,\n",
       "       -2.52799003e+07,  2.06821649e+07,  1.03256856e+08, -1.95727519e+07,\n",
       "        1.29004986e+07, -1.45698953e+07,  1.90746153e+07,  3.99795536e+07,\n",
       "        3.58347294e+07,  2.56968712e+07,  2.22546131e+07,  1.15104440e+08,\n",
       "        7.70436684e+07, -3.29404833e+07,  2.22417778e+07,  5.84155907e+07,\n",
       "        1.69698399e+08, -4.41220759e+06,  5.62283609e+07,  2.40418993e+07,\n",
       "        2.75049955e+08,  7.24349740e+08,  8.80327926e+07,  1.42562786e+07,\n",
       "       -2.68763205e+07,  2.47831556e+07, -2.18977885e+07,  4.74018188e+07,\n",
       "        1.05033454e+08,  6.75872532e+08,  1.22220561e+07,  5.07933916e+08,\n",
       "        2.14730026e+08,  4.94198135e+07,  9.16437718e+07,  5.08996614e+08,\n",
       "        1.73923763e+08,  1.81617981e+07,  3.74389315e+07, -1.44507396e+07,\n",
       "       -3.83700871e+07,  9.46847288e+07,  3.94186235e+07, -2.34507617e+07,\n",
       "        2.88907694e+07,  5.39192497e+08,  5.43968259e+07,  1.08108834e+08,\n",
       "        1.67032221e+07,  4.75172545e+07,  8.77453226e+07,  4.54333823e+07,\n",
       "        9.79300593e+06,  6.79373281e+06,  7.09645507e+07, -2.50249915e+07,\n",
       "        1.51926349e+07,  5.97898100e+07,  2.53633575e+07,  4.29489774e+07,\n",
       "        9.89618782e+07,  3.66771708e+07,  2.79426992e+08, -9.13980732e+06,\n",
       "       -3.26132279e+07,  1.11952409e+08,  7.58635815e+07, -1.81063523e+07,\n",
       "        1.68163249e+07,  2.83825909e+07,  7.13746341e+08,  2.21437554e+07,\n",
       "        1.38666687e+08,  7.80033658e+07,  4.24009248e+07,  1.20374313e+08,\n",
       "        5.04400377e+08,  3.19571562e+07,  7.47339368e+07,  1.30616085e+09,\n",
       "       -1.19004449e+07,  3.11941919e+07,  1.04115238e+06,  3.49443292e+07,\n",
       "        7.83741698e+07,  2.22756582e+07,  4.06774681e+07,  5.91575278e+07,\n",
       "        1.44724243e+07,  3.55306337e+06,  7.42594089e+07,  3.55077543e+07,\n",
       "        3.93813759e+07,  4.06073406e+07,  2.62736930e+07,  1.75480532e+07,\n",
       "        3.23411171e+08, -5.73407844e+06, -1.14106247e+07,  6.20360487e+07,\n",
       "        6.46044463e+07,  1.92198974e+08,  9.00847155e+06, -1.51419929e+07,\n",
       "        4.53748100e+07,  3.22268786e+06,  4.37323427e+07,  2.96290662e+07,\n",
       "        1.40222315e+08,  1.05275224e+08,  1.91615788e+07,  2.25353824e+07,\n",
       "       -1.67370156e+06,  1.18575840e+08, -3.03925763e+07,  2.10975571e+07,\n",
       "        1.21168588e+08,  5.35308673e+07,  3.86279819e+07,  1.23287230e+07,\n",
       "        2.69521115e+08,  4.75955300e+07, -4.70997318e+06,  3.41556801e+07,\n",
       "        5.39871546e+07,  4.81798565e+06,  2.33697099e+07,  1.08262198e+08,\n",
       "        2.48106532e+07,  1.85920250e+07,  3.28188812e+07,  1.42437145e+08,\n",
       "        5.63061196e+07,  7.69419389e+06,  9.13041261e+07,  1.66816682e+08,\n",
       "        3.48543312e+07,  9.58617794e+06,  3.33680319e+07,  3.25901221e+07,\n",
       "        3.71066985e+07,  1.90765741e+08,  7.82801818e+07,  1.33369893e+08,\n",
       "        3.14314281e+07, -4.91036712e+07,  7.11737910e+05, -6.08164517e+06,\n",
       "        4.02092524e+07,  2.78368700e+06, -3.82167839e+07,  1.40598881e+07,\n",
       "        2.00409125e+07,  7.80911743e+07,  1.31380926e+08, -1.87095351e+06,\n",
       "        6.14845090e+05,  1.83964014e+07,  1.24117044e+07,  2.93076377e+07,\n",
       "        2.53682398e+07,  1.17195850e+07,  1.50241205e+08,  2.65478008e+07,\n",
       "        4.26584206e+08,  4.87736070e+07, -5.52245544e+06, -2.42661213e+07,\n",
       "        9.72370830e+07, -1.00780345e+07,  6.01316965e+07,  1.01497094e+08,\n",
       "        2.22594686e+07,  4.25352689e+07,  2.15703141e+08,  4.53431339e+07,\n",
       "        1.51617982e+08,  8.21668757e+04, -9.78306412e+06, -5.03327376e+07,\n",
       "        5.82385320e+07,  8.64835399e+07,  4.58324007e+06,  2.55523212e+08,\n",
       "       -3.12532418e+06,  2.01392352e+08,  3.52076410e+08, -3.16851621e+07,\n",
       "        1.36327981e+08,  1.02665396e+07,  2.50168627e+08,  2.35045565e+08,\n",
       "       -1.69626863e+07, -1.96300531e+06,  1.51987667e+07,  2.48361777e+07,\n",
       "        8.54663472e+07, -2.98961561e+07, -1.64532583e+07,  3.33942076e+07,\n",
       "        3.70594082e+07,  5.78079607e+07,  9.01539228e+07,  1.57847211e+07,\n",
       "        6.45291754e+07,  2.35547031e+07,  4.97941506e+07,  9.08184339e+06,\n",
       "        7.49942812e+07,  3.24955144e+07,  2.17110502e+08,  3.85392066e+08,\n",
       "        3.52265041e+07,  6.93185820e+08, -2.78383282e+05,  1.24139046e+07,\n",
       "        3.79024404e+07,  9.00038004e+06,  2.34039733e+07,  7.77581694e+07,\n",
       "       -4.60214860e+06,  3.01226666e+07, -5.71328353e+06, -9.22003735e+04,\n",
       "        8.89482288e+06,  2.57281802e+07, -2.05439790e+07,  1.17405967e+08,\n",
       "        5.77656553e+07, -1.34053901e+07,  7.72958288e+07,  3.52668650e+07,\n",
       "        2.31291844e+08, -5.06872677e+07, -5.90138842e+06,  8.70629101e+07,\n",
       "       -3.41069709e+07,  1.91916709e+07,  5.62799808e+07,  7.19282759e+06,\n",
       "        1.79940752e+08,  1.48307831e+08,  1.78657599e+06, -1.05984174e+06,\n",
       "        2.64948283e+08,  6.23410159e+06, -1.94130512e+07, -2.70977722e+07,\n",
       "        1.64120852e+07,  1.12974997e+08,  2.51784952e+07,  2.77165729e+07,\n",
       "        1.79193039e+08, -1.43676006e+05,  1.78474749e+08,  5.89024679e+07,\n",
       "       -8.73246541e+06,  2.15373241e+07,  3.54907025e+07,  2.50061179e+07,\n",
       "       -2.24901597e+07,  4.79202484e+08,  1.11016155e+08,  6.37953781e+07,\n",
       "        4.22880609e+07,  1.89245364e+08, -4.35587718e+07, -7.26905947e+06,\n",
       "       -8.50897413e+05,  4.35205923e+07,  2.09439581e+07,  6.58783289e+07,\n",
       "       -3.93510623e+07,  5.11297195e+06, -3.16997973e+07,  1.18884121e+08,\n",
       "       -1.55095207e+07,  3.14110560e+07,  1.29871419e+08,  2.57786354e+08,\n",
       "        1.37547495e+08,  1.79889067e+08, -3.97494878e+06,  5.06660476e+08,\n",
       "       -3.39822943e+07,  1.96475455e+07,  1.04005415e+08,  7.11490473e+07,\n",
       "        1.36186967e+07,  1.16499917e+08, -3.20858006e+07,  5.53860530e+07,\n",
       "        9.56853803e+06,  2.40866313e+07,  2.65779859e+08,  7.12819414e+07,\n",
       "       -6.98836210e+06,  6.05286355e+07, -4.42418710e+06, -3.17932340e+06,\n",
       "        1.63161794e+08,  5.37185167e+07,  2.15072691e+08, -2.53292233e+07,\n",
       "        3.00104974e+07,  7.92189602e+06,  2.70366886e+07,  4.94375163e+07,\n",
       "        4.40322566e+07,  2.50790612e+07, -2.36091420e+07,  1.83297276e+07,\n",
       "       -2.66129199e+06,  3.47526650e+07,  1.03309783e+08,  1.72766821e+07,\n",
       "        2.57431088e+07,  1.08739514e+07,  2.85763095e+08,  3.69816705e+06,\n",
       "        1.91937323e+08,  2.33242805e+07,  4.88560519e+07, -3.28781310e+06,\n",
       "        6.19780516e+06,  4.75234632e+06,  1.22048786e+07,  4.62164917e+07,\n",
       "        9.48488933e+06,  3.96546921e+07,  4.87606752e+07,  5.91507753e+06,\n",
       "       -2.70105375e+07,  2.89315882e+06,  2.25949686e+08, -1.90669634e+07,\n",
       "        2.39074799e+08,  1.28115054e+08,  2.72936171e+07,  2.77547388e+08,\n",
       "       -2.67567742e+06,  2.08296447e+07,  1.32995478e+08,  6.23720231e+07,\n",
       "        1.77286179e+08,  1.53759165e+08,  9.63550752e+07, -3.99160689e+07,\n",
       "        3.75010465e+07,  1.03969158e+08,  1.56026906e+08,  1.72224234e+07,\n",
       "       -1.79905633e+07,  6.34244964e+07,  1.22672042e+08, -2.76161596e+07,\n",
       "        7.59680179e+06,  1.85046795e+08,  4.77180279e+06,  1.03811085e+07,\n",
       "        6.72674709e+07,  2.05988094e+08,  6.56409495e+07,  8.32141080e+07,\n",
       "        8.18574620e+06,  3.87616674e+08,  9.10719895e+07,  3.11017979e+07])"
      ]
     },
     "execution_count": 73,
     "metadata": {},
     "output_type": "execute_result"
    }
   ],
   "source": [
    "y_pred = lm.predict(X_test)\n",
    "y_pred"
   ]
  },
  {
   "cell_type": "markdown",
   "id": "6e427627",
   "metadata": {},
   "source": [
    "coeffiecients, intercepts and r2"
   ]
  },
  {
   "cell_type": "code",
   "execution_count": 74,
   "id": "5ec6d2d9",
   "metadata": {},
   "outputs": [
    {
     "data": {
      "text/plain": [
       "array([ 2.47578767e+00,  3.12272793e+06,  3.85432058e+05, -1.41296439e+06,\n",
       "        2.44082248e+07, -2.29475133e+05, -4.67886542e+05, -1.72024522e+06,\n",
       "       -4.54857159e+06, -1.04196139e+07,  2.18174079e+07,  2.80844614e+07,\n",
       "        6.16121584e+05, -5.56102978e+06, -7.42656860e+06, -1.14382267e+07,\n",
       "        4.48456820e+06, -6.05456169e+06,  4.14626869e+06, -2.41180501e+07,\n",
       "        4.25637750e+06,  4.19507792e+04, -8.18650922e+06,  1.23678086e+07,\n",
       "       -1.69219987e+07,  2.89220433e+07, -7.55434935e+06, -3.38864241e+07,\n",
       "       -2.40187693e+07])"
      ]
     },
     "execution_count": 74,
     "metadata": {},
     "output_type": "execute_result"
    }
   ],
   "source": [
    "lm.coef_"
   ]
  },
  {
   "cell_type": "code",
   "execution_count": 75,
   "id": "30d371e2",
   "metadata": {},
   "outputs": [
    {
     "data": {
      "text/plain": [
       "1375195400.1421232"
      ]
     },
     "execution_count": 75,
     "metadata": {},
     "output_type": "execute_result"
    }
   ],
   "source": [
    "lm.intercept_"
   ]
  },
  {
   "cell_type": "code",
   "execution_count": 76,
   "id": "af8a43dd",
   "metadata": {},
   "outputs": [
    {
     "name": "stdout",
     "output_type": "stream",
     "text": [
      "0.6190908494925164\n"
     ]
    }
   ],
   "source": [
    "print(r2_score(Y_test,y_pred))"
   ]
  },
  {
   "cell_type": "code",
   "execution_count": 77,
   "id": "b0988f8e",
   "metadata": {},
   "outputs": [
    {
     "data": {
      "text/plain": [
       "<seaborn.axisgrid.FacetGrid at 0x7fc67034f910>"
      ]
     },
     "execution_count": 77,
     "metadata": {},
     "output_type": "execute_result"
    },
    {
     "data": {
      "image/png": "[encoded data removed]",
      "text/plain": [
       "<Figure size 360x360 with 1 Axes>"
      ]
     },
     "metadata": {
      "needs_background": "light"
     },
     "output_type": "display_data"
    }
   ],
   "source": [
    "sns.displot(Y_test-y_pred)"
   ]
  },
  {
   "cell_type": "code",
   "execution_count": 78,
   "id": "f4e1b738",
   "metadata": {},
   "outputs": [
    {
     "data": {
      "text/plain": [
       "<matplotlib.collections.PathCollection at 0x7fc668baddc0>"
      ]
     },
     "execution_count": 78,
     "metadata": {},
     "output_type": "execute_result"
    },
    {
     "data": {
      "image/png": "[encoded data removed]",
      "text/plain": [
       "<Figure size 432x288 with 1 Axes>"
      ]
     },
     "metadata": {
      "needs_background": "light"
     },
     "output_type": "display_data"
    }
   ],
   "source": [
    "plt.scatter(Y_test,y_pred)"
   ]
  },
  {
   "cell_type": "markdown",
   "id": "3634c0b2",
   "metadata": {},
   "source": [
    "Our R square value is 62%"
   ]
  },
  {
   "cell_type": "markdown",
   "id": "f5e44289",
   "metadata": {},
   "source": [
    "<h1> RandomForestRegressor"
   ]
  },
  {
   "cell_type": "code",
   "execution_count": 79,
   "id": "c8bb9034",
   "metadata": {},
   "outputs": [
    {
     "name": "stdout",
     "output_type": "stream",
     "text": [
      "R-Squared is: 0.5158284953095398\n"
     ]
    }
   ],
   "source": [
    "import sklearn.metrics as metrics\n",
    "from sklearn.ensemble import RandomForestRegressor\n",
    "RF_model = RandomForestRegressor(random_state =0, n_estimators=500, max_depth=10)\n",
    "RF_model.fit(X_train, Y_train)\n",
    "\n",
    "y_hat = RF_model.predict(X_test)\n",
    "print (\"R-Squared is:\", metrics.r2_score(y_hat, Y_test))"
   ]
  },
  {
   "cell_type": "code",
   "execution_count": 80,
   "id": "e19b9a84",
   "metadata": {},
   "outputs": [
    {
     "data": {
      "text/plain": [
       "<seaborn.axisgrid.FacetGrid at 0x7fc68c568dc0>"
      ]
     },
     "execution_count": 80,
     "metadata": {},
     "output_type": "execute_result"
    },
    {
     "data": {
      "image/png": "[encoded data removed]",
      "text/plain": [
       "<Figure size 360x360 with 1 Axes>"
      ]
     },
     "metadata": {
      "needs_background": "light"
     },
     "output_type": "display_data"
    }
   ],
   "source": [
    "sns.displot(Y_test-y_hat)"
   ]
  },
  {
   "cell_type": "code",
   "execution_count": 81,
   "id": "9a69a05c",
   "metadata": {},
   "outputs": [
    {
     "data": {
      "text/plain": [
       "<matplotlib.collections.PathCollection at 0x7fc67c11b3d0>"
      ]
     },
     "execution_count": 81,
     "metadata": {},
     "output_type": "execute_result"
    },
    {
     "data": {
      "image/png": "[encoded data removed]",
      "text/plain": [
       "<Figure size 432x288 with 1 Axes>"
      ]
     },
     "metadata": {
      "needs_background": "light"
     },
     "output_type": "display_data"
    }
   ],
   "source": [
    "plt.scatter(Y_test,y_hat)"
   ]
  },
  {
   "cell_type": "code",
   "execution_count": 82,
   "id": "6f508421",
   "metadata": {},
   "outputs": [],
   "source": [
    "importances = pd.DataFrame({'feature': X_train.columns,'importance':np.round(RF_model.feature_importances_,3)})\n"
   ]
  },
  {
   "cell_type": "code",
   "execution_count": 83,
   "id": "a5778895",
   "metadata": {},
   "outputs": [
    {
     "name": "stdout",
     "output_type": "stream",
     "text": [
      "                     importance\n",
      "feature                        \n",
      "log_budget                0.315\n",
      "budget                    0.310\n",
      "popularity                0.185\n",
      "runtime                   0.041\n",
      "release year              0.020\n",
      "release_day_of_week       0.019\n",
      "release_year              0.017\n",
      "release_quater            0.014\n",
      "Adventure                 0.010\n",
      "Animation                 0.009\n",
      "Romance                   0.007\n",
      "Science Fiction           0.007\n",
      "Action                    0.005\n",
      "Drama                     0.005\n",
      "Family                    0.005\n",
      "Thriller                  0.005\n",
      "has_homepage              0.005\n",
      "Comedy                    0.005\n",
      "Crime                     0.004\n",
      "Fantasy                   0.004\n",
      "Mystery                   0.003\n",
      "Music                     0.002\n",
      "War                       0.001\n",
      "Horror                    0.001\n",
      "TV Movie                  0.000\n",
      "Documentary               0.000\n",
      "History                   0.000\n",
      "Foreign                   0.000\n",
      "Western                   0.000\n"
     ]
    }
   ],
   "source": [
    "importances = importances.sort_values(by = 'importance', ascending = False).set_index('feature')\n",
    "print(importances)"
   ]
  },
  {
   "cell_type": "code",
   "execution_count": 84,
   "id": "7e152a37",
   "metadata": {},
   "outputs": [
    {
     "data": {
      "text/plain": [
       "<AxesSubplot:xlabel='feature'>"
      ]
     },
     "execution_count": 84,
     "metadata": {},
     "output_type": "execute_result"
    },
    {
     "data": {
      "image/png": "[encoded data removed]",
      "text/plain": [
       "<Figure size 432x288 with 1 Axes>"
      ]
     },
     "metadata": {
      "needs_background": "light"
     },
     "output_type": "display_data"
    }
   ],
   "source": [
    "importances.plot.bar()"
   ]
  },
  {
   "cell_type": "code",
   "execution_count": 85,
   "id": "af1c819c",
   "metadata": {},
   "outputs": [],
   "source": [
    "regressor = RandomForestRegressor()"
   ]
  },
  {
   "cell_type": "code",
   "execution_count": 86,
   "id": "d28f717f",
   "metadata": {},
   "outputs": [
    {
     "name": "stdout",
     "output_type": "stream",
     "text": [
      "[100, 200, 300, 400, 500, 600, 700, 800, 900, 1000, 1100, 1200]\n"
     ]
    }
   ],
   "source": [
    "n_estimators = [int(x) for x in np.linspace(start = 100, stop = 1200, num = 12)]\n",
    "print(n_estimators)"
   ]
  },
  {
   "cell_type": "code",
   "execution_count": 87,
   "id": "d5fd1932",
   "metadata": {},
   "outputs": [],
   "source": [
    "from sklearn.model_selection import RandomizedSearchCV"
   ]
  },
  {
   "cell_type": "code",
   "execution_count": 88,
   "id": "77c8edcd",
   "metadata": {},
   "outputs": [],
   "source": [
    "#Randomized Search CV\n",
    "\n",
    "# Number of trees in random forest\n",
    "n_estimators = [int(x) for x in np.linspace(start = 100, stop = 1200, num = 12)]\n",
    "# Number of features to consider at every split\n",
    "max_features = ['auto', 'sqrt']\n",
    "# Maximum number of levels in tree\n",
    "max_depth = [int(x) for x in np.linspace(5, 30, num = 6)]\n",
    "# max_depth.append(None)\n",
    "# Minimum number of samples required to split a node\n",
    "min_samples_split = [2, 5, 10, 15, 100]\n",
    "# Minimum number of samples required at each leaf node\n",
    "min_samples_leaf = [1, 2, 5, 10]"
   ]
  },
  {
   "cell_type": "code",
   "execution_count": 89,
   "id": "793c605b",
   "metadata": {},
   "outputs": [
    {
     "name": "stdout",
     "output_type": "stream",
     "text": [
      "{'n_estimators': [100, 200, 300, 400, 500, 600, 700, 800, 900, 1000, 1100, 1200], 'max_features': ['auto', 'sqrt'], 'max_depth': [5, 10, 15, 20, 25, 30], 'min_samples_split': [2, 5, 10, 15, 100], 'min_samples_leaf': [1, 2, 5, 10]}\n"
     ]
    }
   ],
   "source": [
    "# Create the random grid\n",
    "random_grid = {'n_estimators': n_estimators,\n",
    "               'max_features': max_features,\n",
    "               'max_depth': max_depth,\n",
    "               'min_samples_split': min_samples_split,\n",
    "               'min_samples_leaf': min_samples_leaf}\n",
    "\n",
    "print(random_grid)"
   ]
  },
  {
   "cell_type": "code",
   "execution_count": 90,
   "id": "eda145ec",
   "metadata": {},
   "outputs": [],
   "source": [
    "rf_random = RandomizedSearchCV(estimator = regressor, param_distributions = random_grid,scoring='neg_mean_squared_error', n_iter = 10, cv = 5, verbose=2, random_state=42, n_jobs = 1)\n"
   ]
  },
  {
   "cell_type": "code",
   "execution_count": 91,
   "id": "64e7dbd0",
   "metadata": {},
   "outputs": [
    {
     "name": "stdout",
     "output_type": "stream",
     "text": [
      "Fitting 5 folds for each of 10 candidates, totalling 50 fits\n",
      "[CV] END max_depth=10, max_features=sqrt, min_samples_leaf=5, min_samples_split=5, n_estimators=900; total time=   2.0s\n",
      "[CV] END max_depth=10, max_features=sqrt, min_samples_leaf=5, min_samples_split=5, n_estimators=900; total time=   2.0s\n",
      "[CV] END max_depth=10, max_features=sqrt, min_samples_leaf=5, min_samples_split=5, n_estimators=900; total time=   2.0s\n",
      "[CV] END max_depth=10, max_features=sqrt, min_samples_leaf=5, min_samples_split=5, n_estimators=900; total time=   2.0s\n",
      "[CV] END max_depth=10, max_features=sqrt, min_samples_leaf=5, min_samples_split=5, n_estimators=900; total time=   1.9s\n",
      "[CV] END max_depth=15, max_features=sqrt, min_samples_leaf=2, min_samples_split=10, n_estimators=1100; total time=   2.8s\n",
      "[CV] END max_depth=15, max_features=sqrt, min_samples_leaf=2, min_samples_split=10, n_estimators=1100; total time=   2.8s\n",
      "[CV] END max_depth=15, max_features=sqrt, min_samples_leaf=2, min_samples_split=10, n_estimators=1100; total time=   2.8s\n",
      "[CV] END max_depth=15, max_features=sqrt, min_samples_leaf=2, min_samples_split=10, n_estimators=1100; total time=   2.8s\n",
      "[CV] END max_depth=15, max_features=sqrt, min_samples_leaf=2, min_samples_split=10, n_estimators=1100; total time=   2.7s\n"
     ]
    },
    {
     "name": "stderr",
     "output_type": "stream",
     "text": [
      "/Users/samragneedutta/opt/anaconda3/lib/python3.9/site-packages/sklearn/ensemble/_forest.py:413: FutureWarning: `max_features='auto'` has been deprecated in 1.1 and will be removed in 1.3. To keep the past behaviour, explicitly set `max_features=1.0` or remove this parameter as it is also the default value for RandomForestRegressors and ExtraTreesRegressors.\n",
      "  warn(\n"
     ]
    },
    {
     "name": "stdout",
     "output_type": "stream",
     "text": [
      "[CV] END max_depth=15, max_features=auto, min_samples_leaf=5, min_samples_split=100, n_estimators=300; total time=   1.5s\n"
     ]
    },
    {
     "name": "stderr",
     "output_type": "stream",
     "text": [
      "/Users/samragneedutta/opt/anaconda3/lib/python3.9/site-packages/sklearn/ensemble/_forest.py:413: FutureWarning: `max_features='auto'` has been deprecated in 1.1 and will be removed in 1.3. To keep the past behaviour, explicitly set `max_features=1.0` or remove this parameter as it is also the default value for RandomForestRegressors and ExtraTreesRegressors.\n",
      "  warn(\n"
     ]
    },
    {
     "name": "stdout",
     "output_type": "stream",
     "text": [
      "[CV] END max_depth=15, max_features=auto, min_samples_leaf=5, min_samples_split=100, n_estimators=300; total time=   1.4s\n"
     ]
    },
    {
     "name": "stderr",
     "output_type": "stream",
     "text": [
      "/Users/samragneedutta/opt/anaconda3/lib/python3.9/site-packages/sklearn/ensemble/_forest.py:413: FutureWarning: `max_features='auto'` has been deprecated in 1.1 and will be removed in 1.3. To keep the past behaviour, explicitly set `max_features=1.0` or remove this parameter as it is also the default value for RandomForestRegressors and ExtraTreesRegressors.\n",
      "  warn(\n"
     ]
    },
    {
     "name": "stdout",
     "output_type": "stream",
     "text": [
      "[CV] END max_depth=15, max_features=auto, min_samples_leaf=5, min_samples_split=100, n_estimators=300; total time=   1.5s\n"
     ]
    },
    {
     "name": "stderr",
     "output_type": "stream",
     "text": [
      "/Users/samragneedutta/opt/anaconda3/lib/python3.9/site-packages/sklearn/ensemble/_forest.py:413: FutureWarning: `max_features='auto'` has been deprecated in 1.1 and will be removed in 1.3. To keep the past behaviour, explicitly set `max_features=1.0` or remove this parameter as it is also the default value for RandomForestRegressors and ExtraTreesRegressors.\n",
      "  warn(\n"
     ]
    },
    {
     "name": "stdout",
     "output_type": "stream",
     "text": [
      "[CV] END max_depth=15, max_features=auto, min_samples_leaf=5, min_samples_split=100, n_estimators=300; total time=   1.5s\n"
     ]
    },
    {
     "name": "stderr",
     "output_type": "stream",
     "text": [
      "/Users/samragneedutta/opt/anaconda3/lib/python3.9/site-packages/sklearn/ensemble/_forest.py:413: FutureWarning: `max_features='auto'` has been deprecated in 1.1 and will be removed in 1.3. To keep the past behaviour, explicitly set `max_features=1.0` or remove this parameter as it is also the default value for RandomForestRegressors and ExtraTreesRegressors.\n",
      "  warn(\n"
     ]
    },
    {
     "name": "stdout",
     "output_type": "stream",
     "text": [
      "[CV] END max_depth=15, max_features=auto, min_samples_leaf=5, min_samples_split=100, n_estimators=300; total time=   1.5s\n"
     ]
    },
    {
     "name": "stderr",
     "output_type": "stream",
     "text": [
      "/Users/samragneedutta/opt/anaconda3/lib/python3.9/site-packages/sklearn/ensemble/_forest.py:413: FutureWarning: `max_features='auto'` has been deprecated in 1.1 and will be removed in 1.3. To keep the past behaviour, explicitly set `max_features=1.0` or remove this parameter as it is also the default value for RandomForestRegressors and ExtraTreesRegressors.\n",
      "  warn(\n"
     ]
    },
    {
     "name": "stdout",
     "output_type": "stream",
     "text": [
      "[CV] END max_depth=15, max_features=auto, min_samples_leaf=5, min_samples_split=5, n_estimators=400; total time=   2.9s\n"
     ]
    },
    {
     "name": "stderr",
     "output_type": "stream",
     "text": [
      "/Users/samragneedutta/opt/anaconda3/lib/python3.9/site-packages/sklearn/ensemble/_forest.py:413: FutureWarning: `max_features='auto'` has been deprecated in 1.1 and will be removed in 1.3. To keep the past behaviour, explicitly set `max_features=1.0` or remove this parameter as it is also the default value for RandomForestRegressors and ExtraTreesRegressors.\n",
      "  warn(\n"
     ]
    },
    {
     "name": "stdout",
     "output_type": "stream",
     "text": [
      "[CV] END max_depth=15, max_features=auto, min_samples_leaf=5, min_samples_split=5, n_estimators=400; total time=   2.9s\n"
     ]
    },
    {
     "name": "stderr",
     "output_type": "stream",
     "text": [
      "/Users/samragneedutta/opt/anaconda3/lib/python3.9/site-packages/sklearn/ensemble/_forest.py:413: FutureWarning: `max_features='auto'` has been deprecated in 1.1 and will be removed in 1.3. To keep the past behaviour, explicitly set `max_features=1.0` or remove this parameter as it is also the default value for RandomForestRegressors and ExtraTreesRegressors.\n",
      "  warn(\n"
     ]
    },
    {
     "name": "stdout",
     "output_type": "stream",
     "text": [
      "[CV] END max_depth=15, max_features=auto, min_samples_leaf=5, min_samples_split=5, n_estimators=400; total time=   2.9s\n"
     ]
    },
    {
     "name": "stderr",
     "output_type": "stream",
     "text": [
      "/Users/samragneedutta/opt/anaconda3/lib/python3.9/site-packages/sklearn/ensemble/_forest.py:413: FutureWarning: `max_features='auto'` has been deprecated in 1.1 and will be removed in 1.3. To keep the past behaviour, explicitly set `max_features=1.0` or remove this parameter as it is also the default value for RandomForestRegressors and ExtraTreesRegressors.\n",
      "  warn(\n"
     ]
    },
    {
     "name": "stdout",
     "output_type": "stream",
     "text": [
      "[CV] END max_depth=15, max_features=auto, min_samples_leaf=5, min_samples_split=5, n_estimators=400; total time=   2.9s\n"
     ]
    },
    {
     "name": "stderr",
     "output_type": "stream",
     "text": [
      "/Users/samragneedutta/opt/anaconda3/lib/python3.9/site-packages/sklearn/ensemble/_forest.py:413: FutureWarning: `max_features='auto'` has been deprecated in 1.1 and will be removed in 1.3. To keep the past behaviour, explicitly set `max_features=1.0` or remove this parameter as it is also the default value for RandomForestRegressors and ExtraTreesRegressors.\n",
      "  warn(\n"
     ]
    },
    {
     "name": "stdout",
     "output_type": "stream",
     "text": [
      "[CV] END max_depth=15, max_features=auto, min_samples_leaf=5, min_samples_split=5, n_estimators=400; total time=   2.9s\n"
     ]
    },
    {
     "name": "stderr",
     "output_type": "stream",
     "text": [
      "/Users/samragneedutta/opt/anaconda3/lib/python3.9/site-packages/sklearn/ensemble/_forest.py:413: FutureWarning: `max_features='auto'` has been deprecated in 1.1 and will be removed in 1.3. To keep the past behaviour, explicitly set `max_features=1.0` or remove this parameter as it is also the default value for RandomForestRegressors and ExtraTreesRegressors.\n",
      "  warn(\n"
     ]
    },
    {
     "name": "stdout",
     "output_type": "stream",
     "text": [
      "[CV] END max_depth=20, max_features=auto, min_samples_leaf=10, min_samples_split=5, n_estimators=700; total time=   4.2s\n"
     ]
    },
    {
     "name": "stderr",
     "output_type": "stream",
     "text": [
      "/Users/samragneedutta/opt/anaconda3/lib/python3.9/site-packages/sklearn/ensemble/_forest.py:413: FutureWarning: `max_features='auto'` has been deprecated in 1.1 and will be removed in 1.3. To keep the past behaviour, explicitly set `max_features=1.0` or remove this parameter as it is also the default value for RandomForestRegressors and ExtraTreesRegressors.\n",
      "  warn(\n"
     ]
    },
    {
     "name": "stdout",
     "output_type": "stream",
     "text": [
      "[CV] END max_depth=20, max_features=auto, min_samples_leaf=10, min_samples_split=5, n_estimators=700; total time=   4.2s\n"
     ]
    },
    {
     "name": "stderr",
     "output_type": "stream",
     "text": [
      "/Users/samragneedutta/opt/anaconda3/lib/python3.9/site-packages/sklearn/ensemble/_forest.py:413: FutureWarning: `max_features='auto'` has been deprecated in 1.1 and will be removed in 1.3. To keep the past behaviour, explicitly set `max_features=1.0` or remove this parameter as it is also the default value for RandomForestRegressors and ExtraTreesRegressors.\n",
      "  warn(\n"
     ]
    },
    {
     "name": "stdout",
     "output_type": "stream",
     "text": [
      "[CV] END max_depth=20, max_features=auto, min_samples_leaf=10, min_samples_split=5, n_estimators=700; total time=   4.3s\n"
     ]
    },
    {
     "name": "stderr",
     "output_type": "stream",
     "text": [
      "/Users/samragneedutta/opt/anaconda3/lib/python3.9/site-packages/sklearn/ensemble/_forest.py:413: FutureWarning: `max_features='auto'` has been deprecated in 1.1 and will be removed in 1.3. To keep the past behaviour, explicitly set `max_features=1.0` or remove this parameter as it is also the default value for RandomForestRegressors and ExtraTreesRegressors.\n",
      "  warn(\n"
     ]
    },
    {
     "name": "stdout",
     "output_type": "stream",
     "text": [
      "[CV] END max_depth=20, max_features=auto, min_samples_leaf=10, min_samples_split=5, n_estimators=700; total time=   4.4s\n"
     ]
    },
    {
     "name": "stderr",
     "output_type": "stream",
     "text": [
      "/Users/samragneedutta/opt/anaconda3/lib/python3.9/site-packages/sklearn/ensemble/_forest.py:413: FutureWarning: `max_features='auto'` has been deprecated in 1.1 and will be removed in 1.3. To keep the past behaviour, explicitly set `max_features=1.0` or remove this parameter as it is also the default value for RandomForestRegressors and ExtraTreesRegressors.\n",
      "  warn(\n"
     ]
    },
    {
     "name": "stdout",
     "output_type": "stream",
     "text": [
      "[CV] END max_depth=20, max_features=auto, min_samples_leaf=10, min_samples_split=5, n_estimators=700; total time=   4.2s\n",
      "[CV] END max_depth=25, max_features=sqrt, min_samples_leaf=1, min_samples_split=2, n_estimators=1000; total time=   3.6s\n",
      "[CV] END max_depth=25, max_features=sqrt, min_samples_leaf=1, min_samples_split=2, n_estimators=1000; total time=   3.6s\n",
      "[CV] END max_depth=25, max_features=sqrt, min_samples_leaf=1, min_samples_split=2, n_estimators=1000; total time=   3.6s\n",
      "[CV] END max_depth=25, max_features=sqrt, min_samples_leaf=1, min_samples_split=2, n_estimators=1000; total time=   3.8s\n",
      "[CV] END max_depth=25, max_features=sqrt, min_samples_leaf=1, min_samples_split=2, n_estimators=1000; total time=   3.6s\n",
      "[CV] END max_depth=5, max_features=sqrt, min_samples_leaf=10, min_samples_split=15, n_estimators=1100; total time=   1.9s\n",
      "[CV] END max_depth=5, max_features=sqrt, min_samples_leaf=10, min_samples_split=15, n_estimators=1100; total time=   1.9s\n",
      "[CV] END max_depth=5, max_features=sqrt, min_samples_leaf=10, min_samples_split=15, n_estimators=1100; total time=   1.8s\n",
      "[CV] END max_depth=5, max_features=sqrt, min_samples_leaf=10, min_samples_split=15, n_estimators=1100; total time=   1.8s\n",
      "[CV] END max_depth=5, max_features=sqrt, min_samples_leaf=10, min_samples_split=15, n_estimators=1100; total time=   1.8s\n",
      "[CV] END max_depth=15, max_features=sqrt, min_samples_leaf=1, min_samples_split=15, n_estimators=300; total time=   0.7s\n",
      "[CV] END max_depth=15, max_features=sqrt, min_samples_leaf=1, min_samples_split=15, n_estimators=300; total time=   0.7s\n",
      "[CV] END max_depth=15, max_features=sqrt, min_samples_leaf=1, min_samples_split=15, n_estimators=300; total time=   0.7s\n",
      "[CV] END max_depth=15, max_features=sqrt, min_samples_leaf=1, min_samples_split=15, n_estimators=300; total time=   0.7s\n",
      "[CV] END max_depth=15, max_features=sqrt, min_samples_leaf=1, min_samples_split=15, n_estimators=300; total time=   0.7s\n",
      "[CV] END max_depth=5, max_features=sqrt, min_samples_leaf=2, min_samples_split=10, n_estimators=700; total time=   1.2s\n",
      "[CV] END max_depth=5, max_features=sqrt, min_samples_leaf=2, min_samples_split=10, n_estimators=700; total time=   1.2s\n",
      "[CV] END max_depth=5, max_features=sqrt, min_samples_leaf=2, min_samples_split=10, n_estimators=700; total time=   1.2s\n",
      "[CV] END max_depth=5, max_features=sqrt, min_samples_leaf=2, min_samples_split=10, n_estimators=700; total time=   1.2s\n",
      "[CV] END max_depth=5, max_features=sqrt, min_samples_leaf=2, min_samples_split=10, n_estimators=700; total time=   1.2s\n"
     ]
    },
    {
     "name": "stderr",
     "output_type": "stream",
     "text": [
      "/Users/samragneedutta/opt/anaconda3/lib/python3.9/site-packages/sklearn/ensemble/_forest.py:413: FutureWarning: `max_features='auto'` has been deprecated in 1.1 and will be removed in 1.3. To keep the past behaviour, explicitly set `max_features=1.0` or remove this parameter as it is also the default value for RandomForestRegressors and ExtraTreesRegressors.\n",
      "  warn(\n"
     ]
    },
    {
     "name": "stdout",
     "output_type": "stream",
     "text": [
      "[CV] END max_depth=20, max_features=auto, min_samples_leaf=1, min_samples_split=15, n_estimators=700; total time=   5.6s\n"
     ]
    },
    {
     "name": "stderr",
     "output_type": "stream",
     "text": [
      "/Users/samragneedutta/opt/anaconda3/lib/python3.9/site-packages/sklearn/ensemble/_forest.py:413: FutureWarning: `max_features='auto'` has been deprecated in 1.1 and will be removed in 1.3. To keep the past behaviour, explicitly set `max_features=1.0` or remove this parameter as it is also the default value for RandomForestRegressors and ExtraTreesRegressors.\n",
      "  warn(\n"
     ]
    },
    {
     "name": "stdout",
     "output_type": "stream",
     "text": [
      "[CV] END max_depth=20, max_features=auto, min_samples_leaf=1, min_samples_split=15, n_estimators=700; total time=   5.5s\n"
     ]
    },
    {
     "name": "stderr",
     "output_type": "stream",
     "text": [
      "/Users/samragneedutta/opt/anaconda3/lib/python3.9/site-packages/sklearn/ensemble/_forest.py:413: FutureWarning: `max_features='auto'` has been deprecated in 1.1 and will be removed in 1.3. To keep the past behaviour, explicitly set `max_features=1.0` or remove this parameter as it is also the default value for RandomForestRegressors and ExtraTreesRegressors.\n",
      "  warn(\n"
     ]
    },
    {
     "name": "stdout",
     "output_type": "stream",
     "text": [
      "[CV] END max_depth=20, max_features=auto, min_samples_leaf=1, min_samples_split=15, n_estimators=700; total time=   5.7s\n"
     ]
    },
    {
     "name": "stderr",
     "output_type": "stream",
     "text": [
      "/Users/samragneedutta/opt/anaconda3/lib/python3.9/site-packages/sklearn/ensemble/_forest.py:413: FutureWarning: `max_features='auto'` has been deprecated in 1.1 and will be removed in 1.3. To keep the past behaviour, explicitly set `max_features=1.0` or remove this parameter as it is also the default value for RandomForestRegressors and ExtraTreesRegressors.\n",
      "  warn(\n"
     ]
    },
    {
     "name": "stdout",
     "output_type": "stream",
     "text": [
      "[CV] END max_depth=20, max_features=auto, min_samples_leaf=1, min_samples_split=15, n_estimators=700; total time=   5.7s\n"
     ]
    },
    {
     "name": "stderr",
     "output_type": "stream",
     "text": [
      "/Users/samragneedutta/opt/anaconda3/lib/python3.9/site-packages/sklearn/ensemble/_forest.py:413: FutureWarning: `max_features='auto'` has been deprecated in 1.1 and will be removed in 1.3. To keep the past behaviour, explicitly set `max_features=1.0` or remove this parameter as it is also the default value for RandomForestRegressors and ExtraTreesRegressors.\n",
      "  warn(\n"
     ]
    },
    {
     "name": "stdout",
     "output_type": "stream",
     "text": [
      "[CV] END max_depth=20, max_features=auto, min_samples_leaf=1, min_samples_split=15, n_estimators=700; total time=   5.6s\n"
     ]
    },
    {
     "data": {
      "text/html": [
       "<style>#sk-container-id-2 {color: black;background-color: white;}#sk-container-id-2 pre{padding: 0;}#sk-container-id-2 div.sk-toggleable {background-color: white;}#sk-container-id-2 label.sk-toggleable__label {cursor: pointer;display: block;width: 100%;margin-bottom: 0;padding: 0.3em;box-sizing: border-box;text-align: center;}#sk-container-id-2 label.sk-toggleable__label-arrow:before {content: \"▸\";float: left;margin-right: 0.25em;color: #696969;}#sk-container-id-2 label.sk-toggleable__label-arrow:hover:before {color: black;}#sk-container-id-2 div.sk-estimator:hover label.sk-toggleable__label-arrow:before {color: black;}#sk-container-id-2 div.sk-toggleable__content {max-height: 0;max-width: 0;overflow: hidden;text-align: left;background-color: #f0f8ff;}#sk-container-id-2 div.sk-toggleable__content pre {margin: 0.2em;color: black;border-radius: 0.25em;background-color: #f0f8ff;}#sk-container-id-2 input.sk-toggleable__control:checked~div.sk-toggleable__content {max-height: 200px;max-width: 100%;overflow: auto;}#sk-container-id-2 input.sk-toggleable__control:checked~label.sk-toggleable__label-arrow:before {content: \"▾\";}#sk-container-id-2 div.sk-estimator input.sk-toggleable__control:checked~label.sk-toggleable__label {background-color: #d4ebff;}#sk-container-id-2 div.sk-label input.sk-toggleable__control:checked~label.sk-toggleable__label {background-color: #d4ebff;}#sk-container-id-2 input.sk-hidden--visually {border: 0;clip: rect(1px 1px 1px 1px);clip: rect(1px, 1px, 1px, 1px);height: 1px;margin: -1px;overflow: hidden;padding: 0;position: absolute;width: 1px;}#sk-container-id-2 div.sk-estimator {font-family: monospace;background-color: #f0f8ff;border: 1px dotted black;border-radius: 0.25em;box-sizing: border-box;margin-bottom: 0.5em;}#sk-container-id-2 div.sk-estimator:hover {background-color: #d4ebff;}#sk-container-id-2 div.sk-parallel-item::after {content: \"\";width: 100%;border-bottom: 1px solid gray;flex-grow: 1;}#sk-container-id-2 div.sk-label:hover label.sk-toggleable__label {background-color: #d4ebff;}#sk-container-id-2 div.sk-serial::before {content: \"\";position: absolute;border-left: 1px solid gray;box-sizing: border-box;top: 0;bottom: 0;left: 50%;z-index: 0;}#sk-container-id-2 div.sk-serial {display: flex;flex-direction: column;align-items: center;background-color: white;padding-right: 0.2em;padding-left: 0.2em;position: relative;}#sk-container-id-2 div.sk-item {position: relative;z-index: 1;}#sk-container-id-2 div.sk-parallel {display: flex;align-items: stretch;justify-content: center;background-color: white;position: relative;}#sk-container-id-2 div.sk-item::before, #sk-container-id-2 div.sk-parallel-item::before {content: \"\";position: absolute;border-left: 1px solid gray;box-sizing: border-box;top: 0;bottom: 0;left: 50%;z-index: -1;}#sk-container-id-2 div.sk-parallel-item {display: flex;flex-direction: column;z-index: 1;position: relative;background-color: white;}#sk-container-id-2 div.sk-parallel-item:first-child::after {align-self: flex-end;width: 50%;}#sk-container-id-2 div.sk-parallel-item:last-child::after {align-self: flex-start;width: 50%;}#sk-container-id-2 div.sk-parallel-item:only-child::after {width: 0;}#sk-container-id-2 div.sk-dashed-wrapped {border: 1px dashed gray;margin: 0 0.4em 0.5em 0.4em;box-sizing: border-box;padding-bottom: 0.4em;background-color: white;}#sk-container-id-2 div.sk-label label {font-family: monospace;font-weight: bold;display: inline-block;line-height: 1.2em;}#sk-container-id-2 div.sk-label-container {text-align: center;}#sk-container-id-2 div.sk-container {/* jupyter's `normalize.less` sets `[hidden] { display: none; }` but bootstrap.min.css set `[hidden] { display: none !important; }` so we also need the `!important` here to be able to override the default hidden behavior on the sphinx rendered scikit-learn.org. See: https://github.com/scikit-learn/scikit-learn/issues/21755 */display: inline-block !important;position: relative;}#sk-container-id-2 div.sk-text-repr-fallback {display: none;}</style><div id=\"sk-container-id-2\" class=\"sk-top-container\"><div class=\"sk-text-repr-fallback\"><pre>RandomizedSearchCV(cv=5, estimator=RandomForestRegressor(), n_jobs=1,\n",
       "                   param_distributions={&#x27;max_depth&#x27;: [5, 10, 15, 20, 25, 30],\n",
       "                                        &#x27;max_features&#x27;: [&#x27;auto&#x27;, &#x27;sqrt&#x27;],\n",
       "                                        &#x27;min_samples_leaf&#x27;: [1, 2, 5, 10],\n",
       "                                        &#x27;min_samples_split&#x27;: [2, 5, 10, 15,\n",
       "                                                              100],\n",
       "                                        &#x27;n_estimators&#x27;: [100, 200, 300, 400,\n",
       "                                                         500, 600, 700, 800,\n",
       "                                                         900, 1000, 1100,\n",
       "                                                         1200]},\n",
       "                   random_state=42, scoring=&#x27;neg_mean_squared_error&#x27;,\n",
       "                   verbose=2)</pre><b>In a Jupyter environment, please rerun this cell to show the HTML representation or trust the notebook. <br />On GitHub, the HTML representation is unable to render, please try loading this page with nbviewer.org.</b></div><div class=\"sk-container\" hidden><div class=\"sk-item sk-dashed-wrapped\"><div class=\"sk-label-container\"><div class=\"sk-label sk-toggleable\"><input class=\"sk-toggleable__control sk-hidden--visually\" id=\"sk-estimator-id-2\" type=\"checkbox\" ><label for=\"sk-estimator-id-2\" class=\"sk-toggleable__label sk-toggleable__label-arrow\">RandomizedSearchCV</label><div class=\"sk-toggleable__content\"><pre>RandomizedSearchCV(cv=5, estimator=RandomForestRegressor(), n_jobs=1,\n",
       "                   param_distributions={&#x27;max_depth&#x27;: [5, 10, 15, 20, 25, 30],\n",
       "                                        &#x27;max_features&#x27;: [&#x27;auto&#x27;, &#x27;sqrt&#x27;],\n",
       "                                        &#x27;min_samples_leaf&#x27;: [1, 2, 5, 10],\n",
       "                                        &#x27;min_samples_split&#x27;: [2, 5, 10, 15,\n",
       "                                                              100],\n",
       "                                        &#x27;n_estimators&#x27;: [100, 200, 300, 400,\n",
       "                                                         500, 600, 700, 800,\n",
       "                                                         900, 1000, 1100,\n",
       "                                                         1200]},\n",
       "                   random_state=42, scoring=&#x27;neg_mean_squared_error&#x27;,\n",
       "                   verbose=2)</pre></div></div></div><div class=\"sk-parallel\"><div class=\"sk-parallel-item\"><div class=\"sk-item\"><div class=\"sk-label-container\"><div class=\"sk-label sk-toggleable\"><input class=\"sk-toggleable__control sk-hidden--visually\" id=\"sk-estimator-id-3\" type=\"checkbox\" ><label for=\"sk-estimator-id-3\" class=\"sk-toggleable__label sk-toggleable__label-arrow\">estimator: RandomForestRegressor</label><div class=\"sk-toggleable__content\"><pre>RandomForestRegressor()</pre></div></div></div><div class=\"sk-serial\"><div class=\"sk-item\"><div class=\"sk-estimator sk-toggleable\"><input class=\"sk-toggleable__control sk-hidden--visually\" id=\"sk-estimator-id-4\" type=\"checkbox\" ><label for=\"sk-estimator-id-4\" class=\"sk-toggleable__label sk-toggleable__label-arrow\">RandomForestRegressor</label><div class=\"sk-toggleable__content\"><pre>RandomForestRegressor()</pre></div></div></div></div></div></div></div></div></div></div>"
      ],
      "text/plain": [
       "RandomizedSearchCV(cv=5, estimator=RandomForestRegressor(), n_jobs=1,\n",
       "                   param_distributions={'max_depth': [5, 10, 15, 20, 25, 30],\n",
       "                                        'max_features': ['auto', 'sqrt'],\n",
       "                                        'min_samples_leaf': [1, 2, 5, 10],\n",
       "                                        'min_samples_split': [2, 5, 10, 15,\n",
       "                                                              100],\n",
       "                                        'n_estimators': [100, 200, 300, 400,\n",
       "                                                         500, 600, 700, 800,\n",
       "                                                         900, 1000, 1100,\n",
       "                                                         1200]},\n",
       "                   random_state=42, scoring='neg_mean_squared_error',\n",
       "                   verbose=2)"
      ]
     },
     "execution_count": 91,
     "metadata": {},
     "output_type": "execute_result"
    }
   ],
   "source": [
    "rf_random.fit(X_train,Y_train)\n"
   ]
  },
  {
   "cell_type": "code",
   "execution_count": 92,
   "id": "3f24b82d",
   "metadata": {},
   "outputs": [
    {
     "name": "stdout",
     "output_type": "stream",
     "text": [
      "R-Squared is: 0.4721499430214072\n"
     ]
    }
   ],
   "source": [
    "y_hat = rf_random.predict(X_test)\n",
    "print (\"R-Squared is:\", metrics.r2_score(y_hat, Y_test))"
   ]
  },
  {
   "cell_type": "code",
   "execution_count": null,
   "id": "47a7a46b",
   "metadata": {},
   "outputs": [],
   "source": []
  },
  {
   "cell_type": "markdown",
   "id": "f4814b8e",
   "metadata": {},
   "source": [
    "<h1> GB regressor"
   ]
  },
  {
   "cell_type": "code",
   "execution_count": 93,
   "id": "053b8305",
   "metadata": {},
   "outputs": [
    {
     "name": "stdout",
     "output_type": "stream",
     "text": [
      "Training Score: 0.8792397578539058\n"
     ]
    }
   ],
   "source": [
    "#Gradient Boosting Regressor\n",
    "# Fit regression model\n",
    "from sklearn import ensemble\n",
    "params = {'n_estimators': 500, 'max_depth': 4, 'min_samples_split': 2,\n",
    "          'learning_rate': .01, 'loss': 'squared_error'} \n",
    "clf = ensemble.GradientBoostingRegressor(**params)\n",
    "predictions2 = clf.fit(X_train,Y_train)\n",
    "training_score = clf.score(X_train, Y_train)\n",
    "print(f\"Training Score: {training_score}\")"
   ]
  },
  {
   "cell_type": "code",
   "execution_count": 94,
   "id": "47712e2c",
   "metadata": {},
   "outputs": [
    {
     "name": "stdout",
     "output_type": "stream",
     "text": [
      "MSE: 7507908529049293.0, R2: 0.6278852269000561\n"
     ]
    }
   ],
   "source": [
    "predictions2 = np.expand_dims(clf.predict(X_test), axis = 1)\n",
    "MSE = mean_squared_error(Y_test, predictions2)\n",
    "r2 = clf.score(X_test, Y_test)\n",
    "print(f\"MSE: {MSE}, R2: {r2}\")"
   ]
  },
  {
   "cell_type": "code",
   "execution_count": 95,
   "id": "178f7b10",
   "metadata": {},
   "outputs": [
    {
     "data": {
      "text/html": [
       "<div>\n",
       "<style scoped>\n",
       "    .dataframe tbody tr th:only-of-type {\n",
       "        vertical-align: middle;\n",
       "    }\n",
       "\n",
       "    .dataframe tbody tr th {\n",
       "        vertical-align: top;\n",
       "    }\n",
       "\n",
       "    .dataframe thead th {\n",
       "        text-align: right;\n",
       "    }\n",
       "</style>\n",
       "<table border=\"1\" class=\"dataframe\">\n",
       "  <thead>\n",
       "    <tr style=\"text-align: right;\">\n",
       "      <th></th>\n",
       "      <th>predicted_revenue</th>\n",
       "    </tr>\n",
       "  </thead>\n",
       "  <tbody>\n",
       "    <tr>\n",
       "      <th>0</th>\n",
       "      <td>3.453603e+07</td>\n",
       "    </tr>\n",
       "    <tr>\n",
       "      <th>1</th>\n",
       "      <td>1.899397e+07</td>\n",
       "    </tr>\n",
       "    <tr>\n",
       "      <th>2</th>\n",
       "      <td>5.647956e+07</td>\n",
       "    </tr>\n",
       "    <tr>\n",
       "      <th>3</th>\n",
       "      <td>4.297314e+07</td>\n",
       "    </tr>\n",
       "    <tr>\n",
       "      <th>4</th>\n",
       "      <td>8.973131e+06</td>\n",
       "    </tr>\n",
       "  </tbody>\n",
       "</table>\n",
       "</div>"
      ],
      "text/plain": [
       "   predicted_revenue\n",
       "0       3.453603e+07\n",
       "1       1.899397e+07\n",
       "2       5.647956e+07\n",
       "3       4.297314e+07\n",
       "4       8.973131e+06"
      ]
     },
     "execution_count": 95,
     "metadata": {},
     "output_type": "execute_result"
    }
   ],
   "source": [
    "#Predictions for the test data\n",
    "revenue_predictions = clf.predict(X_test)\n",
    "gbr_predictions = pd.DataFrame(revenue_predictions, columns = ['predicted_revenue'])\n",
    "gbr_predictions.head()"
   ]
  },
  {
   "cell_type": "code",
   "execution_count": null,
   "id": "9a8b4709",
   "metadata": {},
   "outputs": [],
   "source": []
  }
 ],
 "metadata": {
  "kernelspec": {
   "display_name": "Python 3 (ipykernel)",
   "language": "python",
   "name": "python3"
  },
  "language_info": {
   "codemirror_mode": {
    "name": "ipython",
    "version": 3
   },
   "file_extension": ".py",
   "mimetype": "text/x-python",
   "name": "python",
   "nbconvert_exporter": "python",
   "pygments_lexer": "ipython3",
   "version": "3.9.12"
  },
  "toc": {
   "base_numbering": 1,
   "nav_menu": {},
   "number_sections": true,
   "sideBar": true,
   "skip_h1_title": false,
   "title_cell": "Table of Contents",
   "title_sidebar": "Contents",
   "toc_cell": false,
   "toc_position": {},
   "toc_section_display": true,
   "toc_window_display": false
  }
 },
 "nbformat": 4,
 "nbformat_minor": 5
}
